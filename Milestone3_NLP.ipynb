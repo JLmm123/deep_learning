{
  "nbformat": 4,
  "nbformat_minor": 0,
  "metadata": {
    "colab": {
      "provenance": [],
      "gpuType": "T4",
      "toc_visible": true,
      "include_colab_link": true
    },
    "kernelspec": {
      "name": "python3",
      "display_name": "Python 3"
    },
    "language_info": {
      "name": "python"
    },
    "accelerator": "GPU"
  },
  "cells": [
    {
      "cell_type": "markdown",
      "metadata": {
        "id": "view-in-github",
        "colab_type": "text"
      },
      "source": [
        "<a href=\"https://colab.research.google.com/github/JLmm123/deep_learning/blob/main/Milestone3_NLP.ipynb\" target=\"_parent\"><img src=\"https://colab.research.google.com/assets/colab-badge.svg\" alt=\"Open In Colab\"/></a>"
      ]
    },
    {
      "cell_type": "code",
      "source": [
        "%pip install torchinfo"
      ],
      "metadata": {
        "colab": {
          "base_uri": "https://localhost:8080/"
        },
        "id": "85gV2n4x4rrg",
        "outputId": "be694135-5fe1-4243-9089-cb949624a674"
      },
      "execution_count": null,
      "outputs": [
        {
          "metadata": {
            "tags": null
          },
          "name": "stdout",
          "output_type": "stream",
          "text": [
            "Requirement already satisfied: torchinfo in /usr/local/lib/python3.10/dist-packages (1.8.0)\n"
          ]
        }
      ]
    },
    {
      "cell_type": "code",
      "execution_count": null,
      "metadata": {
        "id": "2eG6d9MfdLpp"
      },
      "outputs": [],
      "source": [
        "import pandas as pd\n",
        "import numpy as np\n",
        "import matplotlib.pyplot as plt\n",
        "import seaborn as sns\n",
        "from matplotlib import cm\n",
        "from sklearn.model_selection import train_test_split\n",
        "import gdown\n",
        "\n",
        "import torch\n",
        "import torchvision\n",
        "from torchvision import transforms, utils\n",
        "import torch.nn as nn\n",
        "import torch.optim as optim\n",
        "import torchvision.transforms as transforms\n",
        "from collections import Counter\n",
        "from PIL import Image\n",
        "from skimage import io, transform\n",
        "import os\n",
        "from torchvision.io import read_image\n",
        "from torch.utils.data import Dataset, DataLoader\n",
        "from collections import Counter\n",
        "from google.colab import drive\n",
        "from prophet import Prophet\n",
        "from statsmodels.tsa.arima.model import ARIMA\n",
        "from torch.utils.data import TensorDataset\n"
      ]
    },
    {
      "cell_type": "code",
      "source": [
        "if not os.path.exists('./data'):\n",
        "    os.mkdir('./data')"
      ],
      "metadata": {
        "id": "s_cXxlc8iswm"
      },
      "execution_count": null,
      "outputs": []
    },
    {
      "cell_type": "code",
      "source": [
        "if not os.path.exists('./data/IMDB Dataset.csv.zip'):\n",
        "    gdown.download(id='1q1JkdXgCELu2aIHpxmSwCzYYYU7B-Phd', output='./data/IMDB Dataset.csv.zip')\n",
        "\n",
        "!yes n | unzip './data/IMDB Dataset.csv.zip' -d './data/'\n",
        "\n",
        "nlp_df = pd.read_csv('./data/IMDB Dataset.csv')\n",
        "\n",
        "nlp_df"
      ],
      "metadata": {
        "id": "nJgaSfW7hWry",
        "colab": {
          "base_uri": "https://localhost:8080/",
          "height": 521
        },
        "outputId": "4fba0a7c-1925-4d9f-a30e-77015bd4eb66"
      },
      "execution_count": null,
      "outputs": [
        {
          "output_type": "stream",
          "name": "stderr",
          "text": [
            "Downloading...\n",
            "From: https://drive.google.com/uc?id=1q1JkdXgCELu2aIHpxmSwCzYYYU7B-Phd\n",
            "To: /content/data/IMDB Dataset.csv.zip\n",
            "100%|██████████| 27.0M/27.0M [00:00<00:00, 73.0MB/s]\n"
          ]
        },
        {
          "output_type": "stream",
          "name": "stdout",
          "text": [
            "Archive:  ./data/IMDB Dataset.csv.zip\n",
            "  inflating: ./data/IMDB Dataset.csv  \n"
          ]
        },
        {
          "output_type": "execute_result",
          "data": {
            "text/plain": [
              "                                                  review sentiment\n",
              "0      One of the other reviewers has mentioned that ...  positive\n",
              "1      A wonderful little production. <br /><br />The...  positive\n",
              "2      I thought this was a wonderful way to spend ti...  positive\n",
              "3      Basically there's a family where a little boy ...  negative\n",
              "4      Petter Mattei's \"Love in the Time of Money\" is...  positive\n",
              "...                                                  ...       ...\n",
              "49995  I thought this movie did a down right good job...  positive\n",
              "49996  Bad plot, bad dialogue, bad acting, idiotic di...  negative\n",
              "49997  I am a Catholic taught in parochial elementary...  negative\n",
              "49998  I'm going to have to disagree with the previou...  negative\n",
              "49999  No one expects the Star Trek movies to be high...  negative\n",
              "\n",
              "[50000 rows x 2 columns]"
            ],
            "text/html": [
              "\n",
              "  <div id=\"df-0925e446-b800-468e-b036-89a0a87421ee\" class=\"colab-df-container\">\n",
              "    <div>\n",
              "<style scoped>\n",
              "    .dataframe tbody tr th:only-of-type {\n",
              "        vertical-align: middle;\n",
              "    }\n",
              "\n",
              "    .dataframe tbody tr th {\n",
              "        vertical-align: top;\n",
              "    }\n",
              "\n",
              "    .dataframe thead th {\n",
              "        text-align: right;\n",
              "    }\n",
              "</style>\n",
              "<table border=\"1\" class=\"dataframe\">\n",
              "  <thead>\n",
              "    <tr style=\"text-align: right;\">\n",
              "      <th></th>\n",
              "      <th>review</th>\n",
              "      <th>sentiment</th>\n",
              "    </tr>\n",
              "  </thead>\n",
              "  <tbody>\n",
              "    <tr>\n",
              "      <th>0</th>\n",
              "      <td>One of the other reviewers has mentioned that ...</td>\n",
              "      <td>positive</td>\n",
              "    </tr>\n",
              "    <tr>\n",
              "      <th>1</th>\n",
              "      <td>A wonderful little production. &lt;br /&gt;&lt;br /&gt;The...</td>\n",
              "      <td>positive</td>\n",
              "    </tr>\n",
              "    <tr>\n",
              "      <th>2</th>\n",
              "      <td>I thought this was a wonderful way to spend ti...</td>\n",
              "      <td>positive</td>\n",
              "    </tr>\n",
              "    <tr>\n",
              "      <th>3</th>\n",
              "      <td>Basically there's a family where a little boy ...</td>\n",
              "      <td>negative</td>\n",
              "    </tr>\n",
              "    <tr>\n",
              "      <th>4</th>\n",
              "      <td>Petter Mattei's \"Love in the Time of Money\" is...</td>\n",
              "      <td>positive</td>\n",
              "    </tr>\n",
              "    <tr>\n",
              "      <th>...</th>\n",
              "      <td>...</td>\n",
              "      <td>...</td>\n",
              "    </tr>\n",
              "    <tr>\n",
              "      <th>49995</th>\n",
              "      <td>I thought this movie did a down right good job...</td>\n",
              "      <td>positive</td>\n",
              "    </tr>\n",
              "    <tr>\n",
              "      <th>49996</th>\n",
              "      <td>Bad plot, bad dialogue, bad acting, idiotic di...</td>\n",
              "      <td>negative</td>\n",
              "    </tr>\n",
              "    <tr>\n",
              "      <th>49997</th>\n",
              "      <td>I am a Catholic taught in parochial elementary...</td>\n",
              "      <td>negative</td>\n",
              "    </tr>\n",
              "    <tr>\n",
              "      <th>49998</th>\n",
              "      <td>I'm going to have to disagree with the previou...</td>\n",
              "      <td>negative</td>\n",
              "    </tr>\n",
              "    <tr>\n",
              "      <th>49999</th>\n",
              "      <td>No one expects the Star Trek movies to be high...</td>\n",
              "      <td>negative</td>\n",
              "    </tr>\n",
              "  </tbody>\n",
              "</table>\n",
              "<p>50000 rows × 2 columns</p>\n",
              "</div>\n",
              "    <div class=\"colab-df-buttons\">\n",
              "\n",
              "  <div class=\"colab-df-container\">\n",
              "    <button class=\"colab-df-convert\" onclick=\"convertToInteractive('df-0925e446-b800-468e-b036-89a0a87421ee')\"\n",
              "            title=\"Convert this dataframe to an interactive table.\"\n",
              "            style=\"display:none;\">\n",
              "\n",
              "  <svg xmlns=\"http://www.w3.org/2000/svg\" height=\"24px\" viewBox=\"0 -960 960 960\">\n",
              "    <path d=\"M120-120v-720h720v720H120Zm60-500h600v-160H180v160Zm220 220h160v-160H400v160Zm0 220h160v-160H400v160ZM180-400h160v-160H180v160Zm440 0h160v-160H620v160ZM180-180h160v-160H180v160Zm440 0h160v-160H620v160Z\"/>\n",
              "  </svg>\n",
              "    </button>\n",
              "\n",
              "  <style>\n",
              "    .colab-df-container {\n",
              "      display:flex;\n",
              "      gap: 12px;\n",
              "    }\n",
              "\n",
              "    .colab-df-convert {\n",
              "      background-color: #E8F0FE;\n",
              "      border: none;\n",
              "      border-radius: 50%;\n",
              "      cursor: pointer;\n",
              "      display: none;\n",
              "      fill: #1967D2;\n",
              "      height: 32px;\n",
              "      padding: 0 0 0 0;\n",
              "      width: 32px;\n",
              "    }\n",
              "\n",
              "    .colab-df-convert:hover {\n",
              "      background-color: #E2EBFA;\n",
              "      box-shadow: 0px 1px 2px rgba(60, 64, 67, 0.3), 0px 1px 3px 1px rgba(60, 64, 67, 0.15);\n",
              "      fill: #174EA6;\n",
              "    }\n",
              "\n",
              "    .colab-df-buttons div {\n",
              "      margin-bottom: 4px;\n",
              "    }\n",
              "\n",
              "    [theme=dark] .colab-df-convert {\n",
              "      background-color: #3B4455;\n",
              "      fill: #D2E3FC;\n",
              "    }\n",
              "\n",
              "    [theme=dark] .colab-df-convert:hover {\n",
              "      background-color: #434B5C;\n",
              "      box-shadow: 0px 1px 3px 1px rgba(0, 0, 0, 0.15);\n",
              "      filter: drop-shadow(0px 1px 2px rgba(0, 0, 0, 0.3));\n",
              "      fill: #FFFFFF;\n",
              "    }\n",
              "  </style>\n",
              "\n",
              "    <script>\n",
              "      const buttonEl =\n",
              "        document.querySelector('#df-0925e446-b800-468e-b036-89a0a87421ee button.colab-df-convert');\n",
              "      buttonEl.style.display =\n",
              "        google.colab.kernel.accessAllowed ? 'block' : 'none';\n",
              "\n",
              "      async function convertToInteractive(key) {\n",
              "        const element = document.querySelector('#df-0925e446-b800-468e-b036-89a0a87421ee');\n",
              "        const dataTable =\n",
              "          await google.colab.kernel.invokeFunction('convertToInteractive',\n",
              "                                                    [key], {});\n",
              "        if (!dataTable) return;\n",
              "\n",
              "        const docLinkHtml = 'Like what you see? Visit the ' +\n",
              "          '<a target=\"_blank\" href=https://colab.research.google.com/notebooks/data_table.ipynb>data table notebook</a>'\n",
              "          + ' to learn more about interactive tables.';\n",
              "        element.innerHTML = '';\n",
              "        dataTable['output_type'] = 'display_data';\n",
              "        await google.colab.output.renderOutput(dataTable, element);\n",
              "        const docLink = document.createElement('div');\n",
              "        docLink.innerHTML = docLinkHtml;\n",
              "        element.appendChild(docLink);\n",
              "      }\n",
              "    </script>\n",
              "  </div>\n",
              "\n",
              "\n",
              "<div id=\"df-c4a54ca2-07d0-4870-a6a8-e2c645503621\">\n",
              "  <button class=\"colab-df-quickchart\" onclick=\"quickchart('df-c4a54ca2-07d0-4870-a6a8-e2c645503621')\"\n",
              "            title=\"Suggest charts\"\n",
              "            style=\"display:none;\">\n",
              "\n",
              "<svg xmlns=\"http://www.w3.org/2000/svg\" height=\"24px\"viewBox=\"0 0 24 24\"\n",
              "     width=\"24px\">\n",
              "    <g>\n",
              "        <path d=\"M19 3H5c-1.1 0-2 .9-2 2v14c0 1.1.9 2 2 2h14c1.1 0 2-.9 2-2V5c0-1.1-.9-2-2-2zM9 17H7v-7h2v7zm4 0h-2V7h2v10zm4 0h-2v-4h2v4z\"/>\n",
              "    </g>\n",
              "</svg>\n",
              "  </button>\n",
              "\n",
              "<style>\n",
              "  .colab-df-quickchart {\n",
              "      --bg-color: #E8F0FE;\n",
              "      --fill-color: #1967D2;\n",
              "      --hover-bg-color: #E2EBFA;\n",
              "      --hover-fill-color: #174EA6;\n",
              "      --disabled-fill-color: #AAA;\n",
              "      --disabled-bg-color: #DDD;\n",
              "  }\n",
              "\n",
              "  [theme=dark] .colab-df-quickchart {\n",
              "      --bg-color: #3B4455;\n",
              "      --fill-color: #D2E3FC;\n",
              "      --hover-bg-color: #434B5C;\n",
              "      --hover-fill-color: #FFFFFF;\n",
              "      --disabled-bg-color: #3B4455;\n",
              "      --disabled-fill-color: #666;\n",
              "  }\n",
              "\n",
              "  .colab-df-quickchart {\n",
              "    background-color: var(--bg-color);\n",
              "    border: none;\n",
              "    border-radius: 50%;\n",
              "    cursor: pointer;\n",
              "    display: none;\n",
              "    fill: var(--fill-color);\n",
              "    height: 32px;\n",
              "    padding: 0;\n",
              "    width: 32px;\n",
              "  }\n",
              "\n",
              "  .colab-df-quickchart:hover {\n",
              "    background-color: var(--hover-bg-color);\n",
              "    box-shadow: 0 1px 2px rgba(60, 64, 67, 0.3), 0 1px 3px 1px rgba(60, 64, 67, 0.15);\n",
              "    fill: var(--button-hover-fill-color);\n",
              "  }\n",
              "\n",
              "  .colab-df-quickchart-complete:disabled,\n",
              "  .colab-df-quickchart-complete:disabled:hover {\n",
              "    background-color: var(--disabled-bg-color);\n",
              "    fill: var(--disabled-fill-color);\n",
              "    box-shadow: none;\n",
              "  }\n",
              "\n",
              "  .colab-df-spinner {\n",
              "    border: 2px solid var(--fill-color);\n",
              "    border-color: transparent;\n",
              "    border-bottom-color: var(--fill-color);\n",
              "    animation:\n",
              "      spin 1s steps(1) infinite;\n",
              "  }\n",
              "\n",
              "  @keyframes spin {\n",
              "    0% {\n",
              "      border-color: transparent;\n",
              "      border-bottom-color: var(--fill-color);\n",
              "      border-left-color: var(--fill-color);\n",
              "    }\n",
              "    20% {\n",
              "      border-color: transparent;\n",
              "      border-left-color: var(--fill-color);\n",
              "      border-top-color: var(--fill-color);\n",
              "    }\n",
              "    30% {\n",
              "      border-color: transparent;\n",
              "      border-left-color: var(--fill-color);\n",
              "      border-top-color: var(--fill-color);\n",
              "      border-right-color: var(--fill-color);\n",
              "    }\n",
              "    40% {\n",
              "      border-color: transparent;\n",
              "      border-right-color: var(--fill-color);\n",
              "      border-top-color: var(--fill-color);\n",
              "    }\n",
              "    60% {\n",
              "      border-color: transparent;\n",
              "      border-right-color: var(--fill-color);\n",
              "    }\n",
              "    80% {\n",
              "      border-color: transparent;\n",
              "      border-right-color: var(--fill-color);\n",
              "      border-bottom-color: var(--fill-color);\n",
              "    }\n",
              "    90% {\n",
              "      border-color: transparent;\n",
              "      border-bottom-color: var(--fill-color);\n",
              "    }\n",
              "  }\n",
              "</style>\n",
              "\n",
              "  <script>\n",
              "    async function quickchart(key) {\n",
              "      const quickchartButtonEl =\n",
              "        document.querySelector('#' + key + ' button');\n",
              "      quickchartButtonEl.disabled = true;  // To prevent multiple clicks.\n",
              "      quickchartButtonEl.classList.add('colab-df-spinner');\n",
              "      try {\n",
              "        const charts = await google.colab.kernel.invokeFunction(\n",
              "            'suggestCharts', [key], {});\n",
              "      } catch (error) {\n",
              "        console.error('Error during call to suggestCharts:', error);\n",
              "      }\n",
              "      quickchartButtonEl.classList.remove('colab-df-spinner');\n",
              "      quickchartButtonEl.classList.add('colab-df-quickchart-complete');\n",
              "    }\n",
              "    (() => {\n",
              "      let quickchartButtonEl =\n",
              "        document.querySelector('#df-c4a54ca2-07d0-4870-a6a8-e2c645503621 button');\n",
              "      quickchartButtonEl.style.display =\n",
              "        google.colab.kernel.accessAllowed ? 'block' : 'none';\n",
              "    })();\n",
              "  </script>\n",
              "</div>\n",
              "    </div>\n",
              "  </div>\n"
            ]
          },
          "metadata": {},
          "execution_count": 4
        }
      ]
    },
    {
      "cell_type": "markdown",
      "source": [
        "Create a label coumn of 0 and 1"
      ],
      "metadata": {
        "id": "ldNPuGKnQR48"
      }
    },
    {
      "cell_type": "code",
      "source": [
        "nlp_df['label'] = nlp_df['sentiment'].apply(lambda x: 1 if x=='positive' else 0)"
      ],
      "metadata": {
        "id": "OBJrYO2CQVZZ"
      },
      "execution_count": null,
      "outputs": []
    },
    {
      "cell_type": "markdown",
      "source": [],
      "metadata": {
        "id": "Bbk_b7UjQRt_"
      }
    },
    {
      "cell_type": "code",
      "source": [
        "import nltk\n",
        "nltk.download('stopwords')\n",
        "from nltk.corpus import stopwords\n",
        "from nltk.tokenize import word_tokenize\n",
        "nltk.download('punkt')\n",
        "from nltk.stem import WordNetLemmatizer\n",
        "nltk.download('wordnet')\n"
      ],
      "metadata": {
        "id": "cX6h0BjjhXb9",
        "colab": {
          "base_uri": "https://localhost:8080/"
        },
        "outputId": "edc7f44c-76b3-4c3f-8b7e-b626dc770dd7"
      },
      "execution_count": null,
      "outputs": [
        {
          "output_type": "stream",
          "name": "stderr",
          "text": [
            "[nltk_data] Downloading package stopwords to /root/nltk_data...\n",
            "[nltk_data]   Unzipping corpora/stopwords.zip.\n",
            "[nltk_data] Downloading package punkt to /root/nltk_data...\n",
            "[nltk_data]   Unzipping tokenizers/punkt.zip.\n",
            "[nltk_data] Downloading package wordnet to /root/nltk_data...\n"
          ]
        },
        {
          "output_type": "execute_result",
          "data": {
            "text/plain": [
              "True"
            ]
          },
          "metadata": {},
          "execution_count": 6
        }
      ]
    },
    {
      "cell_type": "code",
      "source": [
        "from bs4 import BeautifulSoup\n",
        "def remove_html_tags(s):\n",
        "  soup = BeautifulSoup(s, \"html.parser\")\n",
        "  return soup.get_text() if s else None\n",
        "\n",
        "nlp_df['review'] = nlp_df['review'].apply(lambda x: remove_html_tags(x))\n",
        "#reduce sample size to do training. Will size up for testing and validation.\n",
        "nlp_df_reduced = nlp_df"
      ],
      "metadata": {
        "id": "Rnu1TfqnhaC_",
        "colab": {
          "base_uri": "https://localhost:8080/"
        },
        "outputId": "4393a486-eba2-4435-8dec-42fcf69894c7"
      },
      "execution_count": null,
      "outputs": [
        {
          "output_type": "stream",
          "name": "stderr",
          "text": [
            "<ipython-input-7-07959701cc40>:3: MarkupResemblesLocatorWarning: The input looks more like a filename than markup. You may want to open this file and pass the filehandle into Beautiful Soup.\n",
            "  soup = BeautifulSoup(s, \"html.parser\")\n"
          ]
        }
      ]
    },
    {
      "cell_type": "code",
      "source": [
        "stop_words = set(stopwords.words(\"english\"))\n",
        "lemmatizer = WordNetLemmatizer()\n",
        "def get_lemmatized_tokens(text):\n",
        "    tokens = word_tokenize(text)\n",
        "    filtered_words = [lemmatizer.lemmatize(word.lower()) for word in tokens\n",
        "                      if len(word) > 2 and word.isalpha()\n",
        "                      and not word.lower() in stop_words]\n",
        "    return filtered_words\n"
      ],
      "metadata": {
        "id": "t3qymYZGhdnL"
      },
      "execution_count": null,
      "outputs": []
    },
    {
      "cell_type": "code",
      "source": [
        "# tokenize each comment\n",
        "lemmatized_tokens = list(map(get_lemmatized_tokens, nlp_df['review'].values))\n",
        "print(lemmatized_tokens[: 2])"
      ],
      "metadata": {
        "id": "6jNx937ZFeBb",
        "colab": {
          "base_uri": "https://localhost:8080/"
        },
        "outputId": "558f51e9-a519-4d79-e7dc-0449ccedb882"
      },
      "execution_count": null,
      "outputs": [
        {
          "output_type": "stream",
          "name": "stdout",
          "text": [
            "[['one', 'reviewer', 'mentioned', 'watching', 'episode', 'hooked', 'right', 'exactly', 'happened', 'first', 'thing', 'struck', 'brutality', 'unflinching', 'scene', 'violence', 'set', 'right', 'word', 'trust', 'show', 'faint', 'hearted', 'timid', 'show', 'pull', 'punch', 'regard', 'drug', 'sex', 'violence', 'hardcore', 'classic', 'use', 'called', 'nickname', 'given', 'oswald', 'maximum', 'security', 'state', 'penitentary', 'focus', 'mainly', 'emerald', 'city', 'experimental', 'section', 'prison', 'cell', 'glass', 'front', 'face', 'inwards', 'privacy', 'high', 'agenda', 'city', 'home', 'many', 'aryan', 'muslim', 'gangsta', 'latino', 'christian', 'italian', 'irish', 'scuffle', 'death', 'stare', 'dodgy', 'dealing', 'shady', 'agreement', 'never', 'far', 'would', 'say', 'main', 'appeal', 'show', 'due', 'fact', 'go', 'show', 'would', 'dare', 'forget', 'pretty', 'picture', 'painted', 'mainstream', 'audience', 'forget', 'charm', 'forget', 'romance', 'mess', 'around', 'first', 'episode', 'ever', 'saw', 'struck', 'nasty', 'surreal', 'could', 'say', 'ready', 'watched', 'developed', 'taste', 'got', 'accustomed', 'high', 'level', 'graphic', 'violence', 'violence', 'injustice', 'crooked', 'guard', 'sold', 'nickel', 'inmate', 'kill', 'order', 'get', 'away', 'well', 'mannered', 'middle', 'class', 'inmate', 'turned', 'prison', 'bitch', 'due', 'lack', 'street', 'skill', 'prison', 'experience', 'watching', 'may', 'become', 'comfortable', 'uncomfortable', 'viewing', 'thats', 'get', 'touch', 'darker', 'side'], ['wonderful', 'little', 'production', 'filming', 'technique', 'fashion', 'give', 'comforting', 'sometimes', 'discomforting', 'sense', 'realism', 'entire', 'piece', 'actor', 'extremely', 'well', 'michael', 'sheen', 'got', 'polari', 'voice', 'pat', 'truly', 'see', 'seamless', 'editing', 'guided', 'reference', 'williams', 'diary', 'entry', 'well', 'worth', 'watching', 'terrificly', 'written', 'performed', 'piece', 'masterful', 'production', 'one', 'great', 'master', 'comedy', 'life', 'realism', 'really', 'come', 'home', 'little', 'thing', 'fantasy', 'guard', 'rather', 'use', 'traditional', 'technique', 'remains', 'solid', 'disappears', 'play', 'knowledge', 'sens', 'particularly', 'scene', 'concerning', 'orton', 'halliwell', 'set', 'particularly', 'flat', 'halliwell', 'mural', 'decorating', 'every', 'surface', 'terribly', 'well', 'done']]\n"
          ]
        }
      ]
    },
    {
      "cell_type": "code",
      "source": [
        "lemmatized_reviews = list(map(' '.join, lemmatized_tokens))\n",
        "lemmatized_reviews[: 2]"
      ],
      "metadata": {
        "id": "mKIVyKjGhi_u",
        "colab": {
          "base_uri": "https://localhost:8080/"
        },
        "outputId": "746fc10c-48c5-432b-92f5-2a25e5d16e12"
      },
      "execution_count": null,
      "outputs": [
        {
          "output_type": "execute_result",
          "data": {
            "text/plain": [
              "['one reviewer mentioned watching episode hooked right exactly happened first thing struck brutality unflinching scene violence set right word trust show faint hearted timid show pull punch regard drug sex violence hardcore classic use called nickname given oswald maximum security state penitentary focus mainly emerald city experimental section prison cell glass front face inwards privacy high agenda city home many aryan muslim gangsta latino christian italian irish scuffle death stare dodgy dealing shady agreement never far would say main appeal show due fact go show would dare forget pretty picture painted mainstream audience forget charm forget romance mess around first episode ever saw struck nasty surreal could say ready watched developed taste got accustomed high level graphic violence violence injustice crooked guard sold nickel inmate kill order get away well mannered middle class inmate turned prison bitch due lack street skill prison experience watching may become comfortable uncomfortable viewing thats get touch darker side',\n",
              " 'wonderful little production filming technique fashion give comforting sometimes discomforting sense realism entire piece actor extremely well michael sheen got polari voice pat truly see seamless editing guided reference williams diary entry well worth watching terrificly written performed piece masterful production one great master comedy life realism really come home little thing fantasy guard rather use traditional technique remains solid disappears play knowledge sens particularly scene concerning orton halliwell set particularly flat halliwell mural decorating every surface terribly well done']"
            ]
          },
          "metadata": {},
          "execution_count": 10
        }
      ]
    },
    {
      "cell_type": "markdown",
      "source": [
        "Create the \"vocabulary\" to index mapping\n",
        "<SOS> and <EOS> are short for \"start of sentence\" and \"end of sentence\" respectively.\n",
        "They are tokens used to identify the beginning and ending of each sentence in order to train the model.\n",
        "They will be inserted at the beginning and end of every sentence\n"
      ],
      "metadata": {
        "id": "4ShWMypV_30m"
      }
    },
    {
      "cell_type": "code",
      "source": [
        "nlp_df_reduced['lemmatized_tokens'] = nlp_df_reduced['review'].apply(lambda x: get_lemmatized_tokens(x))\n"
      ],
      "metadata": {
        "id": "Wz21OXw6Bzq2"
      },
      "execution_count": null,
      "outputs": []
    },
    {
      "cell_type": "code",
      "source": [
        "word_list=[]\n",
        "def collect_all_word(x):\n",
        "  word_list.extend(x)"
      ],
      "metadata": {
        "id": "0ADD_PXbJJxg"
      },
      "execution_count": null,
      "outputs": []
    },
    {
      "cell_type": "code",
      "source": [
        "nlp_df_reduced['lemmatized_tokens'].apply(lambda x: collect_all_word(x))"
      ],
      "metadata": {
        "id": "cklPkCmOh1Cm",
        "colab": {
          "base_uri": "https://localhost:8080/"
        },
        "outputId": "5a50d4c1-9df7-4e02-b91f-2d90a8e6818b"
      },
      "execution_count": null,
      "outputs": [
        {
          "output_type": "execute_result",
          "data": {
            "text/plain": [
              "0        None\n",
              "1        None\n",
              "2        None\n",
              "3        None\n",
              "4        None\n",
              "         ... \n",
              "49995    None\n",
              "49996    None\n",
              "49997    None\n",
              "49998    None\n",
              "49999    None\n",
              "Name: lemmatized_tokens, Length: 50000, dtype: object"
            ]
          },
          "metadata": {},
          "execution_count": 13
        }
      ]
    },
    {
      "cell_type": "code",
      "source": [
        "counter = Counter(word_list)\n",
        "\n",
        "top_words = [word for word, count in counter.most_common(1000)]"
      ],
      "metadata": {
        "id": "ke4kKW65DlzM"
      },
      "execution_count": null,
      "outputs": []
    },
    {
      "cell_type": "code",
      "source": [
        "len(set(top_words))"
      ],
      "metadata": {
        "id": "-_VyTRMjH8w8",
        "colab": {
          "base_uri": "https://localhost:8080/"
        },
        "outputId": "be1e9317-b8c6-4e45-fc4f-2c9456fe55c8"
      },
      "execution_count": null,
      "outputs": [
        {
          "output_type": "execute_result",
          "data": {
            "text/plain": [
              "1000"
            ]
          },
          "metadata": {},
          "execution_count": 15
        }
      ]
    },
    {
      "cell_type": "code",
      "source": [
        "index2word = [\"<PAD>\", \"<SOS>\", \"<EOS>\"]\n",
        "index2word.extend(top_words)"
      ],
      "metadata": {
        "id": "7n0d8TISBgzD"
      },
      "execution_count": null,
      "outputs": []
    },
    {
      "cell_type": "code",
      "source": [
        "index2word[10]"
      ],
      "metadata": {
        "id": "bfdioK2IKKgE",
        "colab": {
          "base_uri": "https://localhost:8080/",
          "height": 37
        },
        "outputId": "2c67973c-157b-433c-dab7-e9829616daea"
      },
      "execution_count": null,
      "outputs": [
        {
          "output_type": "execute_result",
          "data": {
            "text/plain": [
              "'would'"
            ],
            "application/vnd.google.colaboratory.intrinsic+json": {
              "type": "string"
            }
          },
          "metadata": {},
          "execution_count": 17
        }
      ]
    },
    {
      "cell_type": "code",
      "source": [
        "word2index = {token: idx for idx, token in enumerate(index2word)}"
      ],
      "metadata": {
        "id": "AG__S-s6PMj0"
      },
      "execution_count": null,
      "outputs": []
    },
    {
      "cell_type": "code",
      "source": [
        "word2index[\"bad\"]"
      ],
      "metadata": {
        "id": "V76wlDPJPWuW",
        "colab": {
          "base_uri": "https://localhost:8080/"
        },
        "outputId": "3814b153-5312-4048-d078-8103e8dc3712"
      },
      "execution_count": null,
      "outputs": [
        {
          "output_type": "execute_result",
          "data": {
            "text/plain": [
              "23"
            ]
          },
          "metadata": {},
          "execution_count": 19
        }
      ]
    },
    {
      "cell_type": "code",
      "source": [
        "sen_length = 80"
      ],
      "metadata": {
        "id": "SWb1oJNYRtt-"
      },
      "execution_count": null,
      "outputs": []
    },
    {
      "cell_type": "code",
      "source": [
        "def encode_and_pad(sen, length):\n",
        "    sos = [word2index[\"<SOS>\"]]\n",
        "    eos = [word2index[\"<EOS>\"]]\n",
        "    pad = [word2index[\"<PAD>\"]]\n",
        "\n",
        "    encoded = [word2index[w] for w in sen if w in top_words]\n",
        "    if len(encoded) >length-2:\n",
        "      truncated = encoded[:length-2]\n",
        "      return sos + truncated + eos\n",
        "    else:\n",
        "      n_pads = length - 2 - len(encoded)\n",
        "    return  sos + encoded + eos + pad * n_pads\n"
      ],
      "metadata": {
        "id": "n0-esDWDRu0n"
      },
      "execution_count": null,
      "outputs": []
    },
    {
      "cell_type": "code",
      "source": [
        "nlp_df_reduced['encoded_sentence'] = nlp_df_reduced['lemmatized_tokens'].apply(lambda x: encode_and_pad(x,sen_length))"
      ],
      "metadata": {
        "id": "ITmAyt8bSBnz"
      },
      "execution_count": null,
      "outputs": []
    },
    {
      "cell_type": "code",
      "source": [
        "print(nlp_df_reduced['encoded_sentence'][10])"
      ],
      "metadata": {
        "id": "srfGwGr8Qot4",
        "colab": {
          "base_uri": "https://localhost:8080/"
        },
        "outputId": "e9c5ffc1-ba72-4410-acc7-9f6dfd9fe387"
      },
      "execution_count": null,
      "outputs": [
        {
          "output_type": "stream",
          "name": "stdout",
          "text": [
            "[1, 670, 5, 4, 337, 91, 169, 144, 636, 26, 870, 87, 70, 3, 56, 289, 70, 350, 273, 4, 41, 179, 87, 119, 9, 684, 314, 649, 4, 10, 57, 581, 49, 122, 298, 72, 2, 0, 0, 0, 0, 0, 0, 0, 0, 0, 0, 0, 0, 0, 0, 0, 0, 0, 0, 0, 0, 0, 0, 0, 0, 0, 0, 0, 0, 0, 0, 0, 0, 0, 0, 0, 0, 0, 0, 0, 0, 0, 0, 0]\n"
          ]
        }
      ]
    },
    {
      "cell_type": "code",
      "source": [
        "data_encoded = nlp_df_reduced[['encoded_sentence', 'label']]"
      ],
      "metadata": {
        "id": "h9xk8TKZUJoO"
      },
      "execution_count": null,
      "outputs": []
    },
    {
      "cell_type": "code",
      "source": [
        "from sklearn.model_selection import train_test_split\n",
        "X_train, X_test, y_train, y_test = train_test_split(list(data_encoded['encoded_sentence']), list(data_encoded['label']), test_size=0.3, random_state=42)\n"
      ],
      "metadata": {
        "id": "Zz-WYpHRY6YJ"
      },
      "execution_count": null,
      "outputs": []
    },
    {
      "cell_type": "code",
      "source": [
        "len(X_train[0]),len(X_train[1])"
      ],
      "metadata": {
        "id": "a33RaZxUSx7y",
        "colab": {
          "base_uri": "https://localhost:8080/"
        },
        "outputId": "67625b81-0bd2-4f69-86bd-46c96edd06d0"
      },
      "execution_count": null,
      "outputs": [
        {
          "output_type": "execute_result",
          "data": {
            "text/plain": [
              "(80, 80)"
            ]
          },
          "metadata": {},
          "execution_count": 26
        }
      ]
    },
    {
      "cell_type": "code",
      "source": [
        "train_x = np.array(X_train)\n",
        "train_y = np.array(y_train)\n",
        "test_x = np.array(X_test)\n",
        "test_y = np.array(y_test)"
      ],
      "metadata": {
        "id": "-oKaKAXLRB0r"
      },
      "execution_count": null,
      "outputs": []
    },
    {
      "cell_type": "code",
      "source": [
        "test_x.shape"
      ],
      "metadata": {
        "id": "2Dmwfp6hWYWt"
      },
      "execution_count": null,
      "outputs": []
    },
    {
      "cell_type": "code",
      "source": [
        "batch_size = 50\n",
        "\n",
        "\n",
        "train_ds = TensorDataset(torch.tensor(train_x), torch.from_numpy(train_y))\n",
        "test_ds = TensorDataset(torch.from_numpy(test_x), torch.from_numpy(test_y))\n",
        "\n",
        "train_dl = DataLoader(train_ds, shuffle=True, batch_size=batch_size, drop_last=True)\n",
        "test_dl = DataLoader(test_ds, shuffle=True, batch_size=batch_size, drop_last=True)"
      ],
      "metadata": {
        "id": "sUJdZD85Ud17"
      },
      "execution_count": null,
      "outputs": []
    },
    {
      "cell_type": "code",
      "source": [
        "class SentimentRNN(nn.Module):\n",
        "    def __init__(self,no_layers,vocab_size,hidden_dim,embedding_dim,drop_prob=0.5):\n",
        "        super(SentimentRNN,self).__init__()\n",
        "\n",
        "        self.output_dim = output_dim\n",
        "        self.hidden_dim = hidden_dim\n",
        "\n",
        "        self.no_layers = no_layers\n",
        "        self.vocab_size = vocab_size\n",
        "\n",
        "        # embedding and LSTM layers\n",
        "        self.embedding = nn.Embedding(vocab_size, embedding_dim)\n",
        "\n",
        "        #lstm\n",
        "        self.lstm = nn.LSTM(input_size=embedding_dim,hidden_size=self.hidden_dim,\n",
        "                           num_layers=no_layers, batch_first=True)\n",
        "\n",
        "\n",
        "        # dropout layer\n",
        "        self.dropout = nn.Dropout(0.3)\n",
        "\n",
        "        # linear and sigmoid layer\n",
        "        self.fc = nn.Linear(self.hidden_dim, output_dim)\n",
        "        self.sig = nn.Sigmoid()\n",
        "\n",
        "    def forward(self,x,hidden):\n",
        "        batch_size = x.size(0)\n",
        "        # embeddings and lstm_out\n",
        "        embeds = self.embedding(x)  # shape: B x S x Feature   since batch = True\n",
        "        #print(embeds.shape)  #[50, 500, 1000]\n",
        "        lstm_out, hidden = self.lstm(embeds, hidden)\n",
        "\n",
        "        lstm_out = lstm_out.contiguous().view(-1, self.hidden_dim)\n",
        "\n",
        "        # dropout and fully connected layer\n",
        "        out = self.dropout(lstm_out)\n",
        "        out = self.fc(out)\n",
        "\n",
        "        # sigmoid function\n",
        "        sig_out = self.sig(out)\n",
        "\n",
        "        # reshape to be batch_size first\n",
        "        sig_out = sig_out.view(batch_size, -1)\n",
        "\n",
        "        sig_out = sig_out[:, -1] # get last batch of labels\n",
        "\n",
        "        # return last sigmoid output and hidden state\n",
        "        return sig_out, hidden\n",
        "\n",
        "\n",
        "\n",
        "    def init_hidden(self, batch_size):\n",
        "        ''' Initializes hidden state '''\n",
        "        # Create two new tensors with sizes n_layers x batch_size x hidden_dim,\n",
        "        # initialized to zero, for hidden state and cell state of LSTM\n",
        "        h0 = torch.zeros((self.no_layers,batch_size,self.hidden_dim)).to(device)\n",
        "        c0 = torch.zeros((self.no_layers,batch_size,self.hidden_dim)).to(device)\n",
        "        hidden = (h0,c0)\n",
        "        return hidden\n"
      ],
      "metadata": {
        "id": "EB9AGtNy7Q6c"
      },
      "execution_count": null,
      "outputs": []
    },
    {
      "cell_type": "code",
      "source": [
        "from torchinfo import summary"
      ],
      "metadata": {
        "id": "dQF-29bQ5F6T"
      },
      "execution_count": null,
      "outputs": []
    },
    {
      "cell_type": "code",
      "source": [
        "no_layers = 2\n",
        "vocab_size = len(word2index) + 1 #extra 1 for padding\n",
        "embedding_dim = 64\n",
        "output_dim = 1\n",
        "hidden_dim = 256\n",
        "\n",
        "\n",
        "model = SentimentRNN(no_layers,vocab_size,hidden_dim,embedding_dim,drop_prob=0.5)\n",
        "\n",
        "#moving to gpu\n",
        "device = torch.device('cuda' if torch.cuda.is_available() else 'cpu')\n",
        "model.to(device)\n",
        "\n",
        "print(model)"
      ],
      "metadata": {
        "id": "pUIbW_9Y7R4u"
      },
      "execution_count": null,
      "outputs": []
    },
    {
      "cell_type": "code",
      "source": [
        "summary(model)"
      ],
      "metadata": {
        "id": "HwWvsW-65iGW"
      },
      "execution_count": null,
      "outputs": []
    },
    {
      "cell_type": "code",
      "source": [
        "# loss and optimization functions\n",
        "lr=0.001\n",
        "\n",
        "criterion = nn.BCELoss()\n",
        "\n",
        "optimizer = torch.optim.Adam(model.parameters(), lr=lr)\n",
        "\n",
        "# function to predict accuracy\n",
        "def acc(pred,label):\n",
        "    pred = torch.round(pred.squeeze())\n",
        "    return torch.sum(pred == label.squeeze()).item()"
      ],
      "metadata": {
        "id": "P_5ycpIb7iBm"
      },
      "execution_count": null,
      "outputs": []
    },
    {
      "cell_type": "code",
      "source": [
        "clip = 5\n",
        "epochs = 30\n",
        "valid_loss_min = np.Inf\n",
        "# train for some number of epochs\n",
        "epoch_tr_loss,epoch_vl_loss = [],[]\n",
        "epoch_tr_acc,epoch_vl_acc = [],[]\n",
        "\n",
        "for epoch in range(epochs):\n",
        "    train_losses = []\n",
        "    train_acc = 0.0\n",
        "    model.train()\n",
        "    # initialize hidden state\n",
        "    h = model.init_hidden(batch_size)\n",
        "    for inputs, labels in train_dl:\n",
        "\n",
        "        inputs, labels = inputs.to(device), labels.to(device)\n",
        "        # Creating new variables for the hidden state, otherwise\n",
        "        # we'd backprop through the entire training history\n",
        "        h = tuple([each.data for each in h])\n",
        "\n",
        "        model.zero_grad()\n",
        "        output,h = model(inputs,h)\n",
        "\n",
        "        # calculate the loss and perform backprop\n",
        "        loss = criterion(output.squeeze(), labels.float())\n",
        "        loss.backward()\n",
        "        train_losses.append(loss.item())\n",
        "        # calculating accuracy\n",
        "        accuracy = acc(output,labels)\n",
        "        train_acc += accuracy\n",
        "        #`clip_grad_norm` helps prevent the exploding gradient problem in RNNs / LSTMs.\n",
        "        nn.utils.clip_grad_norm_(model.parameters(), clip)\n",
        "        optimizer.step()\n",
        "\n",
        "    val_h = model.init_hidden(batch_size)\n",
        "    val_losses = []\n",
        "    val_acc = 0.0\n",
        "    model.eval()\n",
        "    for inputs, labels in test_dl:\n",
        "            val_h = tuple([each.data for each in val_h])\n",
        "\n",
        "            inputs, labels = inputs.to(device), labels.to(device)\n",
        "\n",
        "            output, val_h = model(inputs, val_h)\n",
        "            val_loss = criterion(output.squeeze(), labels.float())\n",
        "\n",
        "            val_losses.append(val_loss.item())\n",
        "\n",
        "            accuracy = acc(output,labels)\n",
        "            val_acc += accuracy\n",
        "\n",
        "    epoch_train_loss = np.mean(train_losses)\n",
        "    epoch_val_loss = np.mean(val_losses)\n",
        "    epoch_train_acc = train_acc/len(train_dl.dataset)\n",
        "    epoch_val_acc = val_acc/len(test_dl.dataset)\n",
        "    epoch_tr_loss.append(epoch_train_loss)\n",
        "    epoch_vl_loss.append(epoch_val_loss)\n",
        "    epoch_tr_acc.append(epoch_train_acc)\n",
        "    epoch_vl_acc.append(epoch_val_acc)\n",
        "    print(f'Epoch {epoch+1}')\n",
        "    print(f'train_loss : {epoch_train_loss} val_loss : {epoch_val_loss}')\n",
        "    print(f'train_accuracy : {epoch_train_acc*100} val_accuracy : {epoch_val_acc*100}')\n",
        "    # if epoch_val_loss <= valid_loss_min:\n",
        "    #     torch.save(model.state_dict(), '../working/state_dict.pt')\n",
        "    #     print('Validation loss decreased ({:.6f} --> {:.6f}).  Saving model ...'.format(valid_loss_min,epoch_val_loss))\n",
        "    #     valid_loss_min = epoch_val_loss\n",
        "    # print(25*'==')\n"
      ],
      "metadata": {
        "id": "3_Twq9KW7kUA"
      },
      "execution_count": null,
      "outputs": []
    },
    {
      "cell_type": "code",
      "source": [
        "fig = plt.figure(figsize = (20, 6))\n",
        "plt.subplot(1, 2, 1)\n",
        "plt.plot(epoch_tr_acc, label='Train Acc')\n",
        "plt.plot(epoch_vl_acc, label='Validation Acc')\n",
        "plt.title(\"Accuracy\")\n",
        "plt.legend()\n",
        "plt.grid()\n",
        "\n",
        "plt.subplot(1, 2, 2)\n",
        "plt.plot(epoch_tr_loss, label='Train loss')\n",
        "plt.plot(epoch_vl_loss, label='Validation loss')\n",
        "plt.title(\"Loss\")\n",
        "plt.legend()\n",
        "plt.grid()\n",
        "\n",
        "plt.show()"
      ],
      "metadata": {
        "id": "ik3OWuxJ7oca"
      },
      "execution_count": null,
      "outputs": []
    },
    {
      "cell_type": "markdown",
      "source": [
        "# Hyperparameter tuning"
      ],
      "metadata": {
        "id": "-fE-crMWsIiA"
      }
    },
    {
      "cell_type": "code",
      "source": [
        "from sklearn.model_selection import ParameterGrid"
      ],
      "metadata": {
        "id": "ql3f-LVMQVSF"
      },
      "execution_count": null,
      "outputs": []
    },
    {
      "cell_type": "code",
      "source": [
        "# function to predict accuracy\n",
        "def acc(pred,label):\n",
        "    pred = torch.round(pred.squeeze())\n",
        "    return torch.sum(pred == label.squeeze()).item()"
      ],
      "metadata": {
        "id": "DG8yaLjbeqOa"
      },
      "execution_count": null,
      "outputs": []
    },
    {
      "cell_type": "code",
      "source": [
        "# TODO: Define your parameter grid. pgrid should\n",
        "# just be the wrapped version of param_grid using ParameterGrid\n",
        "# num_epochs will be the number of epochs you use to grid search and train\n",
        "\n",
        "param_grid = {\n",
        "    'learning_rate': [0.001, 0.01, 0.1],\n",
        "    'embedding_dim': [32, 64, 128],\n",
        "    'hidden_dim': [128, 256, 512],\n",
        "    'no_layers': [1, 2, 3],\n",
        "}\n",
        "pgrid = ParameterGrid(param_grid)\n",
        "\n",
        "num_epochs = 25\n",
        "output_dim = 1"
      ],
      "metadata": {
        "id": "972qK5f1QYwL"
      },
      "execution_count": null,
      "outputs": []
    },
    {
      "cell_type": "code",
      "source": [
        "# TODO: Conduct your grid search.\n",
        "# Training loop\n",
        "best_accuracy = 0.0\n",
        "best_params = None\n",
        "\n",
        "for params in pgrid:\n",
        "    print(params)\n",
        "    model = SentimentRNN(\n",
        "        no_layers=params['no_layers'],\n",
        "        vocab_size=len(word2index) + 1, #extra 1 for padding\n",
        "        hidden_dim=params['hidden_dim'],\n",
        "        embedding_dim=params['embedding_dim'],\n",
        "        drop_prob=0.5\n",
        "    )\n",
        "    device = torch.device('cuda' if torch.cuda.is_available() else 'cpu')\n",
        "    model.to(device)\n",
        "    criterion = nn.BCELoss()\n",
        "    optimizer = optim.Adam(model.parameters(), lr=params['learning_rate'])\n",
        "\n",
        "    epoch = num_epochs\n",
        "    clip = 5\n",
        "    valid_loss_min = np.Inf\n",
        "    # train for some number of epochs\n",
        "    epoch_tr_loss,epoch_vl_loss = [],[]\n",
        "    epoch_tr_acc,epoch_vl_acc = [],[]\n",
        "\n",
        "    for epoch in range(epoch):\n",
        "      train_losses = []\n",
        "      train_acc = 0.0\n",
        "      model.train()\n",
        "      # initialize hidden state\n",
        "      h = model.init_hidden(batch_size)\n",
        "      for inputs, labels in train_dl:\n",
        "\n",
        "          inputs, labels = inputs.to(device), labels.to(device)\n",
        "          # Creating new variables for the hidden state, otherwise\n",
        "          # we'd backprop through the entire training history\n",
        "          h = tuple([each.data for each in h])\n",
        "\n",
        "          model.zero_grad()\n",
        "          output,h = model(inputs,h)\n",
        "\n",
        "          # calculate the loss and perform backprop\n",
        "          loss = criterion(output.squeeze(), labels.float())\n",
        "          loss.backward()\n",
        "          # train_losses.append(loss.item())\n",
        "          # calculating accuracy\n",
        "          # accuracy = acc(output,labels)\n",
        "          # train_acc += accuracy\n",
        "          #`clip_grad_norm` helps prevent the exploding gradient problem in RNNs / LSTMs.\n",
        "          nn.utils.clip_grad_norm_(model.parameters(), clip)\n",
        "          optimizer.step()\n",
        "\n",
        "      val_h = model.init_hidden(batch_size)\n",
        "      val_losses = []\n",
        "      val_acc = 0.0\n",
        "      model.eval()\n",
        "      for inputs, labels in test_dl:\n",
        "              val_h = tuple([each.data for each in val_h])\n",
        "\n",
        "              inputs, labels = inputs.to(device), labels.to(device)\n",
        "\n",
        "              output, val_h = model(inputs, val_h)\n",
        "              val_loss = criterion(output.squeeze(), labels.float())\n",
        "\n",
        "              val_losses.append(val_loss.item())\n",
        "\n",
        "              accuracy = acc(output,labels)\n",
        "              val_acc += accuracy\n",
        "\n",
        "      epoch_val_acc = val_acc/len(test_dl.dataset)\n",
        "      epoch_vl_acc.append(epoch_val_acc)\n",
        "\n",
        "    val_acc_final = np.mean(np.array(epoch_vl_acc))\n",
        "    # Check if the current set of parameters gives a better training accuracy\n",
        "    if val_acc_final > best_accuracy:\n",
        "        best_accuracy = val_acc_final\n",
        "        best_params = params"
      ],
      "metadata": {
        "id": "dFpzSaLJQQdW"
      },
      "execution_count": null,
      "outputs": []
    },
    {
      "cell_type": "code",
      "source": [
        "best_accuracy"
      ],
      "metadata": {
        "id": "K2SBblh0T3ll"
      },
      "execution_count": null,
      "outputs": []
    },
    {
      "cell_type": "code",
      "source": [
        "best_params"
      ],
      "metadata": {
        "id": "cSdqm29hUjew"
      },
      "execution_count": null,
      "outputs": []
    },
    {
      "cell_type": "markdown",
      "source": [
        "Train using the best parameters"
      ],
      "metadata": {
        "id": "kxMJNrlklhDG"
      }
    },
    {
      "cell_type": "code",
      "source": [
        "no_layers = 2\n",
        "vocab_size = len(word2index) + 1 #extra 1 for padding\n",
        "embedding_dim = 64\n",
        "output_dim = 1\n",
        "hidden_dim = 128\n",
        "\n",
        "\n",
        "model = SentimentRNN(no_layers,vocab_size,hidden_dim,embedding_dim,drop_prob=0.5)\n",
        "\n",
        "#moving to gpu\n",
        "device = torch.device('cuda' if torch.cuda.is_available() else 'cpu')\n",
        "model.to(device)\n",
        "\n",
        "print(model)"
      ],
      "metadata": {
        "id": "CZGo7_iZg5a3"
      },
      "execution_count": null,
      "outputs": []
    },
    {
      "cell_type": "code",
      "source": [
        "# loss and optimization functions\n",
        "lr=0.01\n",
        "\n",
        "criterion = nn.BCELoss()\n",
        "\n",
        "optimizer = torch.optim.Adam(model.parameters(), lr=lr)\n",
        "\n",
        "# function to predict accuracy\n",
        "def acc(pred,label):\n",
        "    pred = torch.round(pred.squeeze())\n",
        "    return torch.sum(pred == label.squeeze()).item()"
      ],
      "metadata": {
        "id": "_8QacYIvhjdJ"
      },
      "execution_count": null,
      "outputs": []
    },
    {
      "cell_type": "code",
      "source": [
        "clip = 5\n",
        "epochs = 50\n",
        "valid_loss_min = np.Inf\n",
        "# train for some number of epochs\n",
        "epoch_tr_loss,epoch_vl_loss = [],[]\n",
        "epoch_tr_acc,epoch_vl_acc = [],[]\n",
        "\n",
        "for epoch in range(epochs):\n",
        "    train_losses = []\n",
        "    train_acc = 0.0\n",
        "    model.train()\n",
        "    # initialize hidden state\n",
        "    h = model.init_hidden(batch_size)\n",
        "    for inputs, labels in train_dl:\n",
        "\n",
        "        inputs, labels = inputs.to(device), labels.to(device)\n",
        "        # Creating new variables for the hidden state, otherwise\n",
        "        # we'd backprop through the entire training history\n",
        "        h = tuple([each.data for each in h])\n",
        "\n",
        "        model.zero_grad()\n",
        "        output,h = model(inputs,h)\n",
        "\n",
        "        # calculate the loss and perform backprop\n",
        "        loss = criterion(output.squeeze(), labels.float())\n",
        "        loss.backward()\n",
        "        train_losses.append(loss.item())\n",
        "        # calculating accuracy\n",
        "        accuracy = acc(output,labels)\n",
        "        train_acc += accuracy\n",
        "        #`clip_grad_norm` helps prevent the exploding gradient problem in RNNs / LSTMs.\n",
        "        nn.utils.clip_grad_norm_(model.parameters(), clip)\n",
        "        optimizer.step()\n",
        "\n",
        "    val_h = model.init_hidden(batch_size)\n",
        "    val_losses = []\n",
        "    val_acc = 0.0\n",
        "    model.eval()\n",
        "    for inputs, labels in test_dl:\n",
        "            val_h = tuple([each.data for each in val_h])\n",
        "\n",
        "            inputs, labels = inputs.to(device), labels.to(device)\n",
        "\n",
        "            output, val_h = model(inputs, val_h)\n",
        "            val_loss = criterion(output.squeeze(), labels.float())\n",
        "\n",
        "            val_losses.append(val_loss.item())\n",
        "\n",
        "            accuracy = acc(output,labels)\n",
        "            val_acc += accuracy\n",
        "\n",
        "    epoch_train_loss = np.mean(train_losses)\n",
        "    epoch_val_loss = np.mean(val_losses)\n",
        "    epoch_train_acc = train_acc/len(train_dl.dataset)\n",
        "    epoch_val_acc = val_acc/len(test_dl.dataset)\n",
        "    epoch_tr_loss.append(epoch_train_loss)\n",
        "    epoch_vl_loss.append(epoch_val_loss)\n",
        "    epoch_tr_acc.append(epoch_train_acc)\n",
        "    epoch_vl_acc.append(epoch_val_acc)\n",
        "    print(f'Epoch {epoch+1}')\n",
        "    print(f'train_loss : {epoch_train_loss} val_loss : {epoch_val_loss}')\n",
        "    print(f'train_accuracy : {epoch_train_acc*100} val_accuracy : {epoch_val_acc*100}')\n",
        "    # if epoch_val_loss <= valid_loss_min:\n",
        "    #     torch.save(model.state_dict(), '../working/state_dict.pt')\n",
        "    #     print('Validation loss decreased ({:.6f} --> {:.6f}).  Saving model ...'.format(valid_loss_min,epoch_val_loss))\n",
        "    #     valid_loss_min = epoch_val_loss\n",
        "    # print(25*'==')\n"
      ],
      "metadata": {
        "id": "-ZzGcxmRhkJk"
      },
      "execution_count": null,
      "outputs": []
    },
    {
      "cell_type": "code",
      "source": [
        "fig = plt.figure(figsize = (20, 6))\n",
        "plt.subplot(1, 2, 1)\n",
        "plt.plot(epoch_tr_acc, label='Train Acc')\n",
        "plt.plot(epoch_vl_acc, label='Validation Acc')\n",
        "plt.title(\"Accuracy\")\n",
        "plt.xlabel(\"Epoch\")\n",
        "plt.ylabel(\"Accuracy\")\n",
        "plt.legend()\n",
        "plt.grid()\n",
        "\n",
        "plt.subplot(1, 2, 2)\n",
        "plt.plot(epoch_tr_loss, label='Train loss')\n",
        "plt.plot(epoch_vl_loss, label='Validation loss')\n",
        "plt.title(\"Loss\")\n",
        "plt.xlabel(\"Epoch\")\n",
        "plt.ylabel(\"Loss\")\n",
        "plt.legend()\n",
        "plt.grid()\n",
        "\n",
        "plt.show()"
      ],
      "metadata": {
        "id": "OYHsxiPaj1U1"
      },
      "execution_count": null,
      "outputs": []
    },
    {
      "cell_type": "code",
      "source": [
        "# from sklearn.model_selection import GridSearchCV\n",
        "# from sklearn.model_selection import StratifiedKFold\n",
        "# # function to predict accuracy\n",
        "# def acc(pred,label):\n",
        "#     pred = torch.round(pred.squeeze())\n",
        "#     return torch.sum(pred == label.squeeze()).item()\n",
        "# # Define the hyperparameters to tune\n",
        "# param_grid = {\n",
        "#     'learning_rate': [0.001, 0.01, 0.1],\n",
        "#     'embedding_dim': [32, 64, 128],\n",
        "#     'hidden_dim': [128, 256, 512],\n",
        "#     'no_layers': [1, 2, 3],\n",
        "# }\n",
        "\n",
        "# # Create a function for model training with cross-validation\n",
        "# def train_model(params, X_train, y_train, X_val, y_val):\n",
        "#     train_ds = TensorDataset(torch.tensor(X_train), torch.from_numpy(y_train))\n",
        "#     train_dl = DataLoader(train_ds, shuffle=True, batch_size=batch_size, drop_last=True)\n",
        "#     accuracies = []\n",
        "#     model = SentimentRNN(\n",
        "#         no_layers=params['no_layers'],\n",
        "#         vocab_size=vocab_size,\n",
        "#         hidden_dim=params['hidden_dim'],\n",
        "#         embedding_dim=params['embedding_dim'],\n",
        "#         drop_prob=0.5\n",
        "#     )\n",
        "\n",
        "#     model.to(device)\n",
        "#     criterion = nn.BCELoss()\n",
        "#     optimizer = torch.optim.Adam(model.parameters(), lr=params['learning_rate'])\n",
        "\n",
        "#     clip = 5\n",
        "#     epochs = 20\n",
        "#     valid_loss_min = np.Inf\n",
        "#     # train for some number of epochs\n",
        "#     epoch_tr_loss,epoch_vl_loss = [],[]\n",
        "#     epoch_tr_acc,epoch_vl_acc = [],[]\n",
        "\n",
        "#     for epoch in range(epochs):\n",
        "#       # train_losses = []\n",
        "#       # train_acc = 0.0\n",
        "#       model.train()\n",
        "#       # initialize hidden state\n",
        "#       h = model.init_hidden(batch_size)\n",
        "#       for inputs, labels in train_dl:\n",
        "\n",
        "#           inputs, labels = inputs.to(device), labels.to(device)\n",
        "#           # Creating new variables for the hidden state, otherwise\n",
        "#           # we'd backprop through the entire training history\n",
        "#           h = tuple([each.data for each in h])\n",
        "\n",
        "#           model.zero_grad()\n",
        "#           output,h = model(inputs,h)\n",
        "\n",
        "#           # calculate the loss and perform backprop\n",
        "#           loss = criterion(output.squeeze(), labels.float())\n",
        "#           loss.backward()\n",
        "#           # train_losses.append(loss.item())\n",
        "#           # calculating accuracy\n",
        "#           # accuracy = acc(output,labels)\n",
        "#           # train_acc += accuracy\n",
        "#           #`clip_grad_norm` helps prevent the exploding gradient problem in RNNs / LSTMs.\n",
        "#           nn.utils.clip_grad_norm_(model.parameters(), clip)\n",
        "#           optimizer.step()\n",
        "\n",
        "#     # Calculate accuracy on the validation fold\n",
        "#     val_accuracy = calculate_validation_accuracy(model, X_val, y_val)\n",
        "#     accuracies.append(val_accuracy)\n",
        "\n",
        "#     return np.mean(accuracies)  # Use the mean validation accuracy for hyperparameter tuning\n",
        "\n",
        "# def calculate_validation_accuracy(model, X_val, y_val):\n",
        "#     # Implement this function to calculate the validation accuracy\n",
        "#     # You can reuse parts of your existing validation code here\n",
        "#     # Make sure to move the model to the correct device before using it on validation data\n",
        "#     # Return the validation accuracy\n",
        "#     val_ds = TensorDataset(torch.tensor(X_val), torch.from_numpy(y_val))\n",
        "#     test_dl = DataLoader(val_ds, shuffle=True, batch_size=batch_size, drop_last=True)\n",
        "\n",
        "#     val_h = model.init_hidden(batch_size)\n",
        "#     val_losses = []\n",
        "#     val_acc = 0.0\n",
        "#     model.eval()\n",
        "#     for inputs, labels in test_dl:\n",
        "#             val_h = tuple([each.data for each in val_h])\n",
        "\n",
        "#             inputs, labels = inputs.to(device), labels.to(device)\n",
        "\n",
        "#             output, val_h = model(inputs, val_h)\n",
        "#             val_loss = criterion(output.squeeze(), labels.float())\n",
        "\n",
        "#             val_losses.append(val_loss.item())\n",
        "\n",
        "#             accuracy = acc(output,labels)\n",
        "#             val_acc += accuracy\n",
        "#     return val_acc\n",
        "\n",
        "# # Create an instance of the SentimentRNN model\n",
        "# base_model = SentimentRNN(\n",
        "#     no_layers=2,\n",
        "#     vocab_size=len(word2index) + 1, #extra 1 for padding\n",
        "#     hidden_dim=256,\n",
        "#     embedding_dim=64,\n",
        "#     drop_prob=0.5\n",
        "# )\n",
        "# # Create GridSearchCV\n",
        "# grid_search = GridSearchCV(estimator=base_model, param_grid=param_grid, scoring='accuracy', cv=3)\n",
        "\n",
        "# # Perform Grid Search\n",
        "# grid_search.fit(X_train, y_train)  # Provide your training data\n",
        "\n",
        "# # Get the best hyperparameters\n",
        "# best_params = grid_search.best_params_\n",
        "# best_params"
      ],
      "metadata": {
        "id": "3Wlf34-G6za7"
      },
      "execution_count": null,
      "outputs": []
    },
    {
      "cell_type": "code",
      "source": [
        "\n",
        "# Retrain the model with the best hyperparameters on the entire training dataset\n",
        "best_model = SentimentRNN(\n",
        "    no_layers=best_params['no_layers'],\n",
        "    vocab_size=vocab_size,\n",
        "    hidden_dim=best_params['hidden_dim'],\n",
        "    embedding_dim=best_params['embedding_dim'],\n",
        "    drop_prob=0.5\n",
        ")\n",
        "best_model.to(device)\n",
        "# Retrain the model on the entire training dataset\n",
        "# ...\n",
        "\n",
        "# Evaluate the model on your test dataset\n",
        "# test_accuracy = evaluate_test_accuracy(best_model, X_test, y_test)\n",
        "# print(f'Test Accuracy: {test_accuracy}')\n"
      ],
      "metadata": {
        "id": "iznmszpfLoST"
      },
      "execution_count": null,
      "outputs": []
    },
    {
      "cell_type": "markdown",
      "source": [
        "# Datashift"
      ],
      "metadata": {
        "id": "MVY_x8yc813k"
      }
    },
    {
      "cell_type": "markdown",
      "source": [
        "Planning to train on short sentences and test on long sentences, first observe the sentence length distribution"
      ],
      "metadata": {
        "id": "BL-R0oUDEhJT"
      }
    },
    {
      "cell_type": "code",
      "source": [
        "nlp_df_reduced"
      ],
      "metadata": {
        "colab": {
          "base_uri": "https://localhost:8080/",
          "height": 589
        },
        "id": "RKXdhURN_IqK",
        "outputId": "f9f5a319-0c46-4545-d037-bd18094e5fb7"
      },
      "execution_count": null,
      "outputs": [
        {
          "output_type": "execute_result",
          "data": {
            "text/plain": [
              "                                                  review sentiment  label  \\\n",
              "0      One of the other reviewers has mentioned that ...  positive      1   \n",
              "1      A wonderful little production. The filming tec...  positive      1   \n",
              "2      I thought this was a wonderful way to spend ti...  positive      1   \n",
              "3      Basically there's a family where a little boy ...  negative      0   \n",
              "4      Petter Mattei's \"Love in the Time of Money\" is...  positive      1   \n",
              "...                                                  ...       ...    ...   \n",
              "49995  I thought this movie did a down right good job...  positive      1   \n",
              "49996  Bad plot, bad dialogue, bad acting, idiotic di...  negative      0   \n",
              "49997  I am a Catholic taught in parochial elementary...  negative      0   \n",
              "49998  I'm going to have to disagree with the previou...  negative      0   \n",
              "49999  No one expects the Star Trek movies to be high...  negative      0   \n",
              "\n",
              "                                       lemmatized_tokens  \\\n",
              "0      [one, reviewer, mentioned, watching, episode, ...   \n",
              "1      [wonderful, little, production, filming, techn...   \n",
              "2      [thought, wonderful, way, spend, time, hot, su...   \n",
              "3      [basically, family, little, boy, jake, think, ...   \n",
              "4      [petter, mattei, love, time, money, visually, ...   \n",
              "...                                                  ...   \n",
              "49995  [thought, movie, right, good, job, creative, o...   \n",
              "49996  [bad, plot, bad, dialogue, bad, acting, idioti...   \n",
              "49997  [catholic, taught, parochial, elementary, scho...   \n",
              "49998  [going, disagree, previous, comment, side, mal...   \n",
              "49999  [one, expects, star, trek, movie, high, art, f...   \n",
              "\n",
              "                                        encoded_sentence  \n",
              "0      [1, 5, 979, 898, 65, 163, 97, 474, 457, 26, 28...  \n",
              "1      [1, 275, 46, 225, 59, 400, 183, 310, 223, 37, ...  \n",
              "2      [1, 89, 275, 27, 946, 7, 748, 758, 468, 65, 94...  \n",
              "3      [1, 550, 116, 46, 193, 30, 501, 536, 834, 3, 9...  \n",
              "4      [1, 34, 7, 186, 4, 33, 664, 235, 3, 90, 857, 1...  \n",
              "...                                                  ...  \n",
              "49995  [1, 89, 3, 97, 8, 170, 110, 26, 826, 117, 146,...  \n",
              "49996  [1, 23, 39, 23, 270, 23, 43, 800, 500, 563, 12...  \n",
              "49997  [1, 251, 218, 251, 930, 53, 10, 8, 231, 158, 6...  \n",
              "49998  [1, 75, 737, 326, 334, 5, 194, 811, 570, 159, ...  \n",
              "49999  [1, 5, 104, 3, 218, 321, 103, 391, 3, 8, 45, 1...  \n",
              "\n",
              "[50000 rows x 5 columns]"
            ],
            "text/html": [
              "\n",
              "  <div id=\"df-edcaaecd-1d9e-4893-9a50-ad24f562d637\" class=\"colab-df-container\">\n",
              "    <div>\n",
              "<style scoped>\n",
              "    .dataframe tbody tr th:only-of-type {\n",
              "        vertical-align: middle;\n",
              "    }\n",
              "\n",
              "    .dataframe tbody tr th {\n",
              "        vertical-align: top;\n",
              "    }\n",
              "\n",
              "    .dataframe thead th {\n",
              "        text-align: right;\n",
              "    }\n",
              "</style>\n",
              "<table border=\"1\" class=\"dataframe\">\n",
              "  <thead>\n",
              "    <tr style=\"text-align: right;\">\n",
              "      <th></th>\n",
              "      <th>review</th>\n",
              "      <th>sentiment</th>\n",
              "      <th>label</th>\n",
              "      <th>lemmatized_tokens</th>\n",
              "      <th>encoded_sentence</th>\n",
              "    </tr>\n",
              "  </thead>\n",
              "  <tbody>\n",
              "    <tr>\n",
              "      <th>0</th>\n",
              "      <td>One of the other reviewers has mentioned that ...</td>\n",
              "      <td>positive</td>\n",
              "      <td>1</td>\n",
              "      <td>[one, reviewer, mentioned, watching, episode, ...</td>\n",
              "      <td>[1, 5, 979, 898, 65, 163, 97, 474, 457, 26, 28...</td>\n",
              "    </tr>\n",
              "    <tr>\n",
              "      <th>1</th>\n",
              "      <td>A wonderful little production. The filming tec...</td>\n",
              "      <td>positive</td>\n",
              "      <td>1</td>\n",
              "      <td>[wonderful, little, production, filming, techn...</td>\n",
              "      <td>[1, 275, 46, 225, 59, 400, 183, 310, 223, 37, ...</td>\n",
              "    </tr>\n",
              "    <tr>\n",
              "      <th>2</th>\n",
              "      <td>I thought this was a wonderful way to spend ti...</td>\n",
              "      <td>positive</td>\n",
              "      <td>1</td>\n",
              "      <td>[thought, wonderful, way, spend, time, hot, su...</td>\n",
              "      <td>[1, 89, 275, 27, 946, 7, 748, 758, 468, 65, 94...</td>\n",
              "    </tr>\n",
              "    <tr>\n",
              "      <th>3</th>\n",
              "      <td>Basically there's a family where a little boy ...</td>\n",
              "      <td>negative</td>\n",
              "      <td>0</td>\n",
              "      <td>[basically, family, little, boy, jake, think, ...</td>\n",
              "      <td>[1, 550, 116, 46, 193, 30, 501, 536, 834, 3, 9...</td>\n",
              "    </tr>\n",
              "    <tr>\n",
              "      <th>4</th>\n",
              "      <td>Petter Mattei's \"Love in the Time of Money\" is...</td>\n",
              "      <td>positive</td>\n",
              "      <td>1</td>\n",
              "      <td>[petter, mattei, love, time, money, visually, ...</td>\n",
              "      <td>[1, 34, 7, 186, 4, 33, 664, 235, 3, 90, 857, 1...</td>\n",
              "    </tr>\n",
              "    <tr>\n",
              "      <th>...</th>\n",
              "      <td>...</td>\n",
              "      <td>...</td>\n",
              "      <td>...</td>\n",
              "      <td>...</td>\n",
              "      <td>...</td>\n",
              "    </tr>\n",
              "    <tr>\n",
              "      <th>49995</th>\n",
              "      <td>I thought this movie did a down right good job...</td>\n",
              "      <td>positive</td>\n",
              "      <td>1</td>\n",
              "      <td>[thought, movie, right, good, job, creative, o...</td>\n",
              "      <td>[1, 89, 3, 97, 8, 170, 110, 26, 826, 117, 146,...</td>\n",
              "    </tr>\n",
              "    <tr>\n",
              "      <th>49996</th>\n",
              "      <td>Bad plot, bad dialogue, bad acting, idiotic di...</td>\n",
              "      <td>negative</td>\n",
              "      <td>0</td>\n",
              "      <td>[bad, plot, bad, dialogue, bad, acting, idioti...</td>\n",
              "      <td>[1, 23, 39, 23, 270, 23, 43, 800, 500, 563, 12...</td>\n",
              "    </tr>\n",
              "    <tr>\n",
              "      <th>49997</th>\n",
              "      <td>I am a Catholic taught in parochial elementary...</td>\n",
              "      <td>negative</td>\n",
              "      <td>0</td>\n",
              "      <td>[catholic, taught, parochial, elementary, scho...</td>\n",
              "      <td>[1, 251, 218, 251, 930, 53, 10, 8, 231, 158, 6...</td>\n",
              "    </tr>\n",
              "    <tr>\n",
              "      <th>49998</th>\n",
              "      <td>I'm going to have to disagree with the previou...</td>\n",
              "      <td>negative</td>\n",
              "      <td>0</td>\n",
              "      <td>[going, disagree, previous, comment, side, mal...</td>\n",
              "      <td>[1, 75, 737, 326, 334, 5, 194, 811, 570, 159, ...</td>\n",
              "    </tr>\n",
              "    <tr>\n",
              "      <th>49999</th>\n",
              "      <td>No one expects the Star Trek movies to be high...</td>\n",
              "      <td>negative</td>\n",
              "      <td>0</td>\n",
              "      <td>[one, expects, star, trek, movie, high, art, f...</td>\n",
              "      <td>[1, 5, 104, 3, 218, 321, 103, 391, 3, 8, 45, 1...</td>\n",
              "    </tr>\n",
              "  </tbody>\n",
              "</table>\n",
              "<p>50000 rows × 5 columns</p>\n",
              "</div>\n",
              "    <div class=\"colab-df-buttons\">\n",
              "\n",
              "  <div class=\"colab-df-container\">\n",
              "    <button class=\"colab-df-convert\" onclick=\"convertToInteractive('df-edcaaecd-1d9e-4893-9a50-ad24f562d637')\"\n",
              "            title=\"Convert this dataframe to an interactive table.\"\n",
              "            style=\"display:none;\">\n",
              "\n",
              "  <svg xmlns=\"http://www.w3.org/2000/svg\" height=\"24px\" viewBox=\"0 -960 960 960\">\n",
              "    <path d=\"M120-120v-720h720v720H120Zm60-500h600v-160H180v160Zm220 220h160v-160H400v160Zm0 220h160v-160H400v160ZM180-400h160v-160H180v160Zm440 0h160v-160H620v160ZM180-180h160v-160H180v160Zm440 0h160v-160H620v160Z\"/>\n",
              "  </svg>\n",
              "    </button>\n",
              "\n",
              "  <style>\n",
              "    .colab-df-container {\n",
              "      display:flex;\n",
              "      gap: 12px;\n",
              "    }\n",
              "\n",
              "    .colab-df-convert {\n",
              "      background-color: #E8F0FE;\n",
              "      border: none;\n",
              "      border-radius: 50%;\n",
              "      cursor: pointer;\n",
              "      display: none;\n",
              "      fill: #1967D2;\n",
              "      height: 32px;\n",
              "      padding: 0 0 0 0;\n",
              "      width: 32px;\n",
              "    }\n",
              "\n",
              "    .colab-df-convert:hover {\n",
              "      background-color: #E2EBFA;\n",
              "      box-shadow: 0px 1px 2px rgba(60, 64, 67, 0.3), 0px 1px 3px 1px rgba(60, 64, 67, 0.15);\n",
              "      fill: #174EA6;\n",
              "    }\n",
              "\n",
              "    .colab-df-buttons div {\n",
              "      margin-bottom: 4px;\n",
              "    }\n",
              "\n",
              "    [theme=dark] .colab-df-convert {\n",
              "      background-color: #3B4455;\n",
              "      fill: #D2E3FC;\n",
              "    }\n",
              "\n",
              "    [theme=dark] .colab-df-convert:hover {\n",
              "      background-color: #434B5C;\n",
              "      box-shadow: 0px 1px 3px 1px rgba(0, 0, 0, 0.15);\n",
              "      filter: drop-shadow(0px 1px 2px rgba(0, 0, 0, 0.3));\n",
              "      fill: #FFFFFF;\n",
              "    }\n",
              "  </style>\n",
              "\n",
              "    <script>\n",
              "      const buttonEl =\n",
              "        document.querySelector('#df-edcaaecd-1d9e-4893-9a50-ad24f562d637 button.colab-df-convert');\n",
              "      buttonEl.style.display =\n",
              "        google.colab.kernel.accessAllowed ? 'block' : 'none';\n",
              "\n",
              "      async function convertToInteractive(key) {\n",
              "        const element = document.querySelector('#df-edcaaecd-1d9e-4893-9a50-ad24f562d637');\n",
              "        const dataTable =\n",
              "          await google.colab.kernel.invokeFunction('convertToInteractive',\n",
              "                                                    [key], {});\n",
              "        if (!dataTable) return;\n",
              "\n",
              "        const docLinkHtml = 'Like what you see? Visit the ' +\n",
              "          '<a target=\"_blank\" href=https://colab.research.google.com/notebooks/data_table.ipynb>data table notebook</a>'\n",
              "          + ' to learn more about interactive tables.';\n",
              "        element.innerHTML = '';\n",
              "        dataTable['output_type'] = 'display_data';\n",
              "        await google.colab.output.renderOutput(dataTable, element);\n",
              "        const docLink = document.createElement('div');\n",
              "        docLink.innerHTML = docLinkHtml;\n",
              "        element.appendChild(docLink);\n",
              "      }\n",
              "    </script>\n",
              "  </div>\n",
              "\n",
              "\n",
              "<div id=\"df-365bf0c9-c49b-4773-9ee4-5b859cf565ab\">\n",
              "  <button class=\"colab-df-quickchart\" onclick=\"quickchart('df-365bf0c9-c49b-4773-9ee4-5b859cf565ab')\"\n",
              "            title=\"Suggest charts\"\n",
              "            style=\"display:none;\">\n",
              "\n",
              "<svg xmlns=\"http://www.w3.org/2000/svg\" height=\"24px\"viewBox=\"0 0 24 24\"\n",
              "     width=\"24px\">\n",
              "    <g>\n",
              "        <path d=\"M19 3H5c-1.1 0-2 .9-2 2v14c0 1.1.9 2 2 2h14c1.1 0 2-.9 2-2V5c0-1.1-.9-2-2-2zM9 17H7v-7h2v7zm4 0h-2V7h2v10zm4 0h-2v-4h2v4z\"/>\n",
              "    </g>\n",
              "</svg>\n",
              "  </button>\n",
              "\n",
              "<style>\n",
              "  .colab-df-quickchart {\n",
              "      --bg-color: #E8F0FE;\n",
              "      --fill-color: #1967D2;\n",
              "      --hover-bg-color: #E2EBFA;\n",
              "      --hover-fill-color: #174EA6;\n",
              "      --disabled-fill-color: #AAA;\n",
              "      --disabled-bg-color: #DDD;\n",
              "  }\n",
              "\n",
              "  [theme=dark] .colab-df-quickchart {\n",
              "      --bg-color: #3B4455;\n",
              "      --fill-color: #D2E3FC;\n",
              "      --hover-bg-color: #434B5C;\n",
              "      --hover-fill-color: #FFFFFF;\n",
              "      --disabled-bg-color: #3B4455;\n",
              "      --disabled-fill-color: #666;\n",
              "  }\n",
              "\n",
              "  .colab-df-quickchart {\n",
              "    background-color: var(--bg-color);\n",
              "    border: none;\n",
              "    border-radius: 50%;\n",
              "    cursor: pointer;\n",
              "    display: none;\n",
              "    fill: var(--fill-color);\n",
              "    height: 32px;\n",
              "    padding: 0;\n",
              "    width: 32px;\n",
              "  }\n",
              "\n",
              "  .colab-df-quickchart:hover {\n",
              "    background-color: var(--hover-bg-color);\n",
              "    box-shadow: 0 1px 2px rgba(60, 64, 67, 0.3), 0 1px 3px 1px rgba(60, 64, 67, 0.15);\n",
              "    fill: var(--button-hover-fill-color);\n",
              "  }\n",
              "\n",
              "  .colab-df-quickchart-complete:disabled,\n",
              "  .colab-df-quickchart-complete:disabled:hover {\n",
              "    background-color: var(--disabled-bg-color);\n",
              "    fill: var(--disabled-fill-color);\n",
              "    box-shadow: none;\n",
              "  }\n",
              "\n",
              "  .colab-df-spinner {\n",
              "    border: 2px solid var(--fill-color);\n",
              "    border-color: transparent;\n",
              "    border-bottom-color: var(--fill-color);\n",
              "    animation:\n",
              "      spin 1s steps(1) infinite;\n",
              "  }\n",
              "\n",
              "  @keyframes spin {\n",
              "    0% {\n",
              "      border-color: transparent;\n",
              "      border-bottom-color: var(--fill-color);\n",
              "      border-left-color: var(--fill-color);\n",
              "    }\n",
              "    20% {\n",
              "      border-color: transparent;\n",
              "      border-left-color: var(--fill-color);\n",
              "      border-top-color: var(--fill-color);\n",
              "    }\n",
              "    30% {\n",
              "      border-color: transparent;\n",
              "      border-left-color: var(--fill-color);\n",
              "      border-top-color: var(--fill-color);\n",
              "      border-right-color: var(--fill-color);\n",
              "    }\n",
              "    40% {\n",
              "      border-color: transparent;\n",
              "      border-right-color: var(--fill-color);\n",
              "      border-top-color: var(--fill-color);\n",
              "    }\n",
              "    60% {\n",
              "      border-color: transparent;\n",
              "      border-right-color: var(--fill-color);\n",
              "    }\n",
              "    80% {\n",
              "      border-color: transparent;\n",
              "      border-right-color: var(--fill-color);\n",
              "      border-bottom-color: var(--fill-color);\n",
              "    }\n",
              "    90% {\n",
              "      border-color: transparent;\n",
              "      border-bottom-color: var(--fill-color);\n",
              "    }\n",
              "  }\n",
              "</style>\n",
              "\n",
              "  <script>\n",
              "    async function quickchart(key) {\n",
              "      const quickchartButtonEl =\n",
              "        document.querySelector('#' + key + ' button');\n",
              "      quickchartButtonEl.disabled = true;  // To prevent multiple clicks.\n",
              "      quickchartButtonEl.classList.add('colab-df-spinner');\n",
              "      try {\n",
              "        const charts = await google.colab.kernel.invokeFunction(\n",
              "            'suggestCharts', [key], {});\n",
              "      } catch (error) {\n",
              "        console.error('Error during call to suggestCharts:', error);\n",
              "      }\n",
              "      quickchartButtonEl.classList.remove('colab-df-spinner');\n",
              "      quickchartButtonEl.classList.add('colab-df-quickchart-complete');\n",
              "    }\n",
              "    (() => {\n",
              "      let quickchartButtonEl =\n",
              "        document.querySelector('#df-365bf0c9-c49b-4773-9ee4-5b859cf565ab button');\n",
              "      quickchartButtonEl.style.display =\n",
              "        google.colab.kernel.accessAllowed ? 'block' : 'none';\n",
              "    })();\n",
              "  </script>\n",
              "</div>\n",
              "    </div>\n",
              "  </div>\n"
            ]
          },
          "metadata": {},
          "execution_count": 81
        }
      ]
    },
    {
      "cell_type": "code",
      "source": [
        "lengths = [len(sequence) for sequence in nlp_df_reduced['lemmatized_tokens']]\n",
        "\n",
        "# Plotting the distribution\n",
        "plt.hist(lengths, bins=10, alpha=0.5, color='b', edgecolor='black')\n",
        "plt.title('Distribution of Lemmatized token Lengths')\n",
        "plt.xlabel('Lemmatized token Length')\n",
        "plt.ylabel('Frequency')\n",
        "plt.show()"
      ],
      "metadata": {
        "colab": {
          "base_uri": "https://localhost:8080/",
          "height": 472
        },
        "id": "7qBFihfs858k",
        "outputId": "69d54189-10d5-4661-881f-3f8288b6553a"
      },
      "execution_count": null,
      "outputs": [
        {
          "output_type": "display_data",
          "data": {
            "text/plain": [
              "<Figure size 640x480 with 1 Axes>"
            ],
            "image/png": "[encoded data removed]"
          },
          "metadata": {}
        }
      ]
    },
    {
      "cell_type": "markdown",
      "source": [
        "We choose the threhold to be 200"
      ],
      "metadata": {
        "id": "XOMf8zwRFL_Z"
      }
    },
    {
      "cell_type": "code",
      "source": [
        "short_reviews_count = sum(len(review) < 200 for review in nlp_df_reduced['lemmatized_tokens'])\n",
        "long_reviews_count = sum(len(review) >= 200 for review in nlp_df_reduced['lemmatized_tokens'])\n",
        "print(short_reviews_count, long_reviews_count)"
      ],
      "metadata": {
        "colab": {
          "base_uri": "https://localhost:8080/"
        },
        "id": "R-oPXmN0FPhg",
        "outputId": "0c5d8b9b-9427-4e0a-804f-4456718c51ad"
      },
      "execution_count": null,
      "outputs": [
        {
          "output_type": "stream",
          "name": "stdout",
          "text": [
            "43848 6152\n"
          ]
        }
      ]
    },
    {
      "cell_type": "markdown",
      "source": [
        "The train_test split will be approximately 7:1, which is rational"
      ],
      "metadata": {
        "id": "7HbqAjb-F8N9"
      }
    },
    {
      "cell_type": "code",
      "source": [
        "short_reviews = nlp_df_reduced[[len(review) < 200 for review in nlp_df_reduced['lemmatized_tokens']]][['lemmatized_tokens','encoded_sentence', 'label']]\n",
        "long_reviews = nlp_df_reduced[[len(review) >= 200 for review in nlp_df_reduced['lemmatized_tokens']]][['lemmatized_tokens','encoded_sentence', 'label']]"
      ],
      "metadata": {
        "id": "OF9l0G6hHeXl"
      },
      "execution_count": null,
      "outputs": []
    },
    {
      "cell_type": "code",
      "source": [
        "len(short_reviews)"
      ],
      "metadata": {
        "colab": {
          "base_uri": "https://localhost:8080/"
        },
        "id": "7EqiTZ-KIAip",
        "outputId": "25b1c5f0-6686-48f7-8c91-cba970456981"
      },
      "execution_count": null,
      "outputs": [
        {
          "output_type": "execute_result",
          "data": {
            "text/plain": [
              "43848"
            ]
          },
          "metadata": {},
          "execution_count": 33
        }
      ]
    },
    {
      "cell_type": "code",
      "source": [
        "X_train_sl, X_test_sl = list(short_reviews['encoded_sentence']), list(long_reviews['encoded_sentence'])\n",
        "y_train_sl, y_test_sl = list(short_reviews['label']), list(long_reviews['label'])\n",
        "train_x_sl = np.array(X_train_sl)\n",
        "train_y_sl = np.array(y_train_sl)\n",
        "test_x_sl = np.array(X_test_sl)\n",
        "test_y_sl = np.array(y_test_sl)"
      ],
      "metadata": {
        "id": "Dry5sTqIGBp5"
      },
      "execution_count": null,
      "outputs": []
    },
    {
      "cell_type": "code",
      "source": [
        "short_reviews['lemmatized_tokens']"
      ],
      "metadata": {
        "colab": {
          "base_uri": "https://localhost:8080/"
        },
        "id": "kKsE7ns9Hsys",
        "outputId": "57a9978e-a56a-4568-c8de-1c2a696f8257"
      },
      "execution_count": null,
      "outputs": [
        {
          "output_type": "execute_result",
          "data": {
            "text/plain": [
              "0        [one, reviewer, mentioned, watching, episode, ...\n",
              "1        [wonderful, little, production, filming, techn...\n",
              "2        [thought, wonderful, way, spend, time, hot, su...\n",
              "3        [basically, family, little, boy, jake, think, ...\n",
              "4        [petter, mattei, love, time, money, visually, ...\n",
              "                               ...                        \n",
              "49995    [thought, movie, right, good, job, creative, o...\n",
              "49996    [bad, plot, bad, dialogue, bad, acting, idioti...\n",
              "49997    [catholic, taught, parochial, elementary, scho...\n",
              "49998    [going, disagree, previous, comment, side, mal...\n",
              "49999    [one, expects, star, trek, movie, high, art, f...\n",
              "Name: lemmatized_tokens, Length: 43848, dtype: object"
            ]
          },
          "metadata": {},
          "execution_count": 115
        }
      ]
    },
    {
      "cell_type": "code",
      "source": [
        "X_train_sl_tra, X_test_sl_tra = short_reviews['lemmatized_tokens'],long_reviews['lemmatized_tokens']\n",
        "y_train_sl_tra, y_test_sl_tra = short_reviews['label'], long_reviews['label']\n",
        "X_train_sl_tra = [' '.join(sublist) for sublist in X_train_sl_tra]\n",
        "X_test_sl_tra = [' '.join(sublist) for sublist in X_test_sl_tra]"
      ],
      "metadata": {
        "id": "s7Hu309cHE8d"
      },
      "execution_count": null,
      "outputs": []
    },
    {
      "cell_type": "code",
      "source": [
        "from sklearn.pipeline import make_pipeline\n",
        "from sklearn.feature_extraction.text import TfidfVectorizer\n",
        "from sklearn.linear_model import LogisticRegression\n",
        "\n",
        "\n",
        "model = make_pipeline(TfidfVectorizer(ngram_range=(2, 2)), LogisticRegression(max_iter=250, random_state=42,penalty='l2'))\n",
        "model.fit(X_train_sl_tra, y_train_sl_tra)\n"
      ],
      "metadata": {
        "colab": {
          "base_uri": "https://localhost:8080/",
          "height": 124
        },
        "id": "YcIVbjAuFs5F",
        "outputId": "31374458-233c-4c04-843b-df01a1aa7de5"
      },
      "execution_count": null,
      "outputs": [
        {
          "output_type": "execute_result",
          "data": {
            "text/plain": [
              "Pipeline(steps=[('tfidfvectorizer', TfidfVectorizer(ngram_range=(2, 2))),\n",
              "                ('logisticregression',\n",
              "                 LogisticRegression(max_iter=250, random_state=42))])"
            ],
            "text/html": [
              "<style>#sk-container-id-14 {color: black;background-color: white;}#sk-container-id-14 pre{padding: 0;}#sk-container-id-14 div.sk-toggleable {background-color: white;}#sk-container-id-14 label.sk-toggleable__label {cursor: pointer;display: block;width: 100%;margin-bottom: 0;padding: 0.3em;box-sizing: border-box;text-align: center;}#sk-container-id-14 label.sk-toggleable__label-arrow:before {content: \"▸\";float: left;margin-right: 0.25em;color: #696969;}#sk-container-id-14 label.sk-toggleable__label-arrow:hover:before {color: black;}#sk-container-id-14 div.sk-estimator:hover label.sk-toggleable__label-arrow:before {color: black;}#sk-container-id-14 div.sk-toggleable__content {max-height: 0;max-width: 0;overflow: hidden;text-align: left;background-color: #f0f8ff;}#sk-container-id-14 div.sk-toggleable__content pre {margin: 0.2em;color: black;border-radius: 0.25em;background-color: #f0f8ff;}#sk-container-id-14 input.sk-toggleable__control:checked~div.sk-toggleable__content {max-height: 200px;max-width: 100%;overflow: auto;}#sk-container-id-14 input.sk-toggleable__control:checked~label.sk-toggleable__label-arrow:before {content: \"▾\";}#sk-container-id-14 div.sk-estimator input.sk-toggleable__control:checked~label.sk-toggleable__label {background-color: #d4ebff;}#sk-container-id-14 div.sk-label input.sk-toggleable__control:checked~label.sk-toggleable__label {background-color: #d4ebff;}#sk-container-id-14 input.sk-hidden--visually {border: 0;clip: rect(1px 1px 1px 1px);clip: rect(1px, 1px, 1px, 1px);height: 1px;margin: -1px;overflow: hidden;padding: 0;position: absolute;width: 1px;}#sk-container-id-14 div.sk-estimator {font-family: monospace;background-color: #f0f8ff;border: 1px dotted black;border-radius: 0.25em;box-sizing: border-box;margin-bottom: 0.5em;}#sk-container-id-14 div.sk-estimator:hover {background-color: #d4ebff;}#sk-container-id-14 div.sk-parallel-item::after {content: \"\";width: 100%;border-bottom: 1px solid gray;flex-grow: 1;}#sk-container-id-14 div.sk-label:hover label.sk-toggleable__label {background-color: #d4ebff;}#sk-container-id-14 div.sk-serial::before {content: \"\";position: absolute;border-left: 1px solid gray;box-sizing: border-box;top: 0;bottom: 0;left: 50%;z-index: 0;}#sk-container-id-14 div.sk-serial {display: flex;flex-direction: column;align-items: center;background-color: white;padding-right: 0.2em;padding-left: 0.2em;position: relative;}#sk-container-id-14 div.sk-item {position: relative;z-index: 1;}#sk-container-id-14 div.sk-parallel {display: flex;align-items: stretch;justify-content: center;background-color: white;position: relative;}#sk-container-id-14 div.sk-item::before, #sk-container-id-14 div.sk-parallel-item::before {content: \"\";position: absolute;border-left: 1px solid gray;box-sizing: border-box;top: 0;bottom: 0;left: 50%;z-index: -1;}#sk-container-id-14 div.sk-parallel-item {display: flex;flex-direction: column;z-index: 1;position: relative;background-color: white;}#sk-container-id-14 div.sk-parallel-item:first-child::after {align-self: flex-end;width: 50%;}#sk-container-id-14 div.sk-parallel-item:last-child::after {align-self: flex-start;width: 50%;}#sk-container-id-14 div.sk-parallel-item:only-child::after {width: 0;}#sk-container-id-14 div.sk-dashed-wrapped {border: 1px dashed gray;margin: 0 0.4em 0.5em 0.4em;box-sizing: border-box;padding-bottom: 0.4em;background-color: white;}#sk-container-id-14 div.sk-label label {font-family: monospace;font-weight: bold;display: inline-block;line-height: 1.2em;}#sk-container-id-14 div.sk-label-container {text-align: center;}#sk-container-id-14 div.sk-container {/* jupyter's `normalize.less` sets `[hidden] { display: none; }` but bootstrap.min.css set `[hidden] { display: none !important; }` so we also need the `!important` here to be able to override the default hidden behavior on the sphinx rendered scikit-learn.org. See: https://github.com/scikit-learn/scikit-learn/issues/21755 */display: inline-block !important;position: relative;}#sk-container-id-14 div.sk-text-repr-fallback {display: none;}</style><div id=\"sk-container-id-14\" class=\"sk-top-container\"><div class=\"sk-text-repr-fallback\"><pre>Pipeline(steps=[(&#x27;tfidfvectorizer&#x27;, TfidfVectorizer(ngram_range=(2, 2))),\n",
              "                (&#x27;logisticregression&#x27;,\n",
              "                 LogisticRegression(max_iter=250, random_state=42))])</pre><b>In a Jupyter environment, please rerun this cell to show the HTML representation or trust the notebook. <br />On GitHub, the HTML representation is unable to render, please try loading this page with nbviewer.org.</b></div><div class=\"sk-container\" hidden><div class=\"sk-item sk-dashed-wrapped\"><div class=\"sk-label-container\"><div class=\"sk-label sk-toggleable\"><input class=\"sk-toggleable__control sk-hidden--visually\" id=\"sk-estimator-id-40\" type=\"checkbox\" ><label for=\"sk-estimator-id-40\" class=\"sk-toggleable__label sk-toggleable__label-arrow\">Pipeline</label><div class=\"sk-toggleable__content\"><pre>Pipeline(steps=[(&#x27;tfidfvectorizer&#x27;, TfidfVectorizer(ngram_range=(2, 2))),\n",
              "                (&#x27;logisticregression&#x27;,\n",
              "                 LogisticRegression(max_iter=250, random_state=42))])</pre></div></div></div><div class=\"sk-serial\"><div class=\"sk-item\"><div class=\"sk-estimator sk-toggleable\"><input class=\"sk-toggleable__control sk-hidden--visually\" id=\"sk-estimator-id-41\" type=\"checkbox\" ><label for=\"sk-estimator-id-41\" class=\"sk-toggleable__label sk-toggleable__label-arrow\">TfidfVectorizer</label><div class=\"sk-toggleable__content\"><pre>TfidfVectorizer(ngram_range=(2, 2))</pre></div></div></div><div class=\"sk-item\"><div class=\"sk-estimator sk-toggleable\"><input class=\"sk-toggleable__control sk-hidden--visually\" id=\"sk-estimator-id-42\" type=\"checkbox\" ><label for=\"sk-estimator-id-42\" class=\"sk-toggleable__label sk-toggleable__label-arrow\">LogisticRegression</label><div class=\"sk-toggleable__content\"><pre>LogisticRegression(max_iter=250, random_state=42)</pre></div></div></div></div></div></div></div>"
            ]
          },
          "metadata": {},
          "execution_count": 117
        }
      ]
    },
    {
      "cell_type": "code",
      "source": [
        "from sklearn.metrics import classification_report\n",
        "y_pred = model.predict(X_test_sl_tra)\n",
        "\n",
        "print(classification_report(y_test_sl_tra, y_pred))"
      ],
      "metadata": {
        "colab": {
          "base_uri": "https://localhost:8080/"
        },
        "id": "5dtnnj0tF5zF",
        "outputId": "0c29bf92-2307-4fcf-a757-2859ef38b035"
      },
      "execution_count": null,
      "outputs": [
        {
          "output_type": "stream",
          "name": "stdout",
          "text": [
            "              precision    recall  f1-score   support\n",
            "\n",
            "           0       0.85      0.86      0.86      2856\n",
            "           1       0.88      0.87      0.87      3296\n",
            "\n",
            "    accuracy                           0.87      6152\n",
            "   macro avg       0.86      0.87      0.86      6152\n",
            "weighted avg       0.87      0.87      0.87      6152\n",
            "\n"
          ]
        }
      ]
    },
    {
      "cell_type": "code",
      "source": [],
      "metadata": {
        "id": "CJq5yoTSF-Ki"
      },
      "execution_count": null,
      "outputs": []
    },
    {
      "cell_type": "code",
      "source": [],
      "metadata": {
        "id": "KyvlDE5eFwd7"
      },
      "execution_count": null,
      "outputs": []
    },
    {
      "cell_type": "code",
      "source": [
        "train_x_sl"
      ],
      "metadata": {
        "colab": {
          "base_uri": "https://localhost:8080/"
        },
        "id": "8b34B52lJt-L",
        "outputId": "79ea3d80-3911-4d2c-a3bc-5a980ef4e53d"
      },
      "execution_count": null,
      "outputs": [
        {
          "output_type": "execute_result",
          "data": {
            "text/plain": [
              "array([[  1,   5, 979, ..., 578, 518,   2],\n",
              "       [  1, 275,  46, ...,   0,   0,   0],\n",
              "       [  1,  89, 275, ...,   0,   0,   0],\n",
              "       ...,\n",
              "       [  1, 251, 218, ...,   0,   0,   0],\n",
              "       [  1,  75, 737, ...,   0,   0,   0],\n",
              "       [  1,   5, 104, ...,   0,   0,   0]])"
            ]
          },
          "metadata": {},
          "execution_count": 210
        }
      ]
    },
    {
      "cell_type": "code",
      "source": [
        "batch_size = 50\n",
        "\n",
        "train_ds = TensorDataset(torch.tensor(train_x_sl), torch.from_numpy(train_y_sl))\n",
        "test_ds = TensorDataset(torch.from_numpy(test_x_sl), torch.from_numpy(test_y_sl))\n",
        "\n",
        "train_dl = DataLoader(train_ds, shuffle=True, batch_size=batch_size, drop_last=True)\n",
        "test_dl = DataLoader(test_ds, shuffle=True, batch_size=batch_size, drop_last=True)"
      ],
      "metadata": {
        "id": "TW53D_3LJZpI"
      },
      "execution_count": null,
      "outputs": []
    },
    {
      "cell_type": "code",
      "source": [
        "no_layers = 2\n",
        "vocab_size = len(word2index) + 1 #extra 1 for padding\n",
        "embedding_dim = 64\n",
        "output_dim = 1\n",
        "hidden_dim = 256\n",
        "\n",
        "\n",
        "model = SentimentRNN(no_layers,vocab_size,hidden_dim,embedding_dim,drop_prob=0.5)\n",
        "\n",
        "#moving to gpu\n",
        "device = torch.device('cuda' if torch.cuda.is_available() else 'cpu')\n",
        "model.to(device)\n",
        "\n",
        "print(model)"
      ],
      "metadata": {
        "colab": {
          "base_uri": "https://localhost:8080/"
        },
        "id": "uegA3XkcOpdg",
        "outputId": "7714520b-88b7-4196-ad80-c00b4c84c987"
      },
      "execution_count": null,
      "outputs": [
        {
          "output_type": "stream",
          "name": "stdout",
          "text": [
            "SentimentRNN(\n",
            "  (embedding): Embedding(1004, 64)\n",
            "  (lstm): LSTM(64, 256, num_layers=2, batch_first=True)\n",
            "  (dropout): Dropout(p=0.3, inplace=False)\n",
            "  (fc): Linear(in_features=256, out_features=1, bias=True)\n",
            "  (sig): Sigmoid()\n",
            ")\n"
          ]
        }
      ]
    },
    {
      "cell_type": "code",
      "source": [
        "# loss and optimization functions\n",
        "lr=0.001\n",
        "\n",
        "criterion = nn.BCELoss()\n",
        "\n",
        "optimizer = torch.optim.Adam(model.parameters(), lr=lr)\n",
        "\n",
        "# function to predict accuracy\n",
        "def acc(pred,label):\n",
        "    pred = torch.round(pred.squeeze())\n",
        "    return torch.sum(pred == label.squeeze()).item()"
      ],
      "metadata": {
        "id": "YU7pi3buOyMW"
      },
      "execution_count": null,
      "outputs": []
    },
    {
      "cell_type": "code",
      "source": [
        "clip = 5\n",
        "epochs = 30\n",
        "valid_loss_min = np.Inf\n",
        "# train for some number of epochs\n",
        "epoch_tr_loss,epoch_vl_loss = [],[]\n",
        "epoch_tr_acc,epoch_vl_acc = [],[]\n",
        "\n",
        "for epoch in range(epochs):\n",
        "    train_losses = []\n",
        "    train_acc = 0.0\n",
        "    model.train()\n",
        "    # initialize hidden state\n",
        "    h = model.init_hidden(batch_size)\n",
        "    for inputs, labels in train_dl:\n",
        "\n",
        "        inputs, labels = inputs.to(device), labels.to(device)\n",
        "        # Creating new variables for the hidden state, otherwise\n",
        "        # we'd backprop through the entire training history\n",
        "        h = tuple([each.data for each in h])\n",
        "\n",
        "        model.zero_grad()\n",
        "        output,h = model(inputs,h)\n",
        "\n",
        "        # calculate the loss and perform backprop\n",
        "        loss = criterion(output.squeeze(), labels.float())\n",
        "        loss.backward()\n",
        "        train_losses.append(loss.item())\n",
        "        # calculating accuracy\n",
        "        accuracy = acc(output,labels)\n",
        "        train_acc += accuracy\n",
        "        #`clip_grad_norm` helps prevent the exploding gradient problem in RNNs / LSTMs.\n",
        "        nn.utils.clip_grad_norm_(model.parameters(), clip)\n",
        "        optimizer.step()\n",
        "\n",
        "    val_h = model.init_hidden(batch_size)\n",
        "    val_losses = []\n",
        "    val_acc = 0.0\n",
        "    model.eval()\n",
        "    for inputs, labels in test_dl:\n",
        "            val_h = tuple([each.data for each in val_h])\n",
        "\n",
        "            inputs, labels = inputs.to(device), labels.to(device)\n",
        "\n",
        "            output, val_h = model(inputs, val_h)\n",
        "            val_loss = criterion(output.squeeze(), labels.float())\n",
        "\n",
        "            val_losses.append(val_loss.item())\n",
        "\n",
        "            accuracy = acc(output,labels)\n",
        "            val_acc += accuracy\n",
        "\n",
        "    epoch_train_loss = np.mean(train_losses)\n",
        "    epoch_val_loss = np.mean(val_losses)\n",
        "    epoch_train_acc = train_acc/len(train_dl.dataset)\n",
        "    epoch_val_acc = val_acc/len(test_dl.dataset)\n",
        "    epoch_tr_loss.append(epoch_train_loss)\n",
        "    epoch_vl_loss.append(epoch_val_loss)\n",
        "    epoch_tr_acc.append(epoch_train_acc)\n",
        "    epoch_vl_acc.append(epoch_val_acc)\n",
        "    print(f'Epoch {epoch+1}')\n",
        "    print(f'train_loss : {epoch_train_loss} val_loss : {epoch_val_loss}')\n",
        "    print(f'train_accuracy : {epoch_train_acc*100} val_accuracy : {epoch_val_acc*100}')\n",
        "    # if epoch_val_loss <= valid_loss_min:\n",
        "    #     torch.save(model.state_dict(), '../working/state_dict.pt')\n",
        "    #     print('Validation loss decreased ({:.6f} --> {:.6f}).  Saving model ...'.format(valid_loss_min,epoch_val_loss))\n",
        "    #     valid_loss_min = epoch_val_loss\n",
        "    # print(25*'==')"
      ],
      "metadata": {
        "colab": {
          "base_uri": "https://localhost:8080/"
        },
        "id": "R7E3dJsqO6QM",
        "outputId": "e504d717-0abe-4047-de7d-8e86921bd223"
      },
      "execution_count": null,
      "outputs": [
        {
          "output_type": "stream",
          "name": "stdout",
          "text": [
            "Epoch 1\n",
            "train_loss : 0.6930220885772139 val_loss : 0.6950908017352344\n",
            "train_accuracy : 51.163108921729616 val_accuracy : 46.55396618985696\n",
            "Epoch 2\n",
            "train_loss : 0.6927524059330492 val_loss : 0.7030995061727074\n",
            "train_accuracy : 50.866630176975 val_accuracy : 46.47269180754226\n",
            "Epoch 3\n",
            "train_loss : 0.6927119894250887 val_loss : 0.7067771394078325\n",
            "train_accuracy : 51.31590950556468 val_accuracy : 46.4076723016905\n",
            "Epoch 4\n",
            "train_loss : 0.6902802571586278 val_loss : 0.718945890422759\n",
            "train_accuracy : 52.66146688560481 val_accuracy : 46.814044213263976\n",
            "Epoch 5\n",
            "train_loss : 0.45356429310421964 val_loss : 0.5056152666002754\n",
            "train_accuracy : 79.15298303229338 val_accuracy : 75.9590377113134\n",
            "Epoch 6\n",
            "train_loss : 0.34836772667694854 val_loss : 0.4857875399473237\n",
            "train_accuracy : 84.64468162744025 val_accuracy : 77.94213263979194\n",
            "Epoch 7\n",
            "train_loss : 0.3169465219287295 val_loss : 0.4910872452627353\n",
            "train_accuracy : 86.3596971355592 val_accuracy : 77.4219765929779\n",
            "Epoch 8\n",
            "train_loss : 0.29753484990294665 val_loss : 0.47056724143222095\n",
            "train_accuracy : 87.19439883232987 val_accuracy : 78.77113133940182\n",
            "Epoch 9\n",
            "train_loss : 0.2724449026172972 val_loss : 0.48226232911513106\n",
            "train_accuracy : 88.27084473636198 val_accuracy : 78.12093628088427\n",
            "Epoch 10\n",
            "train_loss : 0.2439996249012683 val_loss : 0.5083238142050379\n",
            "train_accuracy : 89.72130997993068 val_accuracy : 78.78738621586476\n",
            "Epoch 11\n",
            "train_loss : 0.205554353832331 val_loss : 0.5955768617672649\n",
            "train_accuracy : 91.57772304324028 val_accuracy : 77.89336801040312\n",
            "Epoch 12\n",
            "train_loss : 0.16264723742287182 val_loss : 0.7260896401192115\n",
            "train_accuracy : 93.62342638204707 val_accuracy : 77.48699609882965\n",
            "Epoch 13\n",
            "train_loss : 0.1194593291697794 val_loss : 0.8279391529598856\n",
            "train_accuracy : 95.53001277139208 val_accuracy : 76.41417425227569\n",
            "Epoch 14\n",
            "train_loss : 0.0883638826905873 val_loss : 0.8746717012510067\n",
            "train_accuracy : 96.98047801496077 val_accuracy : 75.84525357607282\n",
            "Epoch 15\n",
            "train_loss : 0.07010611419254471 val_loss : 1.102196001425022\n",
            "train_accuracy : 97.75132275132276 val_accuracy : 75.99154746423928\n",
            "Epoch 16\n",
            "train_loss : 0.05644119344492226 val_loss : 1.2510672991837912\n",
            "train_accuracy : 98.34199963510308 val_accuracy : 75.27633289986996\n",
            "Epoch 17\n",
            "train_loss : 0.051447744551699474 val_loss : 1.1844521157625245\n",
            "train_accuracy : 98.41041780696953 val_accuracy : 75.2925877763329\n",
            "Epoch 18\n",
            "train_loss : 0.04087512009643171 val_loss : 1.3482342100724942\n",
            "train_accuracy : 98.76163108921729 val_accuracy : 75.09752925877763\n",
            "Epoch 19\n",
            "train_loss : 0.04137442259093509 val_loss : 1.3441896293221451\n",
            "train_accuracy : 98.7730341178617 val_accuracy : 75.39011703511053\n",
            "Epoch 20\n",
            "train_loss : 0.03754801548284917 val_loss : 1.1951651631332025\n",
            "train_accuracy : 98.83232986681263 val_accuracy : 73.60208062418727\n",
            "Epoch 21\n",
            "train_loss : 0.03400601038058633 val_loss : 1.3956294335970065\n",
            "train_accuracy : 98.90302864440795 val_accuracy : 75.61768530559168\n",
            "Epoch 22\n",
            "train_loss : 0.029415249890638793 val_loss : 1.4865816821896933\n",
            "train_accuracy : 99.09003831417624 val_accuracy : 75.63394018205462\n",
            "Epoch 23\n",
            "train_loss : 0.02706196815641671 val_loss : 1.549129021846182\n",
            "train_accuracy : 99.17442072614486 val_accuracy : 75.19505851755527\n",
            "Epoch 24\n",
            "train_loss : 0.025134831467804448 val_loss : 1.7078268045816964\n",
            "train_accuracy : 99.20862981207809 val_accuracy : 74.90247074122237\n",
            "Epoch 25\n",
            "train_loss : 0.02541314366488339 val_loss : 1.59990162553826\n",
            "train_accuracy : 99.17442072614486 val_accuracy : 74.88621586475944\n",
            "Epoch 26\n",
            "train_loss : 0.022613849840691733 val_loss : 1.5766916381634348\n",
            "train_accuracy : 99.21319102353586 val_accuracy : 74.75617685305592\n",
            "Epoch 27\n",
            "train_loss : 0.02018362686552185 val_loss : 1.6613411564167921\n",
            "train_accuracy : 99.29073161831784 val_accuracy : 74.90247074122237\n",
            "Epoch 28\n",
            "train_loss : 0.02131626475263508 val_loss : 1.5010640441886778\n",
            "train_accuracy : 99.22687465790914 val_accuracy : 75.27633289986996\n",
            "Epoch 29\n",
            "train_loss : 0.017396722055313663 val_loss : 1.585123677563861\n",
            "train_accuracy : 99.39792008757526 val_accuracy : 75.61768530559168\n",
            "Epoch 30\n",
            "train_loss : 0.017664786898808103 val_loss : 1.4898528926740817\n",
            "train_accuracy : 99.35230797299764 val_accuracy : 74.57737321196359\n"
          ]
        }
      ]
    },
    {
      "cell_type": "code",
      "source": [
        "fig = plt.figure(figsize = (20, 6))\n",
        "plt.subplot(1, 2, 1)\n",
        "plt.plot(epoch_tr_acc, label='Train Acc')\n",
        "plt.plot(epoch_vl_acc, label='Validation Acc')\n",
        "plt.title(\"Accuracy\")\n",
        "plt.xlabel(\"Epoch\")\n",
        "plt.ylabel(\"Accuracy\")\n",
        "plt.legend()\n",
        "plt.grid()\n",
        "\n",
        "plt.subplot(1, 2, 2)\n",
        "plt.plot(epoch_tr_loss, label='Train loss')\n",
        "plt.plot(epoch_vl_loss, label='Validation loss')\n",
        "plt.title(\"Loss\")\n",
        "plt.xlabel(\"Epoch\")\n",
        "plt.ylabel(\"Loss\")\n",
        "plt.legend()\n",
        "plt.grid()\n",
        "\n",
        "plt.show()"
      ],
      "metadata": {
        "colab": {
          "base_uri": "https://localhost:8080/",
          "height": 334
        },
        "id": "7oKW0E-QPZd9",
        "outputId": "7f7f124c-98f8-43f6-f7b1-ca507c1623e9"
      },
      "execution_count": null,
      "outputs": [
        {
          "output_type": "display_data",
          "data": {
            "text/plain": [
              "<Figure size 2000x600 with 2 Axes>"
            ],
            "image/png": "[encoded data removed]"
          },
          "metadata": {}
        }
      ]
    },
    {
      "cell_type": "markdown",
      "source": [
        "# change a way so that train on long and test on short, the threshold is now word length of 50"
      ],
      "metadata": {
        "id": "5PfGvCHZTIsR"
      }
    },
    {
      "cell_type": "code",
      "source": [
        "short_reviews = nlp_df_reduced[[len(review) < 50 for review in nlp_df_reduced['lemmatized_tokens']]][['lemmatized_tokens', 'encoded_sentence', 'label']]\n",
        "long_reviews = nlp_df_reduced[[len(review) >= 50 for review in nlp_df_reduced['lemmatized_tokens']]][['lemmatized_tokens', 'encoded_sentence', 'label']]"
      ],
      "metadata": {
        "id": "_6tfAdXkTMbT"
      },
      "execution_count": null,
      "outputs": []
    },
    {
      "cell_type": "code",
      "source": [
        "len(short_reviews)"
      ],
      "metadata": {
        "colab": {
          "base_uri": "https://localhost:8080/"
        },
        "id": "lZQB_QCpULfB",
        "outputId": "6ce573ec-a89c-4366-e919-9ad908c35fe2"
      },
      "execution_count": null,
      "outputs": [
        {
          "output_type": "execute_result",
          "data": {
            "text/plain": [
              "6874"
            ]
          },
          "metadata": {},
          "execution_count": 90
        }
      ]
    },
    {
      "cell_type": "code",
      "source": [
        "len(long_reviews)"
      ],
      "metadata": {
        "colab": {
          "base_uri": "https://localhost:8080/"
        },
        "id": "z9Q-2d2rUN5J",
        "outputId": "d13f1034-488a-4cf7-e786-779d9bac9c95"
      },
      "execution_count": null,
      "outputs": [
        {
          "output_type": "execute_result",
          "data": {
            "text/plain": [
              "43126"
            ]
          },
          "metadata": {},
          "execution_count": 91
        }
      ]
    },
    {
      "cell_type": "code",
      "source": [
        "X_train_sl, X_test_sl = list(long_reviews['lemmatized_tokens']), list(short_reviews['lemmatized_tokens'])\n",
        "y_train_sl, y_test_sl = list(long_reviews['label']), list(short_reviews['label'])\n",
        "train_x_sl = np.array(X_train_sl)\n",
        "train_y_sl = np.array(y_train_sl)\n",
        "test_x_sl = np.array(X_test_sl)\n",
        "test_y_sl = np.array(y_test_sl)"
      ],
      "metadata": {
        "id": "7b6fk6lhUgei",
        "colab": {
          "base_uri": "https://localhost:8080/"
        },
        "outputId": "8bc2a23e-985a-4d2d-b686-f7e867e43713"
      },
      "execution_count": null,
      "outputs": [
        {
          "output_type": "stream",
          "name": "stderr",
          "text": [
            "<ipython-input-106-986be8ae941b>:3: VisibleDeprecationWarning: Creating an ndarray from ragged nested sequences (which is a list-or-tuple of lists-or-tuples-or ndarrays with different lengths or shapes) is deprecated. If you meant to do this, you must specify 'dtype=object' when creating the ndarray.\n",
            "  train_x_sl = np.array(X_train_sl)\n",
            "<ipython-input-106-986be8ae941b>:5: VisibleDeprecationWarning: Creating an ndarray from ragged nested sequences (which is a list-or-tuple of lists-or-tuples-or ndarrays with different lengths or shapes) is deprecated. If you meant to do this, you must specify 'dtype=object' when creating the ndarray.\n",
            "  test_x_sl = np.array(X_test_sl)\n"
          ]
        }
      ]
    },
    {
      "cell_type": "code",
      "source": [
        "len(train_x_sl)"
      ],
      "metadata": {
        "colab": {
          "base_uri": "https://localhost:8080/"
        },
        "id": "Lob-X-65ZqYs",
        "outputId": "bda246a9-b706-44f6-f981-a13b5f09d4d5"
      },
      "execution_count": null,
      "outputs": [
        {
          "output_type": "execute_result",
          "data": {
            "text/plain": [
              "43126"
            ]
          },
          "metadata": {},
          "execution_count": 107
        }
      ]
    },
    {
      "cell_type": "code",
      "source": [
        "X_train_sl_tra, X_test_sl_tra = long_reviews['lemmatized_tokens'],short_reviews['lemmatized_tokens']\n",
        "y_train_sl_tra, y_test_sl_tra = long_reviews['label'], short_reviews['label']\n",
        "X_train_sl_tra = [' '.join(sublist) for sublist in X_train_sl_tra]\n",
        "X_test_sl_tra = [' '.join(sublist) for sublist in X_test_sl_tra]"
      ],
      "metadata": {
        "id": "o8WOBZz0Kaiy"
      },
      "execution_count": null,
      "outputs": []
    },
    {
      "cell_type": "code",
      "source": [
        "from sklearn.pipeline import make_pipeline\n",
        "from sklearn.feature_extraction.text import TfidfVectorizer\n",
        "from sklearn.linear_model import LogisticRegression\n",
        "\n",
        "\n",
        "model = make_pipeline(TfidfVectorizer(ngram_range=(2, 2)), LogisticRegression(max_iter=250, random_state=42,penalty='l2'))\n",
        "model.fit(X_train_sl_tra, y_train_sl_tra)"
      ],
      "metadata": {
        "colab": {
          "base_uri": "https://localhost:8080/",
          "height": 124
        },
        "id": "c0VX796ZKqiR",
        "outputId": "bdfa8bfb-153b-4456-c5e1-5263dc33651a"
      },
      "execution_count": null,
      "outputs": [
        {
          "output_type": "execute_result",
          "data": {
            "text/plain": [
              "Pipeline(steps=[('tfidfvectorizer', TfidfVectorizer(ngram_range=(2, 2))),\n",
              "                ('logisticregression',\n",
              "                 LogisticRegression(max_iter=250, random_state=42))])"
            ],
            "text/html": [
              "<style>#sk-container-id-13 {color: black;background-color: white;}#sk-container-id-13 pre{padding: 0;}#sk-container-id-13 div.sk-toggleable {background-color: white;}#sk-container-id-13 label.sk-toggleable__label {cursor: pointer;display: block;width: 100%;margin-bottom: 0;padding: 0.3em;box-sizing: border-box;text-align: center;}#sk-container-id-13 label.sk-toggleable__label-arrow:before {content: \"▸\";float: left;margin-right: 0.25em;color: #696969;}#sk-container-id-13 label.sk-toggleable__label-arrow:hover:before {color: black;}#sk-container-id-13 div.sk-estimator:hover label.sk-toggleable__label-arrow:before {color: black;}#sk-container-id-13 div.sk-toggleable__content {max-height: 0;max-width: 0;overflow: hidden;text-align: left;background-color: #f0f8ff;}#sk-container-id-13 div.sk-toggleable__content pre {margin: 0.2em;color: black;border-radius: 0.25em;background-color: #f0f8ff;}#sk-container-id-13 input.sk-toggleable__control:checked~div.sk-toggleable__content {max-height: 200px;max-width: 100%;overflow: auto;}#sk-container-id-13 input.sk-toggleable__control:checked~label.sk-toggleable__label-arrow:before {content: \"▾\";}#sk-container-id-13 div.sk-estimator input.sk-toggleable__control:checked~label.sk-toggleable__label {background-color: #d4ebff;}#sk-container-id-13 div.sk-label input.sk-toggleable__control:checked~label.sk-toggleable__label {background-color: #d4ebff;}#sk-container-id-13 input.sk-hidden--visually {border: 0;clip: rect(1px 1px 1px 1px);clip: rect(1px, 1px, 1px, 1px);height: 1px;margin: -1px;overflow: hidden;padding: 0;position: absolute;width: 1px;}#sk-container-id-13 div.sk-estimator {font-family: monospace;background-color: #f0f8ff;border: 1px dotted black;border-radius: 0.25em;box-sizing: border-box;margin-bottom: 0.5em;}#sk-container-id-13 div.sk-estimator:hover {background-color: #d4ebff;}#sk-container-id-13 div.sk-parallel-item::after {content: \"\";width: 100%;border-bottom: 1px solid gray;flex-grow: 1;}#sk-container-id-13 div.sk-label:hover label.sk-toggleable__label {background-color: #d4ebff;}#sk-container-id-13 div.sk-serial::before {content: \"\";position: absolute;border-left: 1px solid gray;box-sizing: border-box;top: 0;bottom: 0;left: 50%;z-index: 0;}#sk-container-id-13 div.sk-serial {display: flex;flex-direction: column;align-items: center;background-color: white;padding-right: 0.2em;padding-left: 0.2em;position: relative;}#sk-container-id-13 div.sk-item {position: relative;z-index: 1;}#sk-container-id-13 div.sk-parallel {display: flex;align-items: stretch;justify-content: center;background-color: white;position: relative;}#sk-container-id-13 div.sk-item::before, #sk-container-id-13 div.sk-parallel-item::before {content: \"\";position: absolute;border-left: 1px solid gray;box-sizing: border-box;top: 0;bottom: 0;left: 50%;z-index: -1;}#sk-container-id-13 div.sk-parallel-item {display: flex;flex-direction: column;z-index: 1;position: relative;background-color: white;}#sk-container-id-13 div.sk-parallel-item:first-child::after {align-self: flex-end;width: 50%;}#sk-container-id-13 div.sk-parallel-item:last-child::after {align-self: flex-start;width: 50%;}#sk-container-id-13 div.sk-parallel-item:only-child::after {width: 0;}#sk-container-id-13 div.sk-dashed-wrapped {border: 1px dashed gray;margin: 0 0.4em 0.5em 0.4em;box-sizing: border-box;padding-bottom: 0.4em;background-color: white;}#sk-container-id-13 div.sk-label label {font-family: monospace;font-weight: bold;display: inline-block;line-height: 1.2em;}#sk-container-id-13 div.sk-label-container {text-align: center;}#sk-container-id-13 div.sk-container {/* jupyter's `normalize.less` sets `[hidden] { display: none; }` but bootstrap.min.css set `[hidden] { display: none !important; }` so we also need the `!important` here to be able to override the default hidden behavior on the sphinx rendered scikit-learn.org. See: https://github.com/scikit-learn/scikit-learn/issues/21755 */display: inline-block !important;position: relative;}#sk-container-id-13 div.sk-text-repr-fallback {display: none;}</style><div id=\"sk-container-id-13\" class=\"sk-top-container\"><div class=\"sk-text-repr-fallback\"><pre>Pipeline(steps=[(&#x27;tfidfvectorizer&#x27;, TfidfVectorizer(ngram_range=(2, 2))),\n",
              "                (&#x27;logisticregression&#x27;,\n",
              "                 LogisticRegression(max_iter=250, random_state=42))])</pre><b>In a Jupyter environment, please rerun this cell to show the HTML representation or trust the notebook. <br />On GitHub, the HTML representation is unable to render, please try loading this page with nbviewer.org.</b></div><div class=\"sk-container\" hidden><div class=\"sk-item sk-dashed-wrapped\"><div class=\"sk-label-container\"><div class=\"sk-label sk-toggleable\"><input class=\"sk-toggleable__control sk-hidden--visually\" id=\"sk-estimator-id-37\" type=\"checkbox\" ><label for=\"sk-estimator-id-37\" class=\"sk-toggleable__label sk-toggleable__label-arrow\">Pipeline</label><div class=\"sk-toggleable__content\"><pre>Pipeline(steps=[(&#x27;tfidfvectorizer&#x27;, TfidfVectorizer(ngram_range=(2, 2))),\n",
              "                (&#x27;logisticregression&#x27;,\n",
              "                 LogisticRegression(max_iter=250, random_state=42))])</pre></div></div></div><div class=\"sk-serial\"><div class=\"sk-item\"><div class=\"sk-estimator sk-toggleable\"><input class=\"sk-toggleable__control sk-hidden--visually\" id=\"sk-estimator-id-38\" type=\"checkbox\" ><label for=\"sk-estimator-id-38\" class=\"sk-toggleable__label sk-toggleable__label-arrow\">TfidfVectorizer</label><div class=\"sk-toggleable__content\"><pre>TfidfVectorizer(ngram_range=(2, 2))</pre></div></div></div><div class=\"sk-item\"><div class=\"sk-estimator sk-toggleable\"><input class=\"sk-toggleable__control sk-hidden--visually\" id=\"sk-estimator-id-39\" type=\"checkbox\" ><label for=\"sk-estimator-id-39\" class=\"sk-toggleable__label sk-toggleable__label-arrow\">LogisticRegression</label><div class=\"sk-toggleable__content\"><pre>LogisticRegression(max_iter=250, random_state=42)</pre></div></div></div></div></div></div></div>"
            ]
          },
          "metadata": {},
          "execution_count": 109
        }
      ]
    },
    {
      "cell_type": "code",
      "source": [
        "from sklearn.metrics import classification_report\n",
        "y_pred = model.predict(X_test_sl_tra)\n",
        "\n",
        "print(classification_report(y_test_sl_tra, y_pred))"
      ],
      "metadata": {
        "colab": {
          "base_uri": "https://localhost:8080/"
        },
        "id": "-BswkkyqKret",
        "outputId": "e7777602-33d6-4fce-d2dc-26c9f1ea3c73"
      },
      "execution_count": null,
      "outputs": [
        {
          "output_type": "stream",
          "name": "stdout",
          "text": [
            "              precision    recall  f1-score   support\n",
            "\n",
            "           0       0.85      0.83      0.84      3202\n",
            "           1       0.85      0.88      0.86      3672\n",
            "\n",
            "    accuracy                           0.85      6874\n",
            "   macro avg       0.85      0.85      0.85      6874\n",
            "weighted avg       0.85      0.85      0.85      6874\n",
            "\n"
          ]
        }
      ]
    },
    {
      "cell_type": "code",
      "source": [
        "batch_size = 50\n",
        "\n",
        "train_ds = TensorDataset(torch.tensor(train_x_sl), torch.from_numpy(train_y_sl))\n",
        "test_ds = TensorDataset(torch.from_numpy(test_x_sl), torch.from_numpy(test_y_sl))\n",
        "\n",
        "train_dl = DataLoader(train_ds, shuffle=True, batch_size=batch_size, drop_last=True)\n",
        "test_dl = DataLoader(test_ds, shuffle=True, batch_size=batch_size, drop_last=True)"
      ],
      "metadata": {
        "id": "YQJwlkTzUqq5"
      },
      "execution_count": null,
      "outputs": []
    },
    {
      "cell_type": "code",
      "source": [
        "len(train_dl)"
      ],
      "metadata": {
        "colab": {
          "base_uri": "https://localhost:8080/"
        },
        "id": "Zh7gfwV6ZtM1",
        "outputId": "4c6e70cc-fb1f-4a24-a0d6-cc6577ff916b"
      },
      "execution_count": null,
      "outputs": [
        {
          "output_type": "execute_result",
          "data": {
            "text/plain": [
              "862"
            ]
          },
          "metadata": {},
          "execution_count": 190
        }
      ]
    },
    {
      "cell_type": "code",
      "source": [
        "no_layers = 2\n",
        "vocab_size = len(word2index) + 1 #extra 1 for padding\n",
        "embedding_dim = 64\n",
        "output_dim = 1\n",
        "hidden_dim = 256\n",
        "\n",
        "\n",
        "model = SentimentRNN(no_layers,vocab_size,hidden_dim,embedding_dim,drop_prob=0.5)\n",
        "\n",
        "#moving to gpu\n",
        "device = torch.device('cuda' if torch.cuda.is_available() else 'cpu')\n",
        "model.to(device)\n",
        "\n",
        "print(model)"
      ],
      "metadata": {
        "colab": {
          "base_uri": "https://localhost:8080/"
        },
        "id": "0Pv8F2sMUyJN",
        "outputId": "ed08b8ac-f13a-483b-fade-de24dbc84fd4"
      },
      "execution_count": null,
      "outputs": [
        {
          "output_type": "stream",
          "name": "stdout",
          "text": [
            "SentimentRNN(\n",
            "  (embedding): Embedding(1004, 64)\n",
            "  (lstm): LSTM(64, 256, num_layers=2, batch_first=True)\n",
            "  (dropout): Dropout(p=0.3, inplace=False)\n",
            "  (fc): Linear(in_features=256, out_features=1, bias=True)\n",
            "  (sig): Sigmoid()\n",
            ")\n"
          ]
        }
      ]
    },
    {
      "cell_type": "code",
      "source": [
        "# loss and optimization functions\n",
        "lr=0.001\n",
        "\n",
        "criterion = nn.BCELoss()\n",
        "\n",
        "optimizer = torch.optim.Adam(model.parameters(), lr=lr)\n",
        "\n",
        "# function to predict accuracy\n",
        "def acc(pred,label):\n",
        "    pred = torch.round(pred.squeeze())\n",
        "    return torch.sum(pred == label.squeeze()).item()"
      ],
      "metadata": {
        "id": "kKFEEwIWUy3C"
      },
      "execution_count": null,
      "outputs": []
    },
    {
      "cell_type": "code",
      "source": [
        "clip = 5\n",
        "epochs = 30\n",
        "valid_loss_min = np.Inf\n",
        "# train for some number of epochs\n",
        "epoch_tr_loss,epoch_vl_loss = [],[]\n",
        "epoch_tr_acc,epoch_vl_acc = [],[]\n",
        "\n",
        "for epoch in range(epochs):\n",
        "    train_losses = []\n",
        "    train_acc = 0.0\n",
        "    model.train()\n",
        "    # initialize hidden state\n",
        "    h = model.init_hidden(batch_size)\n",
        "    for inputs, labels in train_dl:\n",
        "\n",
        "        inputs, labels = inputs.to(device), labels.to(device)\n",
        "        # Creating new variables for the hidden state, otherwise\n",
        "        # we'd backprop through the entire training history\n",
        "        h = tuple([each.data for each in h])\n",
        "\n",
        "        model.zero_grad()\n",
        "        output,h = model(inputs,h)\n",
        "\n",
        "        # calculate the loss and perform backprop\n",
        "        loss = criterion(output.squeeze(), labels.float())\n",
        "        loss.backward()\n",
        "        train_losses.append(loss.item())\n",
        "        # calculating accuracy\n",
        "        accuracy = acc(output,labels)\n",
        "        train_acc += accuracy\n",
        "        #`clip_grad_norm` helps prevent the exploding gradient problem in RNNs / LSTMs.\n",
        "        nn.utils.clip_grad_norm_(model.parameters(), clip)\n",
        "        optimizer.step()\n",
        "\n",
        "    val_h = model.init_hidden(batch_size)\n",
        "    val_losses = []\n",
        "    val_acc = 0.0\n",
        "    model.eval()\n",
        "    for inputs, labels in test_dl:\n",
        "            val_h = tuple([each.data for each in val_h])\n",
        "\n",
        "            inputs, labels = inputs.to(device), labels.to(device)\n",
        "\n",
        "            output, val_h = model(inputs, val_h)\n",
        "            val_loss = criterion(output.squeeze(), labels.float())\n",
        "\n",
        "            val_losses.append(val_loss.item())\n",
        "\n",
        "            accuracy = acc(output,labels)\n",
        "            val_acc += accuracy\n",
        "\n",
        "    epoch_train_loss = np.mean(train_losses)\n",
        "    epoch_val_loss = np.mean(val_losses)\n",
        "    epoch_train_acc = train_acc/len(train_dl.dataset)\n",
        "    epoch_val_acc = val_acc/len(test_dl.dataset)\n",
        "    epoch_tr_loss.append(epoch_train_loss)\n",
        "    epoch_vl_loss.append(epoch_val_loss)\n",
        "    epoch_tr_acc.append(epoch_train_acc)\n",
        "    epoch_vl_acc.append(epoch_val_acc)\n",
        "    print(f'Epoch {epoch+1}')\n",
        "    print(f'train_loss : {epoch_train_loss} val_loss : {epoch_val_loss}')\n",
        "    print(f'train_accuracy : {epoch_train_acc*100} val_accuracy : {epoch_val_acc*100}')\n",
        "    # if epoch_val_loss <= valid_loss_min:\n",
        "    #     torch.save(model.state_dict(), '../working/state_dict.pt')\n",
        "    #     print('Validation loss decreased ({:.6f} --> {:.6f}).  Saving model ...'.format(valid_loss_min,epoch_val_loss))\n",
        "    #     valid_loss_min = epoch_val_loss\n",
        "    # print(25*'==')"
      ],
      "metadata": {
        "colab": {
          "base_uri": "https://localhost:8080/"
        },
        "id": "mvo9gLo1U93u",
        "outputId": "b30a1e1b-baba-4f01-82d5-ecb0558d2555"
      },
      "execution_count": null,
      "outputs": [
        {
          "output_type": "stream",
          "name": "stdout",
          "text": [
            "Epoch 1\n",
            "train_loss : 0.6932381233178823 val_loss : 0.6945430079515833\n",
            "train_accuracy : 51.041135278022544 val_accuracy : 46.450392784405004\n",
            "Epoch 2\n",
            "train_loss : 0.6925290195128757 val_loss : 0.689093341792587\n",
            "train_accuracy : 50.3825998237722 val_accuracy : 46.42129764329357\n",
            "Epoch 3\n",
            "train_loss : 0.6911937665635085 val_loss : 0.6941481219591016\n",
            "train_accuracy : 52.406900709548765 val_accuracy : 46.39220250218214\n",
            "Epoch 4\n",
            "train_loss : 0.5374444216109484 val_loss : 0.4154796119589005\n",
            "train_accuracy : 70.82502434726152 val_accuracy : 81.87372708757637\n",
            "Epoch 5\n",
            "train_loss : 0.37040064563399955 val_loss : 0.3479902856323841\n",
            "train_accuracy : 83.81718684784121 val_accuracy : 84.47774221704975\n",
            "Epoch 6\n",
            "train_loss : 0.33763924676691576 val_loss : 0.33356764618932766\n",
            "train_accuracy : 85.42874368130595 val_accuracy : 84.87052662205411\n",
            "Epoch 7\n",
            "train_loss : 0.31507276287280767 val_loss : 0.32481493762809865\n",
            "train_accuracy : 86.3516208319807 val_accuracy : 85.37969159150421\n",
            "Epoch 8\n",
            "train_loss : 0.2925757580801948 val_loss : 0.3290485902859347\n",
            "train_accuracy : 87.4182627649214 val_accuracy : 84.8559790514984\n",
            "Epoch 9\n",
            "train_loss : 0.26201293698734585 val_loss : 0.3326224527002251\n",
            "train_accuracy : 89.07387654779019 val_accuracy : 85.35059645039279\n",
            "Epoch 10\n",
            "train_loss : 0.2212031472716351 val_loss : 0.38303685422143796\n",
            "train_accuracy : 90.81064786903492 val_accuracy : 84.49228978760547\n",
            "Epoch 11\n",
            "train_loss : 0.1749264210886095 val_loss : 0.40711477920956857\n",
            "train_accuracy : 93.01117655242777 val_accuracy : 84.98690718649985\n",
            "Epoch 12\n",
            "train_loss : 0.12942801730106573 val_loss : 0.47409362373125813\n",
            "train_accuracy : 95.18387979409172 val_accuracy : 84.6086703520512\n",
            "Epoch 13\n",
            "train_loss : 0.09528142820477589 val_loss : 0.5220262580109338\n",
            "train_accuracy : 96.65862820572276 val_accuracy : 84.20133837649114\n",
            "Epoch 14\n",
            "train_loss : 0.07248129268820244 val_loss : 0.5993349815372133\n",
            "train_accuracy : 97.61860594536938 val_accuracy : 83.99767238871108\n",
            "Epoch 15\n",
            "train_loss : 0.054611604856035466 val_loss : 0.609614812979733\n",
            "train_accuracy : 98.22844687659416 val_accuracy : 84.1867908059354\n",
            "Epoch 16\n",
            "train_loss : 0.04739722478275864 val_loss : 0.6463488544860896\n",
            "train_accuracy : 98.5206140147475 val_accuracy : 84.1867908059354\n",
            "Epoch 17\n",
            "train_loss : 0.03703303974980203 val_loss : 0.7021916132338726\n",
            "train_accuracy : 98.88002597041228 val_accuracy : 83.4157695664824\n",
            "Epoch 18\n",
            "train_loss : 0.03624037418148768 val_loss : 0.6747704178203632\n",
            "train_accuracy : 98.82205630014377 val_accuracy : 84.50683735816119\n",
            "Epoch 19\n",
            "train_loss : 0.032118743585353486 val_loss : 0.6371516101878055\n",
            "train_accuracy : 99.00524045819228 val_accuracy : 83.69217340704103\n",
            "Epoch 20\n",
            "train_loss : 0.026977893469567256 val_loss : 0.8107557904763814\n",
            "train_accuracy : 99.13277373278301 val_accuracy : 84.21588594704684\n",
            "Epoch 21\n",
            "train_loss : 0.02628500260795027 val_loss : 0.7469574957542175\n",
            "train_accuracy : 99.15596160089042 val_accuracy : 84.41955193482688\n",
            "Epoch 22\n",
            "train_loss : 0.024718829998063147 val_loss : 0.847767341746031\n",
            "train_accuracy : 99.1837870426193 val_accuracy : 83.29938900203666\n",
            "Epoch 23\n",
            "train_loss : 0.023233029104936964 val_loss : 0.8363443578246736\n",
            "train_accuracy : 99.27190094142745 val_accuracy : 84.07041024148967\n",
            "Epoch 24\n",
            "train_loss : 0.022060368674388046 val_loss : 0.8461078012729213\n",
            "train_accuracy : 99.29972638315633 val_accuracy : 83.4157695664824\n",
            "Epoch 25\n",
            "train_loss : 0.022218533794336474 val_loss : 0.8444726869572688\n",
            "train_accuracy : 99.26262579418447 val_accuracy : 84.12860052371254\n",
            "Epoch 26\n",
            "train_loss : 0.021059447935688647 val_loss : 0.7691144353716913\n",
            "train_accuracy : 99.31363910402078 val_accuracy : 83.72126854815247\n",
            "Epoch 27\n",
            "train_loss : 0.019477998580080792 val_loss : 0.7963858416480739\n",
            "train_accuracy : 99.38320270834299 val_accuracy : 83.4157695664824\n",
            "Epoch 28\n",
            "train_loss : 0.017930200678211845 val_loss : 0.8562267507514815\n",
            "train_accuracy : 99.43653480499003 val_accuracy : 84.05586267093396\n",
            "Epoch 29\n",
            "train_loss : 0.021319033144519443 val_loss : 0.7790570150326638\n",
            "train_accuracy : 99.31595789083151 val_accuracy : 84.37590922315972\n",
            "Epoch 30\n",
            "train_loss : 0.018643992938315486 val_loss : 0.8532137055031574\n",
            "train_accuracy : 99.40407178963966 val_accuracy : 83.2411987198138\n"
          ]
        }
      ]
    },
    {
      "cell_type": "code",
      "source": [
        "fig = plt.figure(figsize = (20, 6))\n",
        "plt.subplot(1, 2, 1)\n",
        "plt.plot(epoch_tr_acc, label='Train Acc')\n",
        "plt.plot(epoch_vl_acc, label='Validation Acc')\n",
        "plt.title(\"Accuracy\")\n",
        "plt.xlabel(\"Epoch\")\n",
        "plt.ylabel(\"Accuracy\")\n",
        "plt.legend()\n",
        "plt.grid()\n",
        "\n",
        "plt.subplot(1, 2, 2)\n",
        "plt.plot(epoch_tr_loss, label='Train loss')\n",
        "plt.plot(epoch_vl_loss, label='Validation loss')\n",
        "plt.title(\"Loss\")\n",
        "plt.xlabel(\"Epoch\")\n",
        "plt.ylabel(\"Loss\")\n",
        "plt.legend()\n",
        "plt.grid()\n",
        "\n",
        "plt.show()"
      ],
      "metadata": {
        "colab": {
          "base_uri": "https://localhost:8080/",
          "height": 584
        },
        "id": "hYzkKQS-U-cx",
        "outputId": "079d97be-6789-4cd8-bd29-08e49dfdc2d9"
      },
      "execution_count": null,
      "outputs": [
        {
          "output_type": "display_data",
          "data": {
            "text/plain": [
              "<Figure size 2000x600 with 2 Axes>"
            ],
            "image/png": "[encoded data removed]"
          },
          "metadata": {}
        }
      ]
    },
    {
      "cell_type": "markdown",
      "source": [
        "# Train on less than 80 test on more than 200"
      ],
      "metadata": {
        "id": "JDl02k_p801Q"
      }
    },
    {
      "cell_type": "code",
      "source": [
        "short_reviews_count = sum(len(review) < 80 for review in nlp_df_reduced['lemmatized_tokens'])\n",
        "long_reviews_count = sum(len(review) >= 200 for review in nlp_df_reduced['lemmatized_tokens'])\n",
        "print(short_reviews_count, long_reviews_count)"
      ],
      "metadata": {
        "colab": {
          "base_uri": "https://localhost:8080/"
        },
        "id": "W_4zJ2vr8pyh",
        "outputId": "0a7c599b-044c-45cc-8407-8a289a5a5146"
      },
      "execution_count": null,
      "outputs": [
        {
          "output_type": "stream",
          "name": "stdout",
          "text": [
            "23554 6152\n"
          ]
        }
      ]
    },
    {
      "cell_type": "code",
      "source": [],
      "metadata": {
        "id": "D0sh-9d39wCC"
      },
      "execution_count": null,
      "outputs": []
    },
    {
      "cell_type": "code",
      "source": [
        "short_reviews = nlp_df_reduced[[len(review) < 80 for review in nlp_df_reduced['lemmatized_tokens']]][['lemmatized_tokens','label']]\n",
        "long_reviews = nlp_df_reduced[[len(review) >= 200 for review in nlp_df_reduced['lemmatized_tokens']]][['lemmatized_tokens','label']]"
      ],
      "metadata": {
        "id": "S-JMQYKL8rKy"
      },
      "execution_count": null,
      "outputs": []
    },
    {
      "cell_type": "code",
      "source": [
        "from sklearn.utils import resample"
      ],
      "metadata": {
        "id": "BgeJ0Lvt-HQB"
      },
      "execution_count": null,
      "outputs": []
    },
    {
      "cell_type": "code",
      "source": [
        "# Resample the majority class to achieve an 8:2 ratio\n",
        "upsampled_short_reviews = resample(short_reviews, replace=True, n_samples=int(8 * len(long_reviews)), random_state=42)\n"
      ],
      "metadata": {
        "id": "8U1U29jg-SOP"
      },
      "execution_count": null,
      "outputs": []
    },
    {
      "cell_type": "code",
      "source": [
        "X_train_sl_tra, X_test_sl_tra = short_reviews['lemmatized_tokens'],long_reviews['lemmatized_tokens']\n",
        "y_train_sl_tra, y_test_sl_tra = short_reviews['label'], long_reviews['label']\n",
        "X_train_sl_tra = [' '.join(sublist) for sublist in X_train_sl_tra]\n",
        "X_test_sl_tra = [' '.join(sublist) for sublist in X_test_sl_tra]"
      ],
      "metadata": {
        "id": "Yt_vDd8ALI-H"
      },
      "execution_count": null,
      "outputs": []
    },
    {
      "cell_type": "code",
      "source": [
        "from sklearn.pipeline import make_pipeline\n",
        "from sklearn.feature_extraction.text import TfidfVectorizer\n",
        "from sklearn.linear_model import LogisticRegression\n",
        "\n",
        "\n",
        "model = make_pipeline(TfidfVectorizer(ngram_range=(2, 2)), LogisticRegression(max_iter=250, random_state=42,penalty='l2'))\n",
        "model.fit(X_train_sl_tra, y_train_sl_tra)"
      ],
      "metadata": {
        "colab": {
          "base_uri": "https://localhost:8080/",
          "height": 124
        },
        "id": "7Ri7B2r3LnQ4",
        "outputId": "9e7f55ff-6f38-4eb9-f5e2-158cd9efdd89"
      },
      "execution_count": null,
      "outputs": [
        {
          "output_type": "execute_result",
          "data": {
            "text/plain": [
              "Pipeline(steps=[('tfidfvectorizer', TfidfVectorizer(ngram_range=(2, 2))),\n",
              "                ('logisticregression',\n",
              "                 LogisticRegression(max_iter=250, random_state=42))])"
            ],
            "text/html": [
              "<style>#sk-container-id-12 {color: black;background-color: white;}#sk-container-id-12 pre{padding: 0;}#sk-container-id-12 div.sk-toggleable {background-color: white;}#sk-container-id-12 label.sk-toggleable__label {cursor: pointer;display: block;width: 100%;margin-bottom: 0;padding: 0.3em;box-sizing: border-box;text-align: center;}#sk-container-id-12 label.sk-toggleable__label-arrow:before {content: \"▸\";float: left;margin-right: 0.25em;color: #696969;}#sk-container-id-12 label.sk-toggleable__label-arrow:hover:before {color: black;}#sk-container-id-12 div.sk-estimator:hover label.sk-toggleable__label-arrow:before {color: black;}#sk-container-id-12 div.sk-toggleable__content {max-height: 0;max-width: 0;overflow: hidden;text-align: left;background-color: #f0f8ff;}#sk-container-id-12 div.sk-toggleable__content pre {margin: 0.2em;color: black;border-radius: 0.25em;background-color: #f0f8ff;}#sk-container-id-12 input.sk-toggleable__control:checked~div.sk-toggleable__content {max-height: 200px;max-width: 100%;overflow: auto;}#sk-container-id-12 input.sk-toggleable__control:checked~label.sk-toggleable__label-arrow:before {content: \"▾\";}#sk-container-id-12 div.sk-estimator input.sk-toggleable__control:checked~label.sk-toggleable__label {background-color: #d4ebff;}#sk-container-id-12 div.sk-label input.sk-toggleable__control:checked~label.sk-toggleable__label {background-color: #d4ebff;}#sk-container-id-12 input.sk-hidden--visually {border: 0;clip: rect(1px 1px 1px 1px);clip: rect(1px, 1px, 1px, 1px);height: 1px;margin: -1px;overflow: hidden;padding: 0;position: absolute;width: 1px;}#sk-container-id-12 div.sk-estimator {font-family: monospace;background-color: #f0f8ff;border: 1px dotted black;border-radius: 0.25em;box-sizing: border-box;margin-bottom: 0.5em;}#sk-container-id-12 div.sk-estimator:hover {background-color: #d4ebff;}#sk-container-id-12 div.sk-parallel-item::after {content: \"\";width: 100%;border-bottom: 1px solid gray;flex-grow: 1;}#sk-container-id-12 div.sk-label:hover label.sk-toggleable__label {background-color: #d4ebff;}#sk-container-id-12 div.sk-serial::before {content: \"\";position: absolute;border-left: 1px solid gray;box-sizing: border-box;top: 0;bottom: 0;left: 50%;z-index: 0;}#sk-container-id-12 div.sk-serial {display: flex;flex-direction: column;align-items: center;background-color: white;padding-right: 0.2em;padding-left: 0.2em;position: relative;}#sk-container-id-12 div.sk-item {position: relative;z-index: 1;}#sk-container-id-12 div.sk-parallel {display: flex;align-items: stretch;justify-content: center;background-color: white;position: relative;}#sk-container-id-12 div.sk-item::before, #sk-container-id-12 div.sk-parallel-item::before {content: \"\";position: absolute;border-left: 1px solid gray;box-sizing: border-box;top: 0;bottom: 0;left: 50%;z-index: -1;}#sk-container-id-12 div.sk-parallel-item {display: flex;flex-direction: column;z-index: 1;position: relative;background-color: white;}#sk-container-id-12 div.sk-parallel-item:first-child::after {align-self: flex-end;width: 50%;}#sk-container-id-12 div.sk-parallel-item:last-child::after {align-self: flex-start;width: 50%;}#sk-container-id-12 div.sk-parallel-item:only-child::after {width: 0;}#sk-container-id-12 div.sk-dashed-wrapped {border: 1px dashed gray;margin: 0 0.4em 0.5em 0.4em;box-sizing: border-box;padding-bottom: 0.4em;background-color: white;}#sk-container-id-12 div.sk-label label {font-family: monospace;font-weight: bold;display: inline-block;line-height: 1.2em;}#sk-container-id-12 div.sk-label-container {text-align: center;}#sk-container-id-12 div.sk-container {/* jupyter's `normalize.less` sets `[hidden] { display: none; }` but bootstrap.min.css set `[hidden] { display: none !important; }` so we also need the `!important` here to be able to override the default hidden behavior on the sphinx rendered scikit-learn.org. See: https://github.com/scikit-learn/scikit-learn/issues/21755 */display: inline-block !important;position: relative;}#sk-container-id-12 div.sk-text-repr-fallback {display: none;}</style><div id=\"sk-container-id-12\" class=\"sk-top-container\"><div class=\"sk-text-repr-fallback\"><pre>Pipeline(steps=[(&#x27;tfidfvectorizer&#x27;, TfidfVectorizer(ngram_range=(2, 2))),\n",
              "                (&#x27;logisticregression&#x27;,\n",
              "                 LogisticRegression(max_iter=250, random_state=42))])</pre><b>In a Jupyter environment, please rerun this cell to show the HTML representation or trust the notebook. <br />On GitHub, the HTML representation is unable to render, please try loading this page with nbviewer.org.</b></div><div class=\"sk-container\" hidden><div class=\"sk-item sk-dashed-wrapped\"><div class=\"sk-label-container\"><div class=\"sk-label sk-toggleable\"><input class=\"sk-toggleable__control sk-hidden--visually\" id=\"sk-estimator-id-34\" type=\"checkbox\" ><label for=\"sk-estimator-id-34\" class=\"sk-toggleable__label sk-toggleable__label-arrow\">Pipeline</label><div class=\"sk-toggleable__content\"><pre>Pipeline(steps=[(&#x27;tfidfvectorizer&#x27;, TfidfVectorizer(ngram_range=(2, 2))),\n",
              "                (&#x27;logisticregression&#x27;,\n",
              "                 LogisticRegression(max_iter=250, random_state=42))])</pre></div></div></div><div class=\"sk-serial\"><div class=\"sk-item\"><div class=\"sk-estimator sk-toggleable\"><input class=\"sk-toggleable__control sk-hidden--visually\" id=\"sk-estimator-id-35\" type=\"checkbox\" ><label for=\"sk-estimator-id-35\" class=\"sk-toggleable__label sk-toggleable__label-arrow\">TfidfVectorizer</label><div class=\"sk-toggleable__content\"><pre>TfidfVectorizer(ngram_range=(2, 2))</pre></div></div></div><div class=\"sk-item\"><div class=\"sk-estimator sk-toggleable\"><input class=\"sk-toggleable__control sk-hidden--visually\" id=\"sk-estimator-id-36\" type=\"checkbox\" ><label for=\"sk-estimator-id-36\" class=\"sk-toggleable__label sk-toggleable__label-arrow\">LogisticRegression</label><div class=\"sk-toggleable__content\"><pre>LogisticRegression(max_iter=250, random_state=42)</pre></div></div></div></div></div></div></div>"
            ]
          },
          "metadata": {},
          "execution_count": 103
        }
      ]
    },
    {
      "cell_type": "code",
      "source": [
        "from sklearn.metrics import classification_report\n",
        "y_pred = model.predict(X_test_sl_tra)\n",
        "\n",
        "print(classification_report(y_test_sl_tra, y_pred))"
      ],
      "metadata": {
        "colab": {
          "base_uri": "https://localhost:8080/"
        },
        "id": "zKe-0ATbLod9",
        "outputId": "caf12490-1714-42fd-9d9e-1c5403721d91"
      },
      "execution_count": null,
      "outputs": [
        {
          "output_type": "stream",
          "name": "stdout",
          "text": [
            "              precision    recall  f1-score   support\n",
            "\n",
            "           0       0.82      0.84      0.83      2856\n",
            "           1       0.86      0.84      0.85      3296\n",
            "\n",
            "    accuracy                           0.84      6152\n",
            "   macro avg       0.84      0.84      0.84      6152\n",
            "weighted avg       0.84      0.84      0.84      6152\n",
            "\n"
          ]
        }
      ]
    },
    {
      "cell_type": "code",
      "source": [],
      "metadata": {
        "id": "q3qON-cRNtFE"
      },
      "execution_count": null,
      "outputs": []
    },
    {
      "cell_type": "code",
      "source": [
        "import matplotlib.pyplot as plt\n",
        "\n",
        "plt.figure(figsize=(6, 4))\n",
        "upsampled_short_reviews['label'].value_counts().plot(kind='bar', color=['skyblue', 'orange'])\n",
        "plt.title('Class Distribution')\n",
        "plt.xlabel('Class')\n",
        "plt.ylabel('Count')\n",
        "plt.show()"
      ],
      "metadata": {
        "colab": {
          "base_uri": "https://localhost:8080/",
          "height": 405
        },
        "id": "wXDljqd3Bwvk",
        "outputId": "7b57ecfd-3b11-4d7d-c17f-a8e4b7960287"
      },
      "execution_count": null,
      "outputs": [
        {
          "output_type": "display_data",
          "data": {
            "text/plain": [
              "<Figure size 600x400 with 1 Axes>"
            ],
            "image/png": "[encoded data removed]"
          },
          "metadata": {}
        }
      ]
    },
    {
      "cell_type": "code",
      "source": [
        "import matplotlib.pyplot as plt\n",
        "\n",
        "plt.figure(figsize=(6, 4))\n",
        "long_reviews['label'].value_counts().plot(kind='bar', color=['skyblue', 'orange'])\n",
        "plt.title('Class Distribution')\n",
        "plt.xlabel('Class')\n",
        "plt.ylabel('Count')\n",
        "plt.show()"
      ],
      "metadata": {
        "colab": {
          "base_uri": "https://localhost:8080/",
          "height": 405
        },
        "id": "ZmmhSjwGB0-q",
        "outputId": "8d174686-59dd-42e5-c558-ef90148c4254"
      },
      "execution_count": null,
      "outputs": [
        {
          "output_type": "display_data",
          "data": {
            "text/plain": [
              "<Figure size 600x400 with 1 Axes>"
            ],
            "image/png": "[encoded data removed]"
          },
          "metadata": {}
        }
      ]
    },
    {
      "cell_type": "code",
      "source": [
        "X_train_sl, X_test_sl = list(upsampled_short_reviews['encoded_sentence']), list(long_reviews['encoded_sentence'])\n",
        "y_train_sl, y_test_sl = list(upsampled_short_reviews['label']), list(long_reviews['label'])\n"
      ],
      "metadata": {
        "id": "6ZspMYpi8zsG"
      },
      "execution_count": null,
      "outputs": []
    },
    {
      "cell_type": "code",
      "source": [
        "print(len(X_train_sl))"
      ],
      "metadata": {
        "colab": {
          "base_uri": "https://localhost:8080/"
        },
        "id": "0udKm3MD-wTT",
        "outputId": "8318b012-b5d5-442d-f021-adef7818ede8"
      },
      "execution_count": null,
      "outputs": [
        {
          "output_type": "stream",
          "name": "stdout",
          "text": [
            "49216\n"
          ]
        }
      ]
    },
    {
      "cell_type": "code",
      "source": [
        "train_x_sl = np.array(X_train_sl)\n",
        "train_y_sl = np.array(y_train_sl)\n",
        "test_x_sl = np.array(X_test_sl)\n",
        "test_y_sl = np.array(y_test_sl)"
      ],
      "metadata": {
        "id": "mnseRHw--T0l"
      },
      "execution_count": null,
      "outputs": []
    },
    {
      "cell_type": "code",
      "source": [
        "batch_size = 50\n",
        "\n",
        "train_ds = TensorDataset(torch.tensor(train_x_sl), torch.from_numpy(train_y_sl))\n",
        "test_ds = TensorDataset(torch.from_numpy(test_x_sl), torch.from_numpy(test_y_sl))\n",
        "\n",
        "train_dl = DataLoader(train_ds, shuffle=True, batch_size=batch_size, drop_last=True)\n",
        "test_dl = DataLoader(test_ds, shuffle=True, batch_size=batch_size, drop_last=True)"
      ],
      "metadata": {
        "id": "Lh2v7Pc89Bd4"
      },
      "execution_count": null,
      "outputs": []
    },
    {
      "cell_type": "code",
      "source": [
        "no_layers = 2\n",
        "vocab_size = len(word2index) + 1 #extra 1 for padding\n",
        "embedding_dim = 64\n",
        "output_dim = 1\n",
        "hidden_dim = 256\n",
        "\n",
        "\n",
        "model = SentimentRNN(no_layers,vocab_size,hidden_dim,embedding_dim,drop_prob=0.5)\n",
        "\n",
        "#moving to gpu\n",
        "device = torch.device('cuda' if torch.cuda.is_available() else 'cpu')\n",
        "model.to(device)\n",
        "\n",
        "print(model)"
      ],
      "metadata": {
        "colab": {
          "base_uri": "https://localhost:8080/"
        },
        "id": "HUe1oGZl9FB0",
        "outputId": "43438d36-8d15-4b47-bec2-29521f26912a"
      },
      "execution_count": null,
      "outputs": [
        {
          "output_type": "stream",
          "name": "stdout",
          "text": [
            "SentimentRNN(\n",
            "  (embedding): Embedding(1004, 64)\n",
            "  (lstm): LSTM(64, 256, num_layers=2, batch_first=True)\n",
            "  (dropout): Dropout(p=0.3, inplace=False)\n",
            "  (fc): Linear(in_features=256, out_features=1, bias=True)\n",
            "  (sig): Sigmoid()\n",
            ")\n"
          ]
        }
      ]
    },
    {
      "cell_type": "code",
      "source": [
        "# loss and optimization functions\n",
        "lr=0.001\n",
        "\n",
        "criterion = nn.BCELoss()\n",
        "\n",
        "optimizer = torch.optim.Adam(model.parameters(), lr=lr)\n",
        "\n",
        "# function to predict accuracy\n",
        "def acc(pred,label):\n",
        "    pred = torch.round(pred.squeeze())\n",
        "    return torch.sum(pred == label.squeeze()).item()"
      ],
      "metadata": {
        "id": "i1VKNCTb9H48"
      },
      "execution_count": null,
      "outputs": []
    },
    {
      "cell_type": "code",
      "source": [
        "clip = 5\n",
        "epochs = 30\n",
        "valid_loss_min = np.Inf\n",
        "# train for some number of epochs\n",
        "epoch_tr_loss,epoch_vl_loss = [],[]\n",
        "epoch_tr_acc,epoch_vl_acc = [],[]\n",
        "\n",
        "for epoch in range(epochs):\n",
        "    train_losses = []\n",
        "    train_acc = 0.0\n",
        "    model.train()\n",
        "    # initialize hidden state\n",
        "    h = model.init_hidden(batch_size)\n",
        "    for inputs, labels in train_dl:\n",
        "\n",
        "        inputs, labels = inputs.to(device), labels.to(device)\n",
        "        # Creating new variables for the hidden state, otherwise\n",
        "        # we'd backprop through the entire training history\n",
        "        h = tuple([each.data for each in h])\n",
        "\n",
        "        model.zero_grad()\n",
        "        output,h = model(inputs,h)\n",
        "\n",
        "        # calculate the loss and perform backprop\n",
        "        loss = criterion(output.squeeze(), labels.float())\n",
        "        loss.backward()\n",
        "        train_losses.append(loss.item())\n",
        "        # calculating accuracy\n",
        "        accuracy = acc(output,labels)\n",
        "        train_acc += accuracy\n",
        "        #`clip_grad_norm` helps prevent the exploding gradient problem in RNNs / LSTMs.\n",
        "        nn.utils.clip_grad_norm_(model.parameters(), clip)\n",
        "        optimizer.step()\n",
        "\n",
        "    val_h = model.init_hidden(batch_size)\n",
        "    val_losses = []\n",
        "    val_acc = 0.0\n",
        "    model.eval()\n",
        "    for inputs, labels in test_dl:\n",
        "            val_h = tuple([each.data for each in val_h])\n",
        "\n",
        "            inputs, labels = inputs.to(device), labels.to(device)\n",
        "\n",
        "            output, val_h = model(inputs, val_h)\n",
        "            val_loss = criterion(output.squeeze(), labels.float())\n",
        "\n",
        "            val_losses.append(val_loss.item())\n",
        "\n",
        "            accuracy = acc(output,labels)\n",
        "            val_acc += accuracy\n",
        "\n",
        "    epoch_train_loss = np.mean(train_losses)\n",
        "    epoch_val_loss = np.mean(val_losses)\n",
        "    epoch_train_acc = train_acc/len(train_dl.dataset)\n",
        "    epoch_val_acc = val_acc/len(test_dl.dataset)\n",
        "    epoch_tr_loss.append(epoch_train_loss)\n",
        "    epoch_vl_loss.append(epoch_val_loss)\n",
        "    epoch_tr_acc.append(epoch_train_acc)\n",
        "    epoch_vl_acc.append(epoch_val_acc)\n",
        "    print(f'Epoch {epoch+1}')\n",
        "    print(f'train_loss : {epoch_train_loss} val_loss : {epoch_val_loss}')\n",
        "    print(f'train_accuracy : {epoch_train_acc*100} val_accuracy : {epoch_val_acc*100}')\n",
        "    # if epoch_val_loss <= valid_loss_min:\n",
        "    #     torch.save(model.state_dict(), '../working/state_dict.pt')\n",
        "    #     print('Validation loss decreased ({:.6f} --> {:.6f}).  Saving model ...'.format(valid_loss_min,epoch_val_loss))\n",
        "    #     valid_loss_min = epoch_val_loss\n",
        "    # print(25*'==')"
      ],
      "metadata": {
        "colab": {
          "base_uri": "https://localhost:8080/"
        },
        "id": "BsaEjQm69NEa",
        "outputId": "4a320cca-2881-4bb7-f472-9157e9498676"
      },
      "execution_count": null,
      "outputs": [
        {
          "output_type": "stream",
          "name": "stdout",
          "text": [
            "Epoch 1\n",
            "train_loss : 0.693454271651865 val_loss : 0.6920169276919791\n",
            "train_accuracy : 50.268205461638495 val_accuracy : 53.543563068920676\n",
            "Epoch 2\n",
            "train_loss : 0.6932200304255253 val_loss : 0.692983019158123\n",
            "train_accuracy : 50.12800715214565 val_accuracy : 52.97464239271782\n",
            "Epoch 3\n",
            "train_loss : 0.6931852809176212 val_loss : 0.6932453750594845\n",
            "train_accuracy : 50.292587776332894 val_accuracy : 46.53771131339402\n",
            "Epoch 4\n",
            "train_loss : 0.693170902750841 val_loss : 0.6926973462104797\n",
            "train_accuracy : 50.199122236671 val_accuracy : 53.559817945383614\n",
            "Epoch 5\n",
            "train_loss : 0.6931844996969875 val_loss : 0.6925572815949355\n",
            "train_accuracy : 50.35151170351105 val_accuracy : 53.559817945383614\n",
            "Epoch 6\n",
            "train_loss : 0.6931804600285321 val_loss : 0.6925684262097367\n",
            "train_accuracy : 50.217408972691814 val_accuracy : 53.57607282184655\n",
            "Epoch 7\n",
            "train_loss : 0.6931435758990001 val_loss : 0.69266772560957\n",
            "train_accuracy : 50.12394343302991 val_accuracy : 53.57607282184655\n",
            "Epoch 8\n",
            "train_loss : 0.6931444136955873 val_loss : 0.6919104670121418\n",
            "train_accuracy : 50.42465864759428 val_accuracy : 53.543563068920676\n",
            "Epoch 9\n",
            "train_loss : 0.6931561656841417 val_loss : 0.6920082985870237\n",
            "train_accuracy : 50.38605331599479 val_accuracy : 53.559817945383614\n",
            "Epoch 10\n",
            "train_loss : 0.6931658937194483 val_loss : 0.6931725604747369\n",
            "train_accuracy : 50.41043563068921 val_accuracy : 48.29323797139142\n",
            "Epoch 11\n",
            "train_loss : 0.6931648706275273 val_loss : 0.6923160465752206\n",
            "train_accuracy : 50.3738621586476 val_accuracy : 53.559817945383614\n",
            "Epoch 12\n",
            "train_loss : 0.6931795603860684 val_loss : 0.6946842631673426\n",
            "train_accuracy : 49.98374512353706 val_accuracy : 46.47269180754226\n",
            "Epoch 13\n",
            "train_loss : 0.693202723635406 val_loss : 0.6929884867939523\n",
            "train_accuracy : 50.32509752925878 val_accuracy : 52.942132639791936\n",
            "Epoch 14\n",
            "train_loss : 0.6931348507845305 val_loss : 0.703034890861046\n",
            "train_accuracy : 50.24179128738622 val_accuracy : 46.71651495448634\n",
            "Epoch 15\n",
            "train_loss : 0.6931719842965041 val_loss : 0.6940276269021073\n",
            "train_accuracy : 50.2803966189857 val_accuracy : 47.23667100130039\n",
            "Epoch 16\n",
            "train_loss : 0.6931393761944965 val_loss : 0.6906861798550056\n",
            "train_accuracy : 50.49374187256177 val_accuracy : 53.494798439531856\n",
            "Epoch 17\n",
            "train_loss : 0.6931632664508935 val_loss : 0.6907481037504305\n",
            "train_accuracy : 50.34541612483745 val_accuracy : 53.51105331599479\n",
            "Epoch 18\n",
            "train_loss : 0.6933215339857388 val_loss : 0.7223030445052356\n",
            "train_accuracy : 50.416531209362816 val_accuracy : 46.440182054616386\n",
            "Epoch 19\n",
            "train_loss : 0.656763846645268 val_loss : 0.8495667513793077\n",
            "train_accuracy : 56.56493823146944 val_accuracy : 46.456436931079324\n",
            "Epoch 20\n",
            "train_loss : 0.34045193590435796 val_loss : 1.0012227640888556\n",
            "train_accuracy : 86.00455136540963 val_accuracy : 46.52145643693108\n",
            "Epoch 21\n",
            "train_loss : 0.245916811306393 val_loss : 1.3193623835478372\n",
            "train_accuracy : 90.97854356306892 val_accuracy : 46.47269180754226\n",
            "Epoch 22\n",
            "train_loss : 0.17137682972460744 val_loss : 1.308663515056052\n",
            "train_accuracy : 94.37581274382315 val_accuracy : 46.50520156046814\n",
            "Epoch 23\n",
            "train_loss : 0.11982631296434296 val_loss : 0.7139537722114625\n",
            "train_accuracy : 96.53771131339401 val_accuracy : 54.0149544863459\n",
            "Epoch 24\n",
            "train_loss : 0.09228416160790144 val_loss : 0.6904400480471975\n",
            "train_accuracy : 97.58818270481144 val_accuracy : 61.248374512353706\n",
            "Epoch 25\n",
            "train_loss : 0.07324722326479897 val_loss : 0.8040041070643479\n",
            "train_accuracy : 98.22212288686606 val_accuracy : 54.90897269180755\n",
            "Epoch 26\n",
            "train_loss : 0.06541994770769242 val_loss : 1.8561963569827196\n",
            "train_accuracy : 98.43953185955787 val_accuracy : 46.53771131339402\n",
            "Epoch 27\n",
            "train_loss : 0.0581582097125588 val_loss : 2.941407494428681\n",
            "train_accuracy : 98.69148244473342 val_accuracy : 46.4889466840052\n",
            "Epoch 28\n",
            "train_loss : 0.05480990655023635 val_loss : 1.8697440411017192\n",
            "train_accuracy : 98.7666612483745 val_accuracy : 46.4889466840052\n",
            "Epoch 29\n",
            "train_loss : 0.05049482075974527 val_loss : 2.198331132167723\n",
            "train_accuracy : 98.85809492847855 val_accuracy : 46.52145643693108\n",
            "Epoch 30\n",
            "train_loss : 0.048594434256286824 val_loss : 2.7670531641177045\n",
            "train_accuracy : 98.9170188556567 val_accuracy : 46.4889466840052\n"
          ]
        }
      ]
    },
    {
      "cell_type": "code",
      "source": [
        "fig = plt.figure(figsize = (20, 6))\n",
        "plt.subplot(1, 2, 1)\n",
        "plt.plot(epoch_tr_acc, label='Train Acc')\n",
        "plt.plot(epoch_vl_acc, label='Validation Acc')\n",
        "plt.title(\"Accuracy\")\n",
        "plt.xlabel(\"Epoch\")\n",
        "plt.ylabel(\"Accuracy\")\n",
        "plt.legend()\n",
        "plt.grid()\n",
        "\n",
        "plt.subplot(1, 2, 2)\n",
        "plt.plot(epoch_tr_loss, label='Train loss')\n",
        "plt.plot(epoch_vl_loss, label='Validation loss')\n",
        "plt.title(\"Loss\")\n",
        "plt.xlabel(\"Epoch\")\n",
        "plt.ylabel(\"Loss\")\n",
        "plt.legend()\n",
        "plt.grid()\n",
        "\n",
        "plt.show()"
      ],
      "metadata": {
        "colab": {
          "base_uri": "https://localhost:8080/",
          "height": 334
        },
        "id": "RoVf9v_m9Nsq",
        "outputId": "ff9b56bb-d354-42a1-9560-60567d8f3601"
      },
      "execution_count": null,
      "outputs": [
        {
          "output_type": "display_data",
          "data": {
            "text/plain": [
              "<Figure size 2000x600 with 2 Axes>"
            ],
            "image/png": "[encoded data removed]"
          },
          "metadata": {}
        }
      ]
    },
    {
      "cell_type": "markdown",
      "source": [
        "\n",
        "\n",
        "# Another model"
      ],
      "metadata": {
        "id": "9cqRdOJ_rx5r"
      }
    },
    {
      "cell_type": "code",
      "source": [
        "class BiLSTM_SentimentAnalysis(torch.nn.Module) :\n",
        "    def __init__(self, vocab_size, embedding_dim, hidden_dim, dropout) :\n",
        "        super().__init__()\n",
        "\n",
        "        # The embedding layer takes the vocab size and the embeddings size as input\n",
        "        # The embeddings size is up to you to decide, but common sizes are between 50 and 100.\n",
        "        self.embedding = nn.Embedding(vocab_size, embedding_dim, padding_idx=0)\n",
        "\n",
        "        # The LSTM layer takes in the the embedding size and the hidden vector size.\n",
        "        # The hidden dimension is up to you to decide, but common values are 32, 64, 128\n",
        "        self.lstm = nn.LSTM(embedding_dim, hidden_dim, batch_first=True)\n",
        "\n",
        "        # We use dropout before the final layer to improve with regularization\n",
        "        self.dropout = nn.Dropout(dropout)\n",
        "\n",
        "        # The fully-connected layer takes in the hidden dim of the LSTM and\n",
        "        #  outputs a a 3x1 vector of the class scores.\n",
        "        self.fc = nn.Linear(hidden_dim, 3)\n",
        "\n",
        "    def forward(self, x, hidden):\n",
        "        \"\"\"\n",
        "        The forward method takes in the input and the previous hidden state\n",
        "        \"\"\"\n",
        "\n",
        "        # The input is transformed to embeddings by passing it to the embedding layer\n",
        "        embs = self.embedding(x)\n",
        "\n",
        "        # The embedded inputs are fed to the LSTM alongside the previous hidden state\n",
        "        out, hidden = self.lstm(embs, hidden)\n",
        "\n",
        "        # Dropout is applied to the output and fed to the FC layer\n",
        "        out = self.dropout(out)\n",
        "        out = self.fc(out)\n",
        "\n",
        "        # We extract the scores for the final hidden state since it is the one that matters.\n",
        "        out = out[:, -1]\n",
        "        return out, hidden\n",
        "\n",
        "    def init_hidden(self):\n",
        "        return (torch.zeros(1, batch_size, 32), torch.zeros(1, batch_size, 32))"
      ],
      "metadata": {
        "id": "TvvvbsH2ZKh0"
      },
      "execution_count": null,
      "outputs": []
    },
    {
      "cell_type": "code",
      "source": [
        "model = BiLSTM_SentimentAnalysis(len(word2index), 64, 32, 0.2)\n",
        "device = torch.device('cuda' if torch.cuda.is_available() else 'cpu')\n",
        "model = model.to(device)"
      ],
      "metadata": {
        "id": "oOZHon5Ndos9"
      },
      "execution_count": null,
      "outputs": []
    },
    {
      "cell_type": "code",
      "source": [
        "criterion = nn.CrossEntropyLoss()\n",
        "optimizer = torch.optim.Adam(model.parameters(), lr = 3e-4)"
      ],
      "metadata": {
        "id": "M7iZPBbSdtdu"
      },
      "execution_count": null,
      "outputs": []
    },
    {
      "cell_type": "code",
      "source": [
        "train_loss, test_loss = [], []\n",
        "train_acc, test_acc = [], []\n",
        "\n",
        "epochs = 50\n",
        "losses = []\n",
        "\n",
        "for e in range(epochs):\n",
        "    h0, c0 = model.init_hidden()\n",
        "    h0 = h0.to(device)\n",
        "    c0 = c0.to(device)\n",
        "\n",
        "    running_loss = 0.0\n",
        "    correct, total = 0, 0\n",
        "\n",
        "    for batch_idx, batch in enumerate(train_dl):\n",
        "        input = batch[0].to(device)\n",
        "        target = batch[1].to(device)\n",
        "\n",
        "        optimizer.zero_grad()\n",
        "        with torch.set_grad_enabled(True):\n",
        "            out, hidden = model(input, (h0, c0))\n",
        "            loss = criterion(out, target)\n",
        "            loss.backward()\n",
        "            optimizer.step()\n",
        "\n",
        "        running_loss += loss.item()\n",
        "\n",
        "        _, predicted = torch.max(out, 1)\n",
        "        total += target.size(0)\n",
        "        correct += (predicted == target).sum().item()\n",
        "\n",
        "    losses.append(loss.item())\n",
        "    train_loss.append(running_loss / len(train_dl))\n",
        "    train_acc.append(correct / total)\n",
        "\n",
        "    if (e + 1) % 5 == 0:\n",
        "        print(f\"Epoch {e + 1}:\")\n",
        "        print(f\"Training Loss: {train_loss[-1]:.3f}\")\n",
        "        print(f\"Training Accuracy: {100 * train_acc[-1]:.2f}%\")\n",
        "        print(\"------------------------------\")\n"
      ],
      "metadata": {
        "colab": {
          "base_uri": "https://localhost:8080/"
        },
        "id": "AFBH_H5XdwkW",
        "outputId": "ae3bcd8d-30ed-496b-e67a-9f76db9fa19e"
      },
      "execution_count": null,
      "outputs": [
        {
          "output_type": "stream",
          "name": "stdout",
          "text": [
            "Epoch 5:\n",
            "Training Loss: 0.721\n",
            "Training Accuracy: 50.43%\n",
            "------------------------------\n",
            "Epoch 10:\n",
            "Training Loss: 0.698\n",
            "Training Accuracy: 53.24%\n",
            "------------------------------\n",
            "Epoch 15:\n",
            "Training Loss: 0.692\n",
            "Training Accuracy: 52.43%\n",
            "------------------------------\n",
            "Epoch 20:\n",
            "Training Loss: 0.671\n",
            "Training Accuracy: 56.29%\n",
            "------------------------------\n",
            "Epoch 25:\n",
            "Training Loss: 0.645\n",
            "Training Accuracy: 64.29%\n",
            "------------------------------\n",
            "Epoch 30:\n",
            "Training Loss: 0.670\n",
            "Training Accuracy: 57.71%\n",
            "------------------------------\n",
            "Epoch 35:\n",
            "Training Loss: 0.592\n",
            "Training Accuracy: 70.62%\n",
            "------------------------------\n",
            "Epoch 40:\n",
            "Training Loss: 0.679\n",
            "Training Accuracy: 55.43%\n",
            "------------------------------\n",
            "Epoch 45:\n",
            "Training Loss: 0.667\n",
            "Training Accuracy: 55.67%\n",
            "------------------------------\n",
            "Epoch 50:\n",
            "Training Loss: 0.659\n",
            "Training Accuracy: 55.95%\n",
            "------------------------------\n"
          ]
        }
      ]
    },
    {
      "cell_type": "code",
      "source": [
        "plt.plot(losses)"
      ],
      "metadata": {
        "colab": {
          "base_uri": "https://localhost:8080/",
          "height": 447
        },
        "id": "5RFPTIG6d0DL",
        "outputId": "0a9752c2-ed21-4141-ee6f-d97da6d018d2"
      },
      "execution_count": null,
      "outputs": [
        {
          "output_type": "execute_result",
          "data": {
            "text/plain": [
              "[<matplotlib.lines.Line2D at 0x7e662bb50af0>]"
            ]
          },
          "metadata": {},
          "execution_count": 54
        },
        {
          "output_type": "display_data",
          "data": {
            "text/plain": [
              "<Figure size 640x480 with 1 Axes>"
            ],
            "image/png": "[encoded data removed]"
          },
          "metadata": {}
        }
      ]
    },
    {
      "cell_type": "code",
      "source": [
        "from sklearn.metrics import accuracy_score\n",
        "batch_acc = []\n",
        "for batch_idx, batch in enumerate(test_dl):\n",
        "\n",
        "    input = batch[0].to(device)\n",
        "    target = batch[1].to(device)\n",
        "\n",
        "    optimizer.zero_grad()\n",
        "    with torch.set_grad_enabled(False):\n",
        "        out, hidden = model(input, (h0, c0))\n",
        "        _, preds = torch.max(out, 1)\n",
        "        preds = preds.to(\"cpu\").tolist()\n",
        "        batch_acc.append(accuracy_score(preds, target.tolist()))\n",
        "\n",
        "sum(batch_acc)/len(batch_acc)"
      ],
      "metadata": {
        "colab": {
          "base_uri": "https://localhost:8080/",
          "height": 245
        },
        "id": "801upmWDwOHL",
        "outputId": "98b7bbea-f7bd-4dc2-e6de-5f988e3a3ede"
      },
      "execution_count": null,
      "outputs": [
        {
          "output_type": "error",
          "ename": "NameError",
          "evalue": "ignored",
          "traceback": [
            "\u001b[0;31m---------------------------------------------------------------------------\u001b[0m",
            "\u001b[0;31mNameError\u001b[0m                                 Traceback (most recent call last)",
            "\u001b[0;32m<ipython-input-114-6ff62909db18>\u001b[0m in \u001b[0;36m<cell line: 3>\u001b[0;34m()\u001b[0m\n\u001b[1;32m      8\u001b[0m     \u001b[0moptimizer\u001b[0m\u001b[0;34m.\u001b[0m\u001b[0mzero_grad\u001b[0m\u001b[0;34m(\u001b[0m\u001b[0;34m)\u001b[0m\u001b[0;34m\u001b[0m\u001b[0;34m\u001b[0m\u001b[0m\n\u001b[1;32m      9\u001b[0m     \u001b[0;32mwith\u001b[0m \u001b[0mtorch\u001b[0m\u001b[0;34m.\u001b[0m\u001b[0mset_grad_enabled\u001b[0m\u001b[0;34m(\u001b[0m\u001b[0;32mFalse\u001b[0m\u001b[0;34m)\u001b[0m\u001b[0;34m:\u001b[0m\u001b[0;34m\u001b[0m\u001b[0;34m\u001b[0m\u001b[0m\n\u001b[0;32m---> 10\u001b[0;31m         \u001b[0mout\u001b[0m\u001b[0;34m,\u001b[0m \u001b[0mhidden\u001b[0m \u001b[0;34m=\u001b[0m \u001b[0mmodel\u001b[0m\u001b[0;34m(\u001b[0m\u001b[0minput\u001b[0m\u001b[0;34m,\u001b[0m \u001b[0;34m(\u001b[0m\u001b[0mh0\u001b[0m\u001b[0;34m,\u001b[0m \u001b[0mc0\u001b[0m\u001b[0;34m)\u001b[0m\u001b[0;34m)\u001b[0m\u001b[0;34m\u001b[0m\u001b[0;34m\u001b[0m\u001b[0m\n\u001b[0m\u001b[1;32m     11\u001b[0m         \u001b[0m_\u001b[0m\u001b[0;34m,\u001b[0m \u001b[0mpreds\u001b[0m \u001b[0;34m=\u001b[0m \u001b[0mtorch\u001b[0m\u001b[0;34m.\u001b[0m\u001b[0mmax\u001b[0m\u001b[0;34m(\u001b[0m\u001b[0mout\u001b[0m\u001b[0;34m,\u001b[0m \u001b[0;36m1\u001b[0m\u001b[0;34m)\u001b[0m\u001b[0;34m\u001b[0m\u001b[0;34m\u001b[0m\u001b[0m\n\u001b[1;32m     12\u001b[0m         \u001b[0mpreds\u001b[0m \u001b[0;34m=\u001b[0m \u001b[0mpreds\u001b[0m\u001b[0;34m.\u001b[0m\u001b[0mto\u001b[0m\u001b[0;34m(\u001b[0m\u001b[0;34m\"cpu\"\u001b[0m\u001b[0;34m)\u001b[0m\u001b[0;34m.\u001b[0m\u001b[0mtolist\u001b[0m\u001b[0;34m(\u001b[0m\u001b[0;34m)\u001b[0m\u001b[0;34m\u001b[0m\u001b[0;34m\u001b[0m\u001b[0m\n",
            "\u001b[0;31mNameError\u001b[0m: name 'h0' is not defined"
          ]
        }
      ]
    },
    {
      "cell_type": "code",
      "source": [],
      "metadata": {
        "colab": {
          "base_uri": "https://localhost:8080/",
          "height": 174
        },
        "id": "uoH3UYVA8jUc",
        "outputId": "a690ee77-d848-47f5-db6c-0db0ce31e1c2"
      },
      "execution_count": null,
      "outputs": [
        {
          "output_type": "error",
          "ename": "NameError",
          "evalue": "ignored",
          "traceback": [
            "\u001b[0;31m---------------------------------------------------------------------------\u001b[0m",
            "\u001b[0;31mNameError\u001b[0m                                 Traceback (most recent call last)",
            "\u001b[0;32m<ipython-input-1-5f160f84d6d1>\u001b[0m in \u001b[0;36m<cell line: 1>\u001b[0;34m()\u001b[0m\n\u001b[0;32m----> 1\u001b[0;31m \u001b[0mnlp\u001b[0m\u001b[0;34m.\u001b[0m\u001b[0mdf\u001b[0m\u001b[0;34m\u001b[0m\u001b[0;34m\u001b[0m\u001b[0m\n\u001b[0m",
            "\u001b[0;31mNameError\u001b[0m: name 'nlp' is not defined"
          ]
        }
      ]
    },
    {
      "cell_type": "markdown",
      "source": [
        "# bigram(saved for later)"
      ],
      "metadata": {
        "id": "uYtRvsRbo90b"
      }
    },
    {
      "cell_type": "code",
      "source": [
        "from nltk import bigrams\n",
        "from sklearn.feature_extraction.text import TfidfVectorizer\n",
        "\n",
        "def tfidf(text):\n",
        "  # Convert the bigrams back to text for TF-IDF analysis\n",
        "  #bi_grams_text = [' '.join([' '.join(gram) for gram in grams]) for grams in bigrams]\n",
        "  # Compute TF-IDF scores\n",
        "  #print (bi_grams_text)\n",
        "  vectorizer = TfidfVectorizer(ngram_range = (2, 2))\n",
        "  X = vectorizer.fit_transform(text)\n",
        "\n",
        "  # Get feature names (bigrams)\n",
        "  feature_names = vectorizer.get_feature_names_out()\n",
        "  print(feature_names)\n",
        "  # Compute TF-IDF scores for each bigram\n",
        "  #tfidf_scores = X.toarray()\n",
        "  sums = X.sum(axis=0)\n",
        "  data = []\n",
        "  for col, term in enumerate(feature_names):\n",
        "    data.append((term, sums[0, col]))\n",
        "  ranking = pd.DataFrame(data, columns=['term', 'rank'])\n",
        "  top_500_tfidf = ranking.sort_values('rank', ascending=False)[:500]\n",
        "\n",
        "  return top_500_tfidf\n",
        "\n",
        "top_500_tfidf = tfidf(lemmatized_reviews)\n",
        "top_500_tfidf\n"
      ],
      "metadata": {
        "colab": {
          "base_uri": "https://localhost:8080/",
          "height": 453
        },
        "id": "Zf8lFbQ9h8G8",
        "outputId": "001e26e4-1b66-42f4-d7fa-6c6b2aa87a8c"
      },
      "execution_count": null,
      "outputs": [
        {
          "output_type": "stream",
          "name": "stdout",
          "text": [
            "['aaa alcoholic' 'aaa ball' 'aaa even' ... 'četvorka another' 'יגאל כרמון'\n",
            " 'כרמון president']\n"
          ]
        },
        {
          "output_type": "execute_result",
          "data": {
            "text/plain": [
              "                   term        rank\n",
              "797863        ever seen  119.721338\n",
              "1435614       look like  104.513067\n",
              "1603637      movie ever  103.340889\n",
              "2288166  special effect   96.545212\n",
              "1711084        one best   86.445948\n",
              "...                 ...         ...\n",
              "2439773        ten year   15.858268\n",
              "676011      done better   15.841191\n",
              "1011220       get movie   15.798961\n",
              "902552       film still   15.775850\n",
              "1729558  original movie   15.765234\n",
              "\n",
              "[500 rows x 2 columns]"
            ],
            "text/html": [
              "\n",
              "  <div id=\"df-331b5b84-faeb-4340-a39a-071e2e7afe96\" class=\"colab-df-container\">\n",
              "    <div>\n",
              "<style scoped>\n",
              "    .dataframe tbody tr th:only-of-type {\n",
              "        vertical-align: middle;\n",
              "    }\n",
              "\n",
              "    .dataframe tbody tr th {\n",
              "        vertical-align: top;\n",
              "    }\n",
              "\n",
              "    .dataframe thead th {\n",
              "        text-align: right;\n",
              "    }\n",
              "</style>\n",
              "<table border=\"1\" class=\"dataframe\">\n",
              "  <thead>\n",
              "    <tr style=\"text-align: right;\">\n",
              "      <th></th>\n",
              "      <th>term</th>\n",
              "      <th>rank</th>\n",
              "    </tr>\n",
              "  </thead>\n",
              "  <tbody>\n",
              "    <tr>\n",
              "      <th>797863</th>\n",
              "      <td>ever seen</td>\n",
              "      <td>119.721338</td>\n",
              "    </tr>\n",
              "    <tr>\n",
              "      <th>1435614</th>\n",
              "      <td>look like</td>\n",
              "      <td>104.513067</td>\n",
              "    </tr>\n",
              "    <tr>\n",
              "      <th>1603637</th>\n",
              "      <td>movie ever</td>\n",
              "      <td>103.340889</td>\n",
              "    </tr>\n",
              "    <tr>\n",
              "      <th>2288166</th>\n",
              "      <td>special effect</td>\n",
              "      <td>96.545212</td>\n",
              "    </tr>\n",
              "    <tr>\n",
              "      <th>1711084</th>\n",
              "      <td>one best</td>\n",
              "      <td>86.445948</td>\n",
              "    </tr>\n",
              "    <tr>\n",
              "      <th>...</th>\n",
              "      <td>...</td>\n",
              "      <td>...</td>\n",
              "    </tr>\n",
              "    <tr>\n",
              "      <th>2439773</th>\n",
              "      <td>ten year</td>\n",
              "      <td>15.858268</td>\n",
              "    </tr>\n",
              "    <tr>\n",
              "      <th>676011</th>\n",
              "      <td>done better</td>\n",
              "      <td>15.841191</td>\n",
              "    </tr>\n",
              "    <tr>\n",
              "      <th>1011220</th>\n",
              "      <td>get movie</td>\n",
              "      <td>15.798961</td>\n",
              "    </tr>\n",
              "    <tr>\n",
              "      <th>902552</th>\n",
              "      <td>film still</td>\n",
              "      <td>15.775850</td>\n",
              "    </tr>\n",
              "    <tr>\n",
              "      <th>1729558</th>\n",
              "      <td>original movie</td>\n",
              "      <td>15.765234</td>\n",
              "    </tr>\n",
              "  </tbody>\n",
              "</table>\n",
              "<p>500 rows × 2 columns</p>\n",
              "</div>\n",
              "    <div class=\"colab-df-buttons\">\n",
              "\n",
              "  <div class=\"colab-df-container\">\n",
              "    <button class=\"colab-df-convert\" onclick=\"convertToInteractive('df-331b5b84-faeb-4340-a39a-071e2e7afe96')\"\n",
              "            title=\"Convert this dataframe to an interactive table.\"\n",
              "            style=\"display:none;\">\n",
              "\n",
              "  <svg xmlns=\"http://www.w3.org/2000/svg\" height=\"24px\" viewBox=\"0 -960 960 960\">\n",
              "    <path d=\"M120-120v-720h720v720H120Zm60-500h600v-160H180v160Zm220 220h160v-160H400v160Zm0 220h160v-160H400v160ZM180-400h160v-160H180v160Zm440 0h160v-160H620v160ZM180-180h160v-160H180v160Zm440 0h160v-160H620v160Z\"/>\n",
              "  </svg>\n",
              "    </button>\n",
              "\n",
              "  <style>\n",
              "    .colab-df-container {\n",
              "      display:flex;\n",
              "      gap: 12px;\n",
              "    }\n",
              "\n",
              "    .colab-df-convert {\n",
              "      background-color: #E8F0FE;\n",
              "      border: none;\n",
              "      border-radius: 50%;\n",
              "      cursor: pointer;\n",
              "      display: none;\n",
              "      fill: #1967D2;\n",
              "      height: 32px;\n",
              "      padding: 0 0 0 0;\n",
              "      width: 32px;\n",
              "    }\n",
              "\n",
              "    .colab-df-convert:hover {\n",
              "      background-color: #E2EBFA;\n",
              "      box-shadow: 0px 1px 2px rgba(60, 64, 67, 0.3), 0px 1px 3px 1px rgba(60, 64, 67, 0.15);\n",
              "      fill: #174EA6;\n",
              "    }\n",
              "\n",
              "    .colab-df-buttons div {\n",
              "      margin-bottom: 4px;\n",
              "    }\n",
              "\n",
              "    [theme=dark] .colab-df-convert {\n",
              "      background-color: #3B4455;\n",
              "      fill: #D2E3FC;\n",
              "    }\n",
              "\n",
              "    [theme=dark] .colab-df-convert:hover {\n",
              "      background-color: #434B5C;\n",
              "      box-shadow: 0px 1px 3px 1px rgba(0, 0, 0, 0.15);\n",
              "      filter: drop-shadow(0px 1px 2px rgba(0, 0, 0, 0.3));\n",
              "      fill: #FFFFFF;\n",
              "    }\n",
              "  </style>\n",
              "\n",
              "    <script>\n",
              "      const buttonEl =\n",
              "        document.querySelector('#df-331b5b84-faeb-4340-a39a-071e2e7afe96 button.colab-df-convert');\n",
              "      buttonEl.style.display =\n",
              "        google.colab.kernel.accessAllowed ? 'block' : 'none';\n",
              "\n",
              "      async function convertToInteractive(key) {\n",
              "        const element = document.querySelector('#df-331b5b84-faeb-4340-a39a-071e2e7afe96');\n",
              "        const dataTable =\n",
              "          await google.colab.kernel.invokeFunction('convertToInteractive',\n",
              "                                                    [key], {});\n",
              "        if (!dataTable) return;\n",
              "\n",
              "        const docLinkHtml = 'Like what you see? Visit the ' +\n",
              "          '<a target=\"_blank\" href=https://colab.research.google.com/notebooks/data_table.ipynb>data table notebook</a>'\n",
              "          + ' to learn more about interactive tables.';\n",
              "        element.innerHTML = '';\n",
              "        dataTable['output_type'] = 'display_data';\n",
              "        await google.colab.output.renderOutput(dataTable, element);\n",
              "        const docLink = document.createElement('div');\n",
              "        docLink.innerHTML = docLinkHtml;\n",
              "        element.appendChild(docLink);\n",
              "      }\n",
              "    </script>\n",
              "  </div>\n",
              "\n",
              "\n",
              "<div id=\"df-ed59be0c-d64b-495c-959d-a686f42962f6\">\n",
              "  <button class=\"colab-df-quickchart\" onclick=\"quickchart('df-ed59be0c-d64b-495c-959d-a686f42962f6')\"\n",
              "            title=\"Suggest charts\"\n",
              "            style=\"display:none;\">\n",
              "\n",
              "<svg xmlns=\"http://www.w3.org/2000/svg\" height=\"24px\"viewBox=\"0 0 24 24\"\n",
              "     width=\"24px\">\n",
              "    <g>\n",
              "        <path d=\"M19 3H5c-1.1 0-2 .9-2 2v14c0 1.1.9 2 2 2h14c1.1 0 2-.9 2-2V5c0-1.1-.9-2-2-2zM9 17H7v-7h2v7zm4 0h-2V7h2v10zm4 0h-2v-4h2v4z\"/>\n",
              "    </g>\n",
              "</svg>\n",
              "  </button>\n",
              "\n",
              "<style>\n",
              "  .colab-df-quickchart {\n",
              "      --bg-color: #E8F0FE;\n",
              "      --fill-color: #1967D2;\n",
              "      --hover-bg-color: #E2EBFA;\n",
              "      --hover-fill-color: #174EA6;\n",
              "      --disabled-fill-color: #AAA;\n",
              "      --disabled-bg-color: #DDD;\n",
              "  }\n",
              "\n",
              "  [theme=dark] .colab-df-quickchart {\n",
              "      --bg-color: #3B4455;\n",
              "      --fill-color: #D2E3FC;\n",
              "      --hover-bg-color: #434B5C;\n",
              "      --hover-fill-color: #FFFFFF;\n",
              "      --disabled-bg-color: #3B4455;\n",
              "      --disabled-fill-color: #666;\n",
              "  }\n",
              "\n",
              "  .colab-df-quickchart {\n",
              "    background-color: var(--bg-color);\n",
              "    border: none;\n",
              "    border-radius: 50%;\n",
              "    cursor: pointer;\n",
              "    display: none;\n",
              "    fill: var(--fill-color);\n",
              "    height: 32px;\n",
              "    padding: 0;\n",
              "    width: 32px;\n",
              "  }\n",
              "\n",
              "  .colab-df-quickchart:hover {\n",
              "    background-color: var(--hover-bg-color);\n",
              "    box-shadow: 0 1px 2px rgba(60, 64, 67, 0.3), 0 1px 3px 1px rgba(60, 64, 67, 0.15);\n",
              "    fill: var(--button-hover-fill-color);\n",
              "  }\n",
              "\n",
              "  .colab-df-quickchart-complete:disabled,\n",
              "  .colab-df-quickchart-complete:disabled:hover {\n",
              "    background-color: var(--disabled-bg-color);\n",
              "    fill: var(--disabled-fill-color);\n",
              "    box-shadow: none;\n",
              "  }\n",
              "\n",
              "  .colab-df-spinner {\n",
              "    border: 2px solid var(--fill-color);\n",
              "    border-color: transparent;\n",
              "    border-bottom-color: var(--fill-color);\n",
              "    animation:\n",
              "      spin 1s steps(1) infinite;\n",
              "  }\n",
              "\n",
              "  @keyframes spin {\n",
              "    0% {\n",
              "      border-color: transparent;\n",
              "      border-bottom-color: var(--fill-color);\n",
              "      border-left-color: var(--fill-color);\n",
              "    }\n",
              "    20% {\n",
              "      border-color: transparent;\n",
              "      border-left-color: var(--fill-color);\n",
              "      border-top-color: var(--fill-color);\n",
              "    }\n",
              "    30% {\n",
              "      border-color: transparent;\n",
              "      border-left-color: var(--fill-color);\n",
              "      border-top-color: var(--fill-color);\n",
              "      border-right-color: var(--fill-color);\n",
              "    }\n",
              "    40% {\n",
              "      border-color: transparent;\n",
              "      border-right-color: var(--fill-color);\n",
              "      border-top-color: var(--fill-color);\n",
              "    }\n",
              "    60% {\n",
              "      border-color: transparent;\n",
              "      border-right-color: var(--fill-color);\n",
              "    }\n",
              "    80% {\n",
              "      border-color: transparent;\n",
              "      border-right-color: var(--fill-color);\n",
              "      border-bottom-color: var(--fill-color);\n",
              "    }\n",
              "    90% {\n",
              "      border-color: transparent;\n",
              "      border-bottom-color: var(--fill-color);\n",
              "    }\n",
              "  }\n",
              "</style>\n",
              "\n",
              "  <script>\n",
              "    async function quickchart(key) {\n",
              "      const quickchartButtonEl =\n",
              "        document.querySelector('#' + key + ' button');\n",
              "      quickchartButtonEl.disabled = true;  // To prevent multiple clicks.\n",
              "      quickchartButtonEl.classList.add('colab-df-spinner');\n",
              "      try {\n",
              "        const charts = await google.colab.kernel.invokeFunction(\n",
              "            'suggestCharts', [key], {});\n",
              "      } catch (error) {\n",
              "        console.error('Error during call to suggestCharts:', error);\n",
              "      }\n",
              "      quickchartButtonEl.classList.remove('colab-df-spinner');\n",
              "      quickchartButtonEl.classList.add('colab-df-quickchart-complete');\n",
              "    }\n",
              "    (() => {\n",
              "      let quickchartButtonEl =\n",
              "        document.querySelector('#df-ed59be0c-d64b-495c-959d-a686f42962f6 button');\n",
              "      quickchartButtonEl.style.display =\n",
              "        google.colab.kernel.accessAllowed ? 'block' : 'none';\n",
              "    })();\n",
              "  </script>\n",
              "</div>\n",
              "    </div>\n",
              "  </div>\n"
            ]
          },
          "metadata": {},
          "execution_count": 56
        }
      ]
    },
    {
      "cell_type": "markdown",
      "source": [
        "# Unigram (feature conversion)"
      ],
      "metadata": {
        "id": "b0rprLMapBOL"
      }
    },
    {
      "cell_type": "code",
      "source": [
        "def tfidf(text, ngram=1):\n",
        "  # Convert the bigrams back to text for TF-IDF analysis\n",
        "  #bi_grams_text = [' '.join([' '.join(gram) for gram in grams]) for grams in bigrams]\n",
        "  # Compute TF-IDF scores\n",
        "  #print (bi_grams_text)\n",
        "  vectorizer = TfidfVectorizer(ngram_range=(ngram, ngram))\n",
        "  X = vectorizer.fit_transform(text)\n",
        "\n",
        "  # Get feature names (bigrams)\n",
        "  feature_names = vectorizer.get_feature_names_out()\n",
        "  print(feature_names)\n",
        "  # Compute TF-IDF scores for each bigram\n",
        "  #tfidf_scores = X.toarray()\n",
        "  sums = X.sum(axis=0)\n",
        "  data = []\n",
        "  for col, term in enumerate(feature_names):\n",
        "    data.append((term, sums[0, col]))\n",
        "  ranking = pd.DataFrame(data, columns=['term', 'rank'])\n",
        "  top_500_tfidf = ranking.sort_values('rank', ascending=False)[:500]\n",
        "\n",
        "  return X, top_500_tfidf\n",
        "\n",
        "X, top_500_tfidf = tfidf(lemmatized_reviews)"
      ],
      "metadata": {
        "colab": {
          "base_uri": "https://localhost:8080/"
        },
        "id": "uTT-mdpNh9w9",
        "outputId": "b7687a20-c88c-4a2b-e472-19df0654bdcc"
      },
      "execution_count": null,
      "outputs": [
        {
          "output_type": "stream",
          "name": "stdout",
          "text": [
            "['aaa' 'aaaaaaaaaaaahhhhhhhhhhhhhh' 'aaaaaaaargh' ... 'četvorka' 'יגאל'\n",
            " 'כרמון']\n"
          ]
        }
      ]
    },
    {
      "cell_type": "code",
      "source": [
        "X"
      ],
      "metadata": {
        "colab": {
          "base_uri": "https://localhost:8080/"
        },
        "id": "_D-blitWoXZ4",
        "outputId": "a8c3bbb7-79a6-4d9c-fd24-447a7907eb0a"
      },
      "execution_count": null,
      "outputs": [
        {
          "output_type": "execute_result",
          "data": {
            "text/plain": [
              "<50000x88792 sparse matrix of type '<class 'numpy.float64'>'\n",
              "\twith 4508003 stored elements in Compressed Sparse Row format>"
            ]
          },
          "metadata": {},
          "execution_count": 58
        }
      ]
    },
    {
      "cell_type": "code",
      "source": [
        "nlp_df"
      ],
      "metadata": {
        "colab": {
          "base_uri": "https://localhost:8080/",
          "height": 419
        },
        "id": "RAQzyYdHkKuu",
        "outputId": "2691ba8e-df6c-44f2-bd15-92ad4848f4d4"
      },
      "execution_count": null,
      "outputs": [
        {
          "output_type": "execute_result",
          "data": {
            "text/plain": [
              "                                                  review sentiment  label\n",
              "0      One of the other reviewers has mentioned that ...  positive      1\n",
              "1      A wonderful little production. The filming tec...  positive      1\n",
              "2      I thought this was a wonderful way to spend ti...  positive      1\n",
              "3      Basically there's a family where a little boy ...  negative      0\n",
              "4      Petter Mattei's \"Love in the Time of Money\" is...  positive      1\n",
              "...                                                  ...       ...    ...\n",
              "49995  I thought this movie did a down right good job...  positive      1\n",
              "49996  Bad plot, bad dialogue, bad acting, idiotic di...  negative      0\n",
              "49997  I am a Catholic taught in parochial elementary...  negative      0\n",
              "49998  I'm going to have to disagree with the previou...  negative      0\n",
              "49999  No one expects the Star Trek movies to be high...  negative      0\n",
              "\n",
              "[50000 rows x 3 columns]"
            ],
            "text/html": [
              "\n",
              "  <div id=\"df-18000428-b985-4af5-9619-ad2f8fbcf44f\" class=\"colab-df-container\">\n",
              "    <div>\n",
              "<style scoped>\n",
              "    .dataframe tbody tr th:only-of-type {\n",
              "        vertical-align: middle;\n",
              "    }\n",
              "\n",
              "    .dataframe tbody tr th {\n",
              "        vertical-align: top;\n",
              "    }\n",
              "\n",
              "    .dataframe thead th {\n",
              "        text-align: right;\n",
              "    }\n",
              "</style>\n",
              "<table border=\"1\" class=\"dataframe\">\n",
              "  <thead>\n",
              "    <tr style=\"text-align: right;\">\n",
              "      <th></th>\n",
              "      <th>review</th>\n",
              "      <th>sentiment</th>\n",
              "      <th>label</th>\n",
              "    </tr>\n",
              "  </thead>\n",
              "  <tbody>\n",
              "    <tr>\n",
              "      <th>0</th>\n",
              "      <td>One of the other reviewers has mentioned that ...</td>\n",
              "      <td>positive</td>\n",
              "      <td>1</td>\n",
              "    </tr>\n",
              "    <tr>\n",
              "      <th>1</th>\n",
              "      <td>A wonderful little production. The filming tec...</td>\n",
              "      <td>positive</td>\n",
              "      <td>1</td>\n",
              "    </tr>\n",
              "    <tr>\n",
              "      <th>2</th>\n",
              "      <td>I thought this was a wonderful way to spend ti...</td>\n",
              "      <td>positive</td>\n",
              "      <td>1</td>\n",
              "    </tr>\n",
              "    <tr>\n",
              "      <th>3</th>\n",
              "      <td>Basically there's a family where a little boy ...</td>\n",
              "      <td>negative</td>\n",
              "      <td>0</td>\n",
              "    </tr>\n",
              "    <tr>\n",
              "      <th>4</th>\n",
              "      <td>Petter Mattei's \"Love in the Time of Money\" is...</td>\n",
              "      <td>positive</td>\n",
              "      <td>1</td>\n",
              "    </tr>\n",
              "    <tr>\n",
              "      <th>...</th>\n",
              "      <td>...</td>\n",
              "      <td>...</td>\n",
              "      <td>...</td>\n",
              "    </tr>\n",
              "    <tr>\n",
              "      <th>49995</th>\n",
              "      <td>I thought this movie did a down right good job...</td>\n",
              "      <td>positive</td>\n",
              "      <td>1</td>\n",
              "    </tr>\n",
              "    <tr>\n",
              "      <th>49996</th>\n",
              "      <td>Bad plot, bad dialogue, bad acting, idiotic di...</td>\n",
              "      <td>negative</td>\n",
              "      <td>0</td>\n",
              "    </tr>\n",
              "    <tr>\n",
              "      <th>49997</th>\n",
              "      <td>I am a Catholic taught in parochial elementary...</td>\n",
              "      <td>negative</td>\n",
              "      <td>0</td>\n",
              "    </tr>\n",
              "    <tr>\n",
              "      <th>49998</th>\n",
              "      <td>I'm going to have to disagree with the previou...</td>\n",
              "      <td>negative</td>\n",
              "      <td>0</td>\n",
              "    </tr>\n",
              "    <tr>\n",
              "      <th>49999</th>\n",
              "      <td>No one expects the Star Trek movies to be high...</td>\n",
              "      <td>negative</td>\n",
              "      <td>0</td>\n",
              "    </tr>\n",
              "  </tbody>\n",
              "</table>\n",
              "<p>50000 rows × 3 columns</p>\n",
              "</div>\n",
              "    <div class=\"colab-df-buttons\">\n",
              "\n",
              "  <div class=\"colab-df-container\">\n",
              "    <button class=\"colab-df-convert\" onclick=\"convertToInteractive('df-18000428-b985-4af5-9619-ad2f8fbcf44f')\"\n",
              "            title=\"Convert this dataframe to an interactive table.\"\n",
              "            style=\"display:none;\">\n",
              "\n",
              "  <svg xmlns=\"http://www.w3.org/2000/svg\" height=\"24px\" viewBox=\"0 -960 960 960\">\n",
              "    <path d=\"M120-120v-720h720v720H120Zm60-500h600v-160H180v160Zm220 220h160v-160H400v160Zm0 220h160v-160H400v160ZM180-400h160v-160H180v160Zm440 0h160v-160H620v160ZM180-180h160v-160H180v160Zm440 0h160v-160H620v160Z\"/>\n",
              "  </svg>\n",
              "    </button>\n",
              "\n",
              "  <style>\n",
              "    .colab-df-container {\n",
              "      display:flex;\n",
              "      gap: 12px;\n",
              "    }\n",
              "\n",
              "    .colab-df-convert {\n",
              "      background-color: #E8F0FE;\n",
              "      border: none;\n",
              "      border-radius: 50%;\n",
              "      cursor: pointer;\n",
              "      display: none;\n",
              "      fill: #1967D2;\n",
              "      height: 32px;\n",
              "      padding: 0 0 0 0;\n",
              "      width: 32px;\n",
              "    }\n",
              "\n",
              "    .colab-df-convert:hover {\n",
              "      background-color: #E2EBFA;\n",
              "      box-shadow: 0px 1px 2px rgba(60, 64, 67, 0.3), 0px 1px 3px 1px rgba(60, 64, 67, 0.15);\n",
              "      fill: #174EA6;\n",
              "    }\n",
              "\n",
              "    .colab-df-buttons div {\n",
              "      margin-bottom: 4px;\n",
              "    }\n",
              "\n",
              "    [theme=dark] .colab-df-convert {\n",
              "      background-color: #3B4455;\n",
              "      fill: #D2E3FC;\n",
              "    }\n",
              "\n",
              "    [theme=dark] .colab-df-convert:hover {\n",
              "      background-color: #434B5C;\n",
              "      box-shadow: 0px 1px 3px 1px rgba(0, 0, 0, 0.15);\n",
              "      filter: drop-shadow(0px 1px 2px rgba(0, 0, 0, 0.3));\n",
              "      fill: #FFFFFF;\n",
              "    }\n",
              "  </style>\n",
              "\n",
              "    <script>\n",
              "      const buttonEl =\n",
              "        document.querySelector('#df-18000428-b985-4af5-9619-ad2f8fbcf44f button.colab-df-convert');\n",
              "      buttonEl.style.display =\n",
              "        google.colab.kernel.accessAllowed ? 'block' : 'none';\n",
              "\n",
              "      async function convertToInteractive(key) {\n",
              "        const element = document.querySelector('#df-18000428-b985-4af5-9619-ad2f8fbcf44f');\n",
              "        const dataTable =\n",
              "          await google.colab.kernel.invokeFunction('convertToInteractive',\n",
              "                                                    [key], {});\n",
              "        if (!dataTable) return;\n",
              "\n",
              "        const docLinkHtml = 'Like what you see? Visit the ' +\n",
              "          '<a target=\"_blank\" href=https://colab.research.google.com/notebooks/data_table.ipynb>data table notebook</a>'\n",
              "          + ' to learn more about interactive tables.';\n",
              "        element.innerHTML = '';\n",
              "        dataTable['output_type'] = 'display_data';\n",
              "        await google.colab.output.renderOutput(dataTable, element);\n",
              "        const docLink = document.createElement('div');\n",
              "        docLink.innerHTML = docLinkHtml;\n",
              "        element.appendChild(docLink);\n",
              "      }\n",
              "    </script>\n",
              "  </div>\n",
              "\n",
              "\n",
              "<div id=\"df-b594fbb1-f5cc-41c4-8718-41383cf73fd5\">\n",
              "  <button class=\"colab-df-quickchart\" onclick=\"quickchart('df-b594fbb1-f5cc-41c4-8718-41383cf73fd5')\"\n",
              "            title=\"Suggest charts\"\n",
              "            style=\"display:none;\">\n",
              "\n",
              "<svg xmlns=\"http://www.w3.org/2000/svg\" height=\"24px\"viewBox=\"0 0 24 24\"\n",
              "     width=\"24px\">\n",
              "    <g>\n",
              "        <path d=\"M19 3H5c-1.1 0-2 .9-2 2v14c0 1.1.9 2 2 2h14c1.1 0 2-.9 2-2V5c0-1.1-.9-2-2-2zM9 17H7v-7h2v7zm4 0h-2V7h2v10zm4 0h-2v-4h2v4z\"/>\n",
              "    </g>\n",
              "</svg>\n",
              "  </button>\n",
              "\n",
              "<style>\n",
              "  .colab-df-quickchart {\n",
              "      --bg-color: #E8F0FE;\n",
              "      --fill-color: #1967D2;\n",
              "      --hover-bg-color: #E2EBFA;\n",
              "      --hover-fill-color: #174EA6;\n",
              "      --disabled-fill-color: #AAA;\n",
              "      --disabled-bg-color: #DDD;\n",
              "  }\n",
              "\n",
              "  [theme=dark] .colab-df-quickchart {\n",
              "      --bg-color: #3B4455;\n",
              "      --fill-color: #D2E3FC;\n",
              "      --hover-bg-color: #434B5C;\n",
              "      --hover-fill-color: #FFFFFF;\n",
              "      --disabled-bg-color: #3B4455;\n",
              "      --disabled-fill-color: #666;\n",
              "  }\n",
              "\n",
              "  .colab-df-quickchart {\n",
              "    background-color: var(--bg-color);\n",
              "    border: none;\n",
              "    border-radius: 50%;\n",
              "    cursor: pointer;\n",
              "    display: none;\n",
              "    fill: var(--fill-color);\n",
              "    height: 32px;\n",
              "    padding: 0;\n",
              "    width: 32px;\n",
              "  }\n",
              "\n",
              "  .colab-df-quickchart:hover {\n",
              "    background-color: var(--hover-bg-color);\n",
              "    box-shadow: 0 1px 2px rgba(60, 64, 67, 0.3), 0 1px 3px 1px rgba(60, 64, 67, 0.15);\n",
              "    fill: var(--button-hover-fill-color);\n",
              "  }\n",
              "\n",
              "  .colab-df-quickchart-complete:disabled,\n",
              "  .colab-df-quickchart-complete:disabled:hover {\n",
              "    background-color: var(--disabled-bg-color);\n",
              "    fill: var(--disabled-fill-color);\n",
              "    box-shadow: none;\n",
              "  }\n",
              "\n",
              "  .colab-df-spinner {\n",
              "    border: 2px solid var(--fill-color);\n",
              "    border-color: transparent;\n",
              "    border-bottom-color: var(--fill-color);\n",
              "    animation:\n",
              "      spin 1s steps(1) infinite;\n",
              "  }\n",
              "\n",
              "  @keyframes spin {\n",
              "    0% {\n",
              "      border-color: transparent;\n",
              "      border-bottom-color: var(--fill-color);\n",
              "      border-left-color: var(--fill-color);\n",
              "    }\n",
              "    20% {\n",
              "      border-color: transparent;\n",
              "      border-left-color: var(--fill-color);\n",
              "      border-top-color: var(--fill-color);\n",
              "    }\n",
              "    30% {\n",
              "      border-color: transparent;\n",
              "      border-left-color: var(--fill-color);\n",
              "      border-top-color: var(--fill-color);\n",
              "      border-right-color: var(--fill-color);\n",
              "    }\n",
              "    40% {\n",
              "      border-color: transparent;\n",
              "      border-right-color: var(--fill-color);\n",
              "      border-top-color: var(--fill-color);\n",
              "    }\n",
              "    60% {\n",
              "      border-color: transparent;\n",
              "      border-right-color: var(--fill-color);\n",
              "    }\n",
              "    80% {\n",
              "      border-color: transparent;\n",
              "      border-right-color: var(--fill-color);\n",
              "      border-bottom-color: var(--fill-color);\n",
              "    }\n",
              "    90% {\n",
              "      border-color: transparent;\n",
              "      border-bottom-color: var(--fill-color);\n",
              "    }\n",
              "  }\n",
              "</style>\n",
              "\n",
              "  <script>\n",
              "    async function quickchart(key) {\n",
              "      const quickchartButtonEl =\n",
              "        document.querySelector('#' + key + ' button');\n",
              "      quickchartButtonEl.disabled = true;  // To prevent multiple clicks.\n",
              "      quickchartButtonEl.classList.add('colab-df-spinner');\n",
              "      try {\n",
              "        const charts = await google.colab.kernel.invokeFunction(\n",
              "            'suggestCharts', [key], {});\n",
              "      } catch (error) {\n",
              "        console.error('Error during call to suggestCharts:', error);\n",
              "      }\n",
              "      quickchartButtonEl.classList.remove('colab-df-spinner');\n",
              "      quickchartButtonEl.classList.add('colab-df-quickchart-complete');\n",
              "    }\n",
              "    (() => {\n",
              "      let quickchartButtonEl =\n",
              "        document.querySelector('#df-b594fbb1-f5cc-41c4-8718-41383cf73fd5 button');\n",
              "      quickchartButtonEl.style.display =\n",
              "        google.colab.kernel.accessAllowed ? 'block' : 'none';\n",
              "    })();\n",
              "  </script>\n",
              "</div>\n",
              "    </div>\n",
              "  </div>\n"
            ]
          },
          "metadata": {},
          "execution_count": 59
        }
      ]
    },
    {
      "cell_type": "code",
      "source": [],
      "metadata": {
        "id": "gHHjyCwDjp54"
      },
      "execution_count": null,
      "outputs": []
    },
    {
      "cell_type": "markdown",
      "source": [
        "# Deep Learning"
      ],
      "metadata": {
        "id": "YOr29SA3pFUl"
      }
    },
    {
      "cell_type": "code",
      "source": [],
      "metadata": {
        "id": "3FeCkhICpE5i"
      },
      "execution_count": null,
      "outputs": []
    }
  ]
}